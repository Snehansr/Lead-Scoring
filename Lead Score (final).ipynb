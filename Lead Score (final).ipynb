{
 "cells": [
  {
   "cell_type": "markdown",
   "metadata": {},
   "source": [
    "An Edutech company sells online courses to industry professionals. When visitors come to the website and fill up\n",
    "a form providing their email address or phone number, they are classified as a lead. Once these leads are\n",
    "acquired, employees from the sales team start making calls, writing emails, etc. Through this process,\n",
    "some of the leads get converted while most do not. The typical lead conversion rate at the company is\n",
    "around 30%. Now, although the company gets a lot of leads, its lead conversion rate is very poor. The CEO\n",
    "wants to identify hot leads to get conversion rate of 80%. (Among the selected hot leads)"
   ]
  },
  {
   "cell_type": "code",
   "execution_count": 1,
   "metadata": {},
   "outputs": [],
   "source": [
    "# Imports\n",
    "import warnings\n",
    "warnings.filterwarnings('ignore')\n",
    "import pandas as pd\n",
    "import numpy as np\n",
    "import seaborn as sns\n",
    "import matplotlib.pyplot as plt\n",
    "from sklearn.model_selection import train_test_split\n",
    "from sklearn.linear_model import LogisticRegression\n",
    "from sklearn.preprocessing import StandardScaler\n",
    "import statsmodels.api as sm\n",
    "from sklearn import metrics\n",
    "from statsmodels.stats.outliers_influence import variance_inflation_factor\n",
    "%matplotlib inline"
   ]
  },
  {
   "cell_type": "code",
   "execution_count": 2,
   "metadata": {},
   "outputs": [],
   "source": [
    "# Load in the data\n",
    "df = pd.read_csv('Leads.csv')"
   ]
  },
  {
   "cell_type": "code",
   "execution_count": 3,
   "metadata": {},
   "outputs": [
    {
     "name": "stdout",
     "output_type": "stream",
     "text": [
      "(9240, 37)\n",
      "<class 'pandas.core.frame.DataFrame'>\n",
      "RangeIndex: 9240 entries, 0 to 9239\n",
      "Data columns (total 37 columns):\n",
      " #   Column                                         Non-Null Count  Dtype  \n",
      "---  ------                                         --------------  -----  \n",
      " 0   Prospect ID                                    9240 non-null   object \n",
      " 1   Lead Number                                    9240 non-null   int64  \n",
      " 2   Lead Origin                                    9240 non-null   object \n",
      " 3   Lead Source                                    9204 non-null   object \n",
      " 4   Do Not Email                                   9240 non-null   object \n",
      " 5   Do Not Call                                    9240 non-null   object \n",
      " 6   Converted                                      9240 non-null   int64  \n",
      " 7   TotalVisits                                    9103 non-null   float64\n",
      " 8   Total Time Spent on Website                    9240 non-null   int64  \n",
      " 9   Page Views Per Visit                           9103 non-null   float64\n",
      " 10  Last Activity                                  9137 non-null   object \n",
      " 11  Country                                        6779 non-null   object \n",
      " 12  Specialization                                 7802 non-null   object \n",
      " 13  How did you hear about X Education             7033 non-null   object \n",
      " 14  What is your current occupation                6550 non-null   object \n",
      " 15  What matters most to you in choosing a course  6531 non-null   object \n",
      " 16  Search                                         9240 non-null   object \n",
      " 17  Magazine                                       9240 non-null   object \n",
      " 18  Newspaper Article                              9240 non-null   object \n",
      " 19  X Education Forums                             9240 non-null   object \n",
      " 20  Newspaper                                      9240 non-null   object \n",
      " 21  Digital Advertisement                          9240 non-null   object \n",
      " 22  Through Recommendations                        9240 non-null   object \n",
      " 23  Receive More Updates About Our Courses         9240 non-null   object \n",
      " 24  Tags                                           5887 non-null   object \n",
      " 25  Lead Quality                                   4473 non-null   object \n",
      " 26  Update me on Supply Chain Content              9240 non-null   object \n",
      " 27  Get updates on DM Content                      9240 non-null   object \n",
      " 28  Lead Profile                                   6531 non-null   object \n",
      " 29  City                                           7820 non-null   object \n",
      " 30  Asymmetrique Activity Index                    5022 non-null   object \n",
      " 31  Asymmetrique Profile Index                     5022 non-null   object \n",
      " 32  Asymmetrique Activity Score                    5022 non-null   float64\n",
      " 33  Asymmetrique Profile Score                     5022 non-null   float64\n",
      " 34  I agree to pay the amount through cheque       9240 non-null   object \n",
      " 35  A free copy of Mastering The Interview         9240 non-null   object \n",
      " 36  Last Notable Activity                          9240 non-null   object \n",
      "dtypes: float64(4), int64(3), object(30)\n",
      "memory usage: 2.6+ MB\n"
     ]
    }
   ],
   "source": [
    "#Sanity Check\n",
    "print(df.shape)\n",
    "df.info()"
   ]
  },
  {
   "cell_type": "markdown",
   "metadata": {},
   "source": [
    "#### Many of the features have too long names. It is better to rename them to short forms"
   ]
  },
  {
   "cell_type": "code",
   "execution_count": 4,
   "metadata": {},
   "outputs": [],
   "source": [
    "#Making long feature names short\n",
    "df.rename(columns={'Total Time Spent on Website': 'TimeSpent', \n",
    "                   'Page Views Per Visit': 'PageView', \n",
    "                   'How did you hear about X Education': 'HearAboutX',\n",
    "                  'What is your current occupation':'CurrentOccupation',\n",
    "                  'What matters most to you in choosing a course': 'MattersMost',\n",
    "                  'Newspaper Article':'PaperArticle',\n",
    "                  'Digital Advertisement':'DigitalAd',\n",
    "                  'Receive More Updates About Our Courses':'GetMoreUpdate',\n",
    "                  'I agree to pay the amount through cheque':'payByCheque',\n",
    "                  'A free copy of Mastering The Interview':'Interview',\n",
    "                  'X Education Forums':'Forum',\n",
    "                  'Last Notable Activity':'LastNotableActivity',\n",
    "                  'Through Recommendations':'ThroughRecom',\n",
    "                  'Do Not Email':'NoEmail',\n",
    "                  'Do Not Call':'NoCall'}, inplace=True)"
   ]
  },
  {
   "cell_type": "markdown",
   "metadata": {},
   "source": [
    "### Checking for missing values"
   ]
  },
  {
   "cell_type": "code",
   "execution_count": 5,
   "metadata": {
    "scrolled": true
   },
   "outputs": [
    {
     "data": {
      "text/plain": [
       "Prospect ID                             0\n",
       "Lead Number                             0\n",
       "Lead Origin                             0\n",
       "Lead Source                            36\n",
       "NoEmail                                 0\n",
       "NoCall                                  0\n",
       "Converted                               0\n",
       "TotalVisits                           137\n",
       "TimeSpent                               0\n",
       "PageView                              137\n",
       "Last Activity                         103\n",
       "Country                              2461\n",
       "Specialization                       1438\n",
       "HearAboutX                           2207\n",
       "CurrentOccupation                    2690\n",
       "MattersMost                          2709\n",
       "Search                                  0\n",
       "Magazine                                0\n",
       "PaperArticle                            0\n",
       "Forum                                   0\n",
       "Newspaper                               0\n",
       "DigitalAd                               0\n",
       "ThroughRecom                            0\n",
       "GetMoreUpdate                           0\n",
       "Tags                                 3353\n",
       "Lead Quality                         4767\n",
       "Update me on Supply Chain Content       0\n",
       "Get updates on DM Content               0\n",
       "Lead Profile                         2709\n",
       "City                                 1420\n",
       "Asymmetrique Activity Index          4218\n",
       "Asymmetrique Profile Index           4218\n",
       "Asymmetrique Activity Score          4218\n",
       "Asymmetrique Profile Score           4218\n",
       "payByCheque                             0\n",
       "Interview                               0\n",
       "LastNotableActivity                     0\n",
       "dtype: int64"
      ]
     },
     "execution_count": 5,
     "metadata": {},
     "output_type": "execute_result"
    }
   ],
   "source": [
    "df.isnull().sum()"
   ]
  },
  {
   "cell_type": "code",
   "execution_count": 6,
   "metadata": {},
   "outputs": [
    {
     "data": {
      "text/plain": [
       "Prospect ID                           0.000000\n",
       "Lead Number                           0.000000\n",
       "Lead Origin                           0.000000\n",
       "Lead Source                           0.389610\n",
       "NoEmail                               0.000000\n",
       "NoCall                                0.000000\n",
       "Converted                             0.000000\n",
       "TotalVisits                           1.482684\n",
       "TimeSpent                             0.000000\n",
       "PageView                              1.482684\n",
       "Last Activity                         1.114719\n",
       "Country                              26.634199\n",
       "Specialization                       15.562771\n",
       "HearAboutX                           23.885281\n",
       "CurrentOccupation                    29.112554\n",
       "MattersMost                          29.318182\n",
       "Search                                0.000000\n",
       "Magazine                              0.000000\n",
       "PaperArticle                          0.000000\n",
       "Forum                                 0.000000\n",
       "Newspaper                             0.000000\n",
       "DigitalAd                             0.000000\n",
       "ThroughRecom                          0.000000\n",
       "GetMoreUpdate                         0.000000\n",
       "Tags                                 36.287879\n",
       "Lead Quality                         51.590909\n",
       "Update me on Supply Chain Content     0.000000\n",
       "Get updates on DM Content             0.000000\n",
       "Lead Profile                         29.318182\n",
       "City                                 15.367965\n",
       "Asymmetrique Activity Index          45.649351\n",
       "Asymmetrique Profile Index           45.649351\n",
       "Asymmetrique Activity Score          45.649351\n",
       "Asymmetrique Profile Score           45.649351\n",
       "payByCheque                           0.000000\n",
       "Interview                             0.000000\n",
       "LastNotableActivity                   0.000000\n",
       "dtype: float64"
      ]
     },
     "execution_count": 6,
     "metadata": {},
     "output_type": "execute_result"
    }
   ],
   "source": [
    "# Checking the missing value percentage for each column\n",
    "df.isnull().sum()*100/len(df)"
   ]
  },
  {
   "cell_type": "markdown",
   "metadata": {},
   "source": [
    "### Many features have a lot of missing values. Lets see if we can impute them."
   ]
  },
  {
   "cell_type": "code",
   "execution_count": 7,
   "metadata": {},
   "outputs": [
    {
     "data": {
      "text/plain": [
       "Country\n",
       "Asia/Pacific Region        2\n",
       "Australia                 13\n",
       "Bahrain                    7\n",
       "Bangladesh                 2\n",
       "Belgium                    2\n",
       "Canada                     4\n",
       "China                      2\n",
       "Denmark                    1\n",
       "France                     6\n",
       "Germany                    4\n",
       "Ghana                      2\n",
       "Hong Kong                  7\n",
       "India                   6492\n",
       "Indonesia                  1\n",
       "Italy                      2\n",
       "Kenya                      1\n",
       "Kuwait                     4\n",
       "Liberia                    1\n",
       "Malaysia                   1\n",
       "Netherlands                2\n",
       "Nigeria                    4\n",
       "Oman                       6\n",
       "Philippines                2\n",
       "Qatar                     10\n",
       "Russia                     1\n",
       "Saudi Arabia              21\n",
       "Singapore                 24\n",
       "South Africa               4\n",
       "Sri Lanka                  1\n",
       "Sweden                     3\n",
       "Switzerland                1\n",
       "Tanzania                   1\n",
       "Uganda                     2\n",
       "United Arab Emirates      53\n",
       "United Kingdom            15\n",
       "United States             69\n",
       "Vietnam                    1\n",
       "unknown                    5\n",
       "Name: Converted, dtype: int64"
      ]
     },
     "execution_count": 7,
     "metadata": {},
     "output_type": "execute_result"
    }
   ],
   "source": [
    "#Checking the number of possible leads for every countries\n",
    "country_val = df.groupby(['Country'])['Converted'].count()\n",
    "country_val"
   ]
  },
  {
   "cell_type": "markdown",
   "metadata": {},
   "source": [
    "### India has the largest number of possible leads. It is because India is the main market for this company."
   ]
  },
  {
   "cell_type": "code",
   "execution_count": 8,
   "metadata": {},
   "outputs": [
    {
     "data": {
      "text/plain": [
       "2461"
      ]
     },
     "execution_count": 8,
     "metadata": {},
     "output_type": "execute_result"
    }
   ],
   "source": [
    "#Checking for missing values in Country\n",
    "df['Country'].isnull().sum()"
   ]
  },
  {
   "cell_type": "code",
   "execution_count": 9,
   "metadata": {},
   "outputs": [],
   "source": [
    "#Replace missing values in country column by 'unknown'\n",
    "df['Country'].fillna('unknown', inplace=True)"
   ]
  },
  {
   "cell_type": "code",
   "execution_count": 10,
   "metadata": {},
   "outputs": [
    {
     "data": {
      "text/plain": [
       "Specialization\n",
       "Banking, Investment And Insurance     338\n",
       "Business Administration               403\n",
       "E-Business                             57\n",
       "E-COMMERCE                            112\n",
       "Finance Management                    976\n",
       "Healthcare Management                 159\n",
       "Hospitality Management                114\n",
       "Human Resource Management             848\n",
       "IT Projects Management                366\n",
       "International Business                178\n",
       "Marketing Management                  838\n",
       "Media and Advertising                 203\n",
       "Operations Management                 503\n",
       "Retail Management                     100\n",
       "Rural and Agribusiness                 73\n",
       "Select                               1942\n",
       "Services Excellence                    40\n",
       "Supply Chain Management               349\n",
       "Travel and Tourism                    203\n",
       "Name: Converted, dtype: int64"
      ]
     },
     "execution_count": 10,
     "metadata": {},
     "output_type": "execute_result"
    }
   ],
   "source": [
    "Specialization_values = df.groupby(['Specialization'])['Converted'].count()\n",
    "Specialization_values"
   ]
  },
  {
   "cell_type": "code",
   "execution_count": 11,
   "metadata": {},
   "outputs": [],
   "source": [
    "#In the 'Specialization' attribute, there are 1942 observations with Select value and 1438 observations with missing value. \n",
    "#We assume that the respondents didn't select any value of this variable. \n",
    "#This is applicable for other variables that have value 'Select'. So we are replacing these observations with 'Not Given'.\n",
    "df['Specialization'].fillna('Not Given', inplace=True)\n",
    "df.replace('Select','Not Given',inplace=True ) #replace all 'select' value with 'not given'"
   ]
  },
  {
   "cell_type": "code",
   "execution_count": 12,
   "metadata": {},
   "outputs": [
    {
     "data": {
      "text/plain": [
       "Prospect ID                           0.000000\n",
       "Lead Number                           0.000000\n",
       "Lead Origin                           0.000000\n",
       "Lead Source                           0.389610\n",
       "NoEmail                               0.000000\n",
       "NoCall                                0.000000\n",
       "Converted                             0.000000\n",
       "TotalVisits                           1.482684\n",
       "TimeSpent                             0.000000\n",
       "PageView                              1.482684\n",
       "Last Activity                         1.114719\n",
       "Country                               0.000000\n",
       "Specialization                        0.000000\n",
       "HearAboutX                           23.885281\n",
       "CurrentOccupation                    29.112554\n",
       "MattersMost                          29.318182\n",
       "Search                                0.000000\n",
       "Magazine                              0.000000\n",
       "PaperArticle                          0.000000\n",
       "Forum                                 0.000000\n",
       "Newspaper                             0.000000\n",
       "DigitalAd                             0.000000\n",
       "ThroughRecom                          0.000000\n",
       "GetMoreUpdate                         0.000000\n",
       "Tags                                 36.287879\n",
       "Lead Quality                         51.590909\n",
       "Update me on Supply Chain Content     0.000000\n",
       "Get updates on DM Content             0.000000\n",
       "Lead Profile                         29.318182\n",
       "City                                 15.367965\n",
       "Asymmetrique Activity Index          45.649351\n",
       "Asymmetrique Profile Index           45.649351\n",
       "Asymmetrique Activity Score          45.649351\n",
       "Asymmetrique Profile Score           45.649351\n",
       "payByCheque                           0.000000\n",
       "Interview                             0.000000\n",
       "LastNotableActivity                   0.000000\n",
       "dtype: float64"
      ]
     },
     "execution_count": 12,
     "metadata": {},
     "output_type": "execute_result"
    }
   ],
   "source": [
    "df.isnull().sum()*100/len(df)"
   ]
  },
  {
   "cell_type": "code",
   "execution_count": 13,
   "metadata": {},
   "outputs": [
    {
     "data": {
      "text/plain": [
       "array(['Not Given', 'Mumbai', nan, 'Thane & Outskirts',\n",
       "       'Other Metro Cities', 'Other Cities',\n",
       "       'Other Cities of Maharashtra', 'Tier II Cities'], dtype=object)"
      ]
     },
     "execution_count": 13,
     "metadata": {},
     "output_type": "execute_result"
    }
   ],
   "source": [
    "# Checking for unique categories in City\n",
    "df['City'].unique()"
   ]
  },
  {
   "cell_type": "code",
   "execution_count": 14,
   "metadata": {},
   "outputs": [],
   "source": [
    "#Replace missing values in City attribute by 'unknown'\n",
    "df['City'].fillna('Not Given',inplace=True)"
   ]
  },
  {
   "cell_type": "code",
   "execution_count": 15,
   "metadata": {},
   "outputs": [
    {
     "data": {
      "text/plain": [
       "array(['Not Given', 'Mumbai', 'Thane & Outskirts', 'Other Metro Cities',\n",
       "       'Other Cities', 'Other Cities of Maharashtra', 'Tier II Cities'],\n",
       "      dtype=object)"
      ]
     },
     "execution_count": 15,
     "metadata": {},
     "output_type": "execute_result"
    }
   ],
   "source": [
    "df['City'].unique()"
   ]
  },
  {
   "cell_type": "code",
   "execution_count": 16,
   "metadata": {},
   "outputs": [
    {
     "data": {
      "text/plain": [
       "City\n",
       "Mumbai                         3222\n",
       "Not Given                      3669\n",
       "Other Cities                    686\n",
       "Other Cities of Maharashtra     457\n",
       "Other Metro Cities              380\n",
       "Thane & Outskirts               752\n",
       "Tier II Cities                   74\n",
       "Name: Converted, dtype: int64"
      ]
     },
     "execution_count": 16,
     "metadata": {},
     "output_type": "execute_result"
    }
   ],
   "source": [
    "df.groupby(['City'])['Converted'].count()"
   ]
  },
  {
   "cell_type": "markdown",
   "metadata": {},
   "source": [
    "### Its better to put all the other cities except Mumbai and unknown in Tier II cities "
   ]
  },
  {
   "cell_type": "code",
   "execution_count": 17,
   "metadata": {},
   "outputs": [],
   "source": [
    "df['City'].replace(['Thane & Outskirts','Other Cities of Maharashtra','Other Cities','Other Metro Cities'],'Tier II Cities',inplace=True)"
   ]
  },
  {
   "cell_type": "code",
   "execution_count": 18,
   "metadata": {},
   "outputs": [
    {
     "data": {
      "text/plain": [
       "array(['Not Given', 'Mumbai', 'Tier II Cities'], dtype=object)"
      ]
     },
     "execution_count": 18,
     "metadata": {},
     "output_type": "execute_result"
    }
   ],
   "source": [
    "df['City'].unique()"
   ]
  },
  {
   "cell_type": "code",
   "execution_count": 19,
   "metadata": {},
   "outputs": [
    {
     "data": {
      "text/plain": [
       "0"
      ]
     },
     "execution_count": 19,
     "metadata": {},
     "output_type": "execute_result"
    }
   ],
   "source": [
    "df.City.isnull().sum()"
   ]
  },
  {
   "cell_type": "code",
   "execution_count": 20,
   "metadata": {},
   "outputs": [
    {
     "data": {
      "text/plain": [
       "36"
      ]
     },
     "execution_count": 20,
     "metadata": {},
     "output_type": "execute_result"
    }
   ],
   "source": [
    "df['Lead Source'].isnull().sum()"
   ]
  },
  {
   "cell_type": "code",
   "execution_count": 21,
   "metadata": {},
   "outputs": [
    {
     "data": {
      "text/plain": [
       "21"
      ]
     },
     "execution_count": 21,
     "metadata": {},
     "output_type": "execute_result"
    }
   ],
   "source": [
    "df['Lead Source'].nunique()"
   ]
  },
  {
   "cell_type": "code",
   "execution_count": 22,
   "metadata": {},
   "outputs": [
    {
     "data": {
      "text/plain": [
       "Lead Source\n",
       "Click2call              4\n",
       "Direct Traffic       2543\n",
       "Facebook               55\n",
       "Google               2868\n",
       "Live Chat               2\n",
       "NC_EDM                  1\n",
       "Olark Chat           1755\n",
       "Organic Search       1154\n",
       "Pay per Click Ads       1\n",
       "Press_Release           2\n",
       "Reference             534\n",
       "Referral Sites        125\n",
       "Social Media            2\n",
       "WeLearn                 1\n",
       "Welingak Website      142\n",
       "bing                    6\n",
       "blog                    1\n",
       "google                  5\n",
       "testone                 1\n",
       "welearnblog_Home        1\n",
       "youtubechannel          1\n",
       "Name: Converted, dtype: int64"
      ]
     },
     "execution_count": 22,
     "metadata": {},
     "output_type": "execute_result"
    }
   ],
   "source": [
    "df.groupby(['Lead Source'])['Converted'].count()"
   ]
  },
  {
   "cell_type": "markdown",
   "metadata": {},
   "source": [
    "### Mode is Google. So we impute the missing values with Google"
   ]
  },
  {
   "cell_type": "code",
   "execution_count": 23,
   "metadata": {},
   "outputs": [],
   "source": [
    "df['Lead Source'].fillna('Google',inplace=True)"
   ]
  },
  {
   "cell_type": "code",
   "execution_count": 24,
   "metadata": {},
   "outputs": [
    {
     "data": {
      "text/plain": [
       "0"
      ]
     },
     "execution_count": 24,
     "metadata": {},
     "output_type": "execute_result"
    }
   ],
   "source": [
    "df['Lead Source'].isnull().sum()"
   ]
  },
  {
   "cell_type": "code",
   "execution_count": 25,
   "metadata": {},
   "outputs": [
    {
     "data": {
      "text/plain": [
       "Prospect ID                             0\n",
       "Lead Number                             0\n",
       "Lead Origin                             0\n",
       "Lead Source                             0\n",
       "NoEmail                                 0\n",
       "NoCall                                  0\n",
       "Converted                               0\n",
       "TotalVisits                           137\n",
       "TimeSpent                               0\n",
       "PageView                              137\n",
       "Last Activity                         103\n",
       "Country                                 0\n",
       "Specialization                          0\n",
       "HearAboutX                           2207\n",
       "CurrentOccupation                    2690\n",
       "MattersMost                          2709\n",
       "Search                                  0\n",
       "Magazine                                0\n",
       "PaperArticle                            0\n",
       "Forum                                   0\n",
       "Newspaper                               0\n",
       "DigitalAd                               0\n",
       "ThroughRecom                            0\n",
       "GetMoreUpdate                           0\n",
       "Tags                                 3353\n",
       "Lead Quality                         4767\n",
       "Update me on Supply Chain Content       0\n",
       "Get updates on DM Content               0\n",
       "Lead Profile                         2709\n",
       "City                                    0\n",
       "Asymmetrique Activity Index          4218\n",
       "Asymmetrique Profile Index           4218\n",
       "Asymmetrique Activity Score          4218\n",
       "Asymmetrique Profile Score           4218\n",
       "payByCheque                             0\n",
       "Interview                               0\n",
       "LastNotableActivity                     0\n",
       "dtype: int64"
      ]
     },
     "execution_count": 25,
     "metadata": {},
     "output_type": "execute_result"
    }
   ],
   "source": [
    "df.isnull().sum()"
   ]
  },
  {
   "cell_type": "code",
   "execution_count": 26,
   "metadata": {},
   "outputs": [
    {
     "data": {
      "text/plain": [
       "Last Activity\n",
       "Approached upfront                 9\n",
       "Converted to Lead                428\n",
       "Email Bounced                    326\n",
       "Email Link Clicked               267\n",
       "Email Marked Spam                  2\n",
       "Email Opened                    3437\n",
       "Email Received                     2\n",
       "Form Submitted on Website        116\n",
       "Had a Phone Conversation          30\n",
       "Olark Chat Conversation          973\n",
       "Page Visited on Website          640\n",
       "Resubscribed to emails             1\n",
       "SMS Sent                        2745\n",
       "Unreachable                       93\n",
       "Unsubscribed                      61\n",
       "View in browser link Clicked       6\n",
       "Visited Booth in Tradeshow         1\n",
       "Name: Converted, dtype: int64"
      ]
     },
     "execution_count": 26,
     "metadata": {},
     "output_type": "execute_result"
    }
   ],
   "source": [
    "df.groupby(['Last Activity'])['Converted'].count()"
   ]
  },
  {
   "cell_type": "code",
   "execution_count": 27,
   "metadata": {},
   "outputs": [
    {
     "data": {
      "text/plain": [
       "0"
      ]
     },
     "execution_count": 27,
     "metadata": {},
     "output_type": "execute_result"
    }
   ],
   "source": [
    "df['LastNotableActivity'].isnull().sum()"
   ]
  },
  {
   "cell_type": "code",
   "execution_count": 28,
   "metadata": {},
   "outputs": [
    {
     "data": {
      "text/plain": [
       "array(['Modified', 'Email Opened', 'Page Visited on Website',\n",
       "       'Email Bounced', 'Email Link Clicked', 'Unreachable',\n",
       "       'Unsubscribed', 'Had a Phone Conversation',\n",
       "       'Olark Chat Conversation', 'SMS Sent', 'Approached upfront',\n",
       "       'Resubscribed to emails', 'View in browser link Clicked',\n",
       "       'Form Submitted on Website', 'Email Received', 'Email Marked Spam'],\n",
       "      dtype=object)"
      ]
     },
     "execution_count": 28,
     "metadata": {},
     "output_type": "execute_result"
    }
   ],
   "source": [
    "df['LastNotableActivity'].unique()"
   ]
  },
  {
   "cell_type": "markdown",
   "metadata": {},
   "source": [
    "### Last Notable Activity can replace Last Activity"
   ]
  },
  {
   "cell_type": "code",
   "execution_count": 29,
   "metadata": {},
   "outputs": [
    {
     "data": {
      "text/plain": [
       "TotalVisits\n",
       "0.0      2189\n",
       "1.0       395\n",
       "2.0      1680\n",
       "3.0      1306\n",
       "4.0      1120\n",
       "5.0       783\n",
       "6.0       466\n",
       "7.0       309\n",
       "8.0       224\n",
       "9.0       164\n",
       "10.0      114\n",
       "11.0       86\n",
       "12.0       45\n",
       "13.0       48\n",
       "14.0       36\n",
       "15.0       18\n",
       "16.0       21\n",
       "17.0       16\n",
       "18.0       15\n",
       "19.0        9\n",
       "20.0       12\n",
       "21.0        6\n",
       "22.0        3\n",
       "23.0        6\n",
       "24.0        5\n",
       "25.0        5\n",
       "26.0        2\n",
       "27.0        5\n",
       "28.0        2\n",
       "29.0        2\n",
       "30.0        1\n",
       "32.0        1\n",
       "41.0        1\n",
       "42.0        1\n",
       "43.0        1\n",
       "54.0        1\n",
       "55.0        1\n",
       "74.0        1\n",
       "115.0       1\n",
       "141.0       1\n",
       "251.0       1\n",
       "Name: Converted, dtype: int64"
      ]
     },
     "execution_count": 29,
     "metadata": {},
     "output_type": "execute_result"
    }
   ],
   "source": [
    "df.groupby(['TotalVisits'])['Converted'].count()"
   ]
  },
  {
   "cell_type": "markdown",
   "metadata": {},
   "source": [
    "### We fill the missing values of TotalVisits with mode 0"
   ]
  },
  {
   "cell_type": "code",
   "execution_count": 30,
   "metadata": {},
   "outputs": [],
   "source": [
    "df['TotalVisits'].fillna(0.0,inplace=True)"
   ]
  },
  {
   "cell_type": "code",
   "execution_count": 31,
   "metadata": {},
   "outputs": [],
   "source": [
    "df['TotalVisits'] = df['TotalVisits'].astype(int)"
   ]
  },
  {
   "cell_type": "code",
   "execution_count": 32,
   "metadata": {},
   "outputs": [],
   "source": [
    "# We convert Total visits into strings/categorical\n",
    "df['TotalVisits'] = df['TotalVisits'].astype(str)"
   ]
  },
  {
   "cell_type": "code",
   "execution_count": 33,
   "metadata": {},
   "outputs": [
    {
     "data": {
      "text/plain": [
       "array(['0', '5', '2', '1', '4', '8', '11', '6', '3', '7', '13', '17', '9',\n",
       "       '12', '10', '16', '14', '21', '15', '22', '19', '18', '20', '43',\n",
       "       '30', '23', '55', '141', '25', '27', '29', '24', '28', '26', '74',\n",
       "       '41', '54', '115', '251', '32', '42'], dtype=object)"
      ]
     },
     "execution_count": 33,
     "metadata": {},
     "output_type": "execute_result"
    }
   ],
   "source": [
    "df['TotalVisits'].unique()"
   ]
  },
  {
   "cell_type": "code",
   "execution_count": 34,
   "metadata": {},
   "outputs": [],
   "source": [
    "df['HearAboutX'].fillna('Unknown',inplace=True)"
   ]
  },
  {
   "cell_type": "code",
   "execution_count": 35,
   "metadata": {},
   "outputs": [],
   "source": [
    "df['CurrentOccupation'].fillna('Not Given', inplace=True)\n",
    "df['MattersMost'].fillna('Not Given', inplace=True)"
   ]
  },
  {
   "cell_type": "code",
   "execution_count": 36,
   "metadata": {},
   "outputs": [
    {
     "data": {
      "text/plain": [
       "Lead Profile\n",
       "Dual Specialization Student      20\n",
       "Lateral Student                  24\n",
       "Not Given                      4146\n",
       "Other Leads                     487\n",
       "Potential Lead                 1613\n",
       "Student of SomeSchool           241\n",
       "Name: Converted, dtype: int64"
      ]
     },
     "execution_count": 36,
     "metadata": {},
     "output_type": "execute_result"
    }
   ],
   "source": [
    "df.groupby(['Lead Profile'])['Converted'].count()"
   ]
  },
  {
   "cell_type": "code",
   "execution_count": 38,
   "metadata": {},
   "outputs": [],
   "source": [
    "df['Lead Profile'].fillna('Not Given', inplace=True)"
   ]
  },
  {
   "cell_type": "code",
   "execution_count": 39,
   "metadata": {},
   "outputs": [
    {
     "data": {
      "text/plain": [
       "Lead Origin              0\n",
       "Lead Source              0\n",
       "NoEmail                  0\n",
       "NoCall                   0\n",
       "Converted                0\n",
       "TotalVisits              0\n",
       "TimeSpent                0\n",
       "PageView               137\n",
       "Country                  0\n",
       "Specialization           0\n",
       "HearAboutX               0\n",
       "CurrentOccupation        0\n",
       "MattersMost              0\n",
       "Search                   0\n",
       "PaperArticle             0\n",
       "Forum                    0\n",
       "Newspaper                0\n",
       "DigitalAd                0\n",
       "ThroughRecom             0\n",
       "Lead Profile             0\n",
       "City                     0\n",
       "Interview                0\n",
       "LastNotableActivity      0\n",
       "dtype: int64"
      ]
     },
     "execution_count": 39,
     "metadata": {},
     "output_type": "execute_result"
    }
   ],
   "source": [
    "#We can drop some unnecessary variables after checking the data dictionary..\n",
    "df_final = df.drop(['Prospect ID', 'Lead Number', 'Tags','Asymmetrique Activity Index', \n",
    "                    'Asymmetrique Profile Index','Asymmetrique Activity Score',\n",
    "                    'Asymmetrique Profile Score', 'Lead Quality', \n",
    "                    'Update me on Supply Chain Content', 'Get updates on DM Content','payByCheque', 'GetMoreUpdate', 'Last Activity','Magazine'], axis=1)\n",
    "df_final.isnull().sum()"
   ]
  },
  {
   "cell_type": "code",
   "execution_count": 40,
   "metadata": {},
   "outputs": [],
   "source": [
    "df_final['PageView'].fillna(df_final['PageView'].mean(),inplace=True)"
   ]
  },
  {
   "cell_type": "code",
   "execution_count": 41,
   "metadata": {},
   "outputs": [
    {
     "data": {
      "text/plain": [
       "Lead Origin            0\n",
       "Lead Source            0\n",
       "NoEmail                0\n",
       "NoCall                 0\n",
       "Converted              0\n",
       "TotalVisits            0\n",
       "TimeSpent              0\n",
       "PageView               0\n",
       "Country                0\n",
       "Specialization         0\n",
       "HearAboutX             0\n",
       "CurrentOccupation      0\n",
       "MattersMost            0\n",
       "Search                 0\n",
       "PaperArticle           0\n",
       "Forum                  0\n",
       "Newspaper              0\n",
       "DigitalAd              0\n",
       "ThroughRecom           0\n",
       "Lead Profile           0\n",
       "City                   0\n",
       "Interview              0\n",
       "LastNotableActivity    0\n",
       "dtype: int64"
      ]
     },
     "execution_count": 41,
     "metadata": {},
     "output_type": "execute_result"
    }
   ],
   "source": [
    "df_final.isnull().sum()"
   ]
  },
  {
   "cell_type": "code",
   "execution_count": 42,
   "metadata": {},
   "outputs": [
    {
     "name": "stdout",
     "output_type": "stream",
     "text": [
      "<class 'pandas.core.frame.DataFrame'>\n",
      "RangeIndex: 9240 entries, 0 to 9239\n",
      "Data columns (total 23 columns):\n",
      " #   Column               Non-Null Count  Dtype  \n",
      "---  ------               --------------  -----  \n",
      " 0   Lead Origin          9240 non-null   object \n",
      " 1   Lead Source          9240 non-null   object \n",
      " 2   NoEmail              9240 non-null   object \n",
      " 3   NoCall               9240 non-null   object \n",
      " 4   Converted            9240 non-null   int64  \n",
      " 5   TotalVisits          9240 non-null   object \n",
      " 6   TimeSpent            9240 non-null   int64  \n",
      " 7   PageView             9240 non-null   float64\n",
      " 8   Country              9240 non-null   object \n",
      " 9   Specialization       9240 non-null   object \n",
      " 10  HearAboutX           9240 non-null   object \n",
      " 11  CurrentOccupation    9240 non-null   object \n",
      " 12  MattersMost          9240 non-null   object \n",
      " 13  Search               9240 non-null   object \n",
      " 14  PaperArticle         9240 non-null   object \n",
      " 15  Forum                9240 non-null   object \n",
      " 16  Newspaper            9240 non-null   object \n",
      " 17  DigitalAd            9240 non-null   object \n",
      " 18  ThroughRecom         9240 non-null   object \n",
      " 19  Lead Profile         9240 non-null   object \n",
      " 20  City                 9240 non-null   object \n",
      " 21  Interview            9240 non-null   object \n",
      " 22  LastNotableActivity  9240 non-null   object \n",
      "dtypes: float64(1), int64(2), object(20)\n",
      "memory usage: 1.6+ MB\n"
     ]
    }
   ],
   "source": [
    "df_final.info()"
   ]
  },
  {
   "cell_type": "code",
   "execution_count": 43,
   "metadata": {},
   "outputs": [
    {
     "data": {
      "text/plain": [
       "array(['unknown', 'India', 'Russia', 'Kuwait', 'Oman',\n",
       "       'United Arab Emirates', 'United States', 'Australia',\n",
       "       'United Kingdom', 'Bahrain', 'Ghana', 'Singapore', 'Qatar',\n",
       "       'Saudi Arabia', 'Belgium', 'France', 'Sri Lanka', 'China',\n",
       "       'Canada', 'Netherlands', 'Sweden', 'Nigeria', 'Hong Kong',\n",
       "       'Germany', 'Asia/Pacific Region', 'Uganda', 'Kenya', 'Italy',\n",
       "       'South Africa', 'Tanzania', 'Malaysia', 'Liberia', 'Switzerland',\n",
       "       'Denmark', 'Philippines', 'Bangladesh', 'Vietnam', 'Indonesia'],\n",
       "      dtype=object)"
      ]
     },
     "execution_count": 43,
     "metadata": {},
     "output_type": "execute_result"
    }
   ],
   "source": [
    "df_final['Country'].unique()"
   ]
  },
  {
   "cell_type": "code",
   "execution_count": 44,
   "metadata": {},
   "outputs": [
    {
     "data": {
      "text/plain": [
       "Country\n",
       "Asia/Pacific Region        2\n",
       "Australia                 13\n",
       "Bahrain                    7\n",
       "Bangladesh                 2\n",
       "Belgium                    2\n",
       "Canada                     4\n",
       "China                      2\n",
       "Denmark                    1\n",
       "France                     6\n",
       "Germany                    4\n",
       "Ghana                      2\n",
       "Hong Kong                  7\n",
       "India                   6492\n",
       "Indonesia                  1\n",
       "Italy                      2\n",
       "Kenya                      1\n",
       "Kuwait                     4\n",
       "Liberia                    1\n",
       "Malaysia                   1\n",
       "Netherlands                2\n",
       "Nigeria                    4\n",
       "Oman                       6\n",
       "Philippines                2\n",
       "Qatar                     10\n",
       "Russia                     1\n",
       "Saudi Arabia              21\n",
       "Singapore                 24\n",
       "South Africa               4\n",
       "Sri Lanka                  1\n",
       "Sweden                     3\n",
       "Switzerland                1\n",
       "Tanzania                   1\n",
       "Uganda                     2\n",
       "United Arab Emirates      53\n",
       "United Kingdom            15\n",
       "United States             69\n",
       "Vietnam                    1\n",
       "unknown                 2466\n",
       "Name: Converted, dtype: int64"
      ]
     },
     "execution_count": 44,
     "metadata": {},
     "output_type": "execute_result"
    }
   ],
   "source": [
    "df.groupby(['Country'])['Converted'].count()"
   ]
  },
  {
   "cell_type": "markdown",
   "metadata": {},
   "source": [
    "### Since other countries are negligible in leads, its better to bin them into Rest of the World"
   ]
  },
  {
   "cell_type": "code",
   "execution_count": 46,
   "metadata": {},
   "outputs": [],
   "source": [
    "# Creating an array of unique Country names\n",
    "ar = df['Country'].unique()"
   ]
  },
  {
   "cell_type": "code",
   "execution_count": 47,
   "metadata": {
    "scrolled": true
   },
   "outputs": [],
   "source": [
    "# Converting the array to list\n",
    "lst = ar.tolist()"
   ]
  },
  {
   "cell_type": "code",
   "execution_count": 48,
   "metadata": {},
   "outputs": [
    {
     "data": {
      "text/plain": [
       "['unknown',\n",
       " 'India',\n",
       " 'Russia',\n",
       " 'Kuwait',\n",
       " 'Oman',\n",
       " 'United Arab Emirates',\n",
       " 'United States',\n",
       " 'Australia',\n",
       " 'United Kingdom',\n",
       " 'Bahrain',\n",
       " 'Ghana',\n",
       " 'Singapore',\n",
       " 'Qatar',\n",
       " 'Saudi Arabia',\n",
       " 'Belgium',\n",
       " 'France',\n",
       " 'Sri Lanka',\n",
       " 'China',\n",
       " 'Canada',\n",
       " 'Netherlands',\n",
       " 'Sweden',\n",
       " 'Nigeria',\n",
       " 'Hong Kong',\n",
       " 'Germany',\n",
       " 'Asia/Pacific Region',\n",
       " 'Uganda',\n",
       " 'Kenya',\n",
       " 'Italy',\n",
       " 'South Africa',\n",
       " 'Tanzania',\n",
       " 'Malaysia',\n",
       " 'Liberia',\n",
       " 'Switzerland',\n",
       " 'Denmark',\n",
       " 'Philippines',\n",
       " 'Bangladesh',\n",
       " 'Vietnam',\n",
       " 'Indonesia']"
      ]
     },
     "execution_count": 48,
     "metadata": {},
     "output_type": "execute_result"
    }
   ],
   "source": [
    "lst"
   ]
  },
  {
   "cell_type": "code",
   "execution_count": 49,
   "metadata": {},
   "outputs": [],
   "source": [
    "lst.remove('unknown')\n",
    "lst.remove('India')"
   ]
  },
  {
   "cell_type": "code",
   "execution_count": 50,
   "metadata": {},
   "outputs": [],
   "source": [
    "df_final['Country'].replace(lst,'Rest_OF_World',inplace=True)"
   ]
  },
  {
   "cell_type": "code",
   "execution_count": 51,
   "metadata": {},
   "outputs": [
    {
     "data": {
      "text/plain": [
       "array(['unknown', 'India', 'Rest_OF_World'], dtype=object)"
      ]
     },
     "execution_count": 51,
     "metadata": {},
     "output_type": "execute_result"
    }
   ],
   "source": [
    "df_final['Country'].unique()"
   ]
  },
  {
   "cell_type": "code",
   "execution_count": 52,
   "metadata": {},
   "outputs": [
    {
     "data": {
      "text/plain": [
       "Country\n",
       "India            6492\n",
       "Rest_OF_World     282\n",
       "unknown          2466\n",
       "Name: Converted, dtype: int64"
      ]
     },
     "execution_count": 52,
     "metadata": {},
     "output_type": "execute_result"
    }
   ],
   "source": [
    "df_final.groupby(['Country'])['Converted'].count()"
   ]
  },
  {
   "cell_type": "code",
   "execution_count": 53,
   "metadata": {},
   "outputs": [
    {
     "data": {
      "text/plain": [
       "Lead Origin            0\n",
       "Lead Source            0\n",
       "NoEmail                0\n",
       "NoCall                 0\n",
       "Converted              0\n",
       "TotalVisits            0\n",
       "TimeSpent              0\n",
       "PageView               0\n",
       "Country                0\n",
       "Specialization         0\n",
       "HearAboutX             0\n",
       "CurrentOccupation      0\n",
       "MattersMost            0\n",
       "Search                 0\n",
       "PaperArticle           0\n",
       "Forum                  0\n",
       "Newspaper              0\n",
       "DigitalAd              0\n",
       "ThroughRecom           0\n",
       "Lead Profile           0\n",
       "City                   0\n",
       "Interview              0\n",
       "LastNotableActivity    0\n",
       "dtype: int64"
      ]
     },
     "execution_count": 53,
     "metadata": {},
     "output_type": "execute_result"
    }
   ],
   "source": [
    "df_final.isnull().sum()"
   ]
  },
  {
   "cell_type": "markdown",
   "metadata": {},
   "source": [
    "### Binary encoding"
   ]
  },
  {
   "cell_type": "code",
   "execution_count": 54,
   "metadata": {},
   "outputs": [],
   "source": [
    "# List of variables to map\n",
    "varlist =  ['NoEmail', 'NoCall', 'Search', 'PaperArticle','Forum', 'Newspaper', 'DigitalAd','ThroughRecom', 'Interview']\n",
    "# Defining the map function\n",
    "def binary_map(x):\n",
    "    return x.map({'Yes': 1, \"No\": 0})\n",
    "df_final[varlist] = df_final[varlist].apply(binary_map)"
   ]
  },
  {
   "cell_type": "code",
   "execution_count": 55,
   "metadata": {},
   "outputs": [],
   "source": [
    "cat = ['Lead Origin','Lead Source','TotalVisits','Country','Specialization','HearAboutX','CurrentOccupation','MattersMost','Lead Profile','City','LastNotableActivity']"
   ]
  },
  {
   "cell_type": "markdown",
   "metadata": {},
   "source": [
    "### Dummy Encoding"
   ]
  },
  {
   "cell_type": "code",
   "execution_count": 56,
   "metadata": {},
   "outputs": [],
   "source": [
    "for item in cat:\n",
    "    status = pd.get_dummies(df_final[item], prefix= item, drop_first=True)\n",
    "    df_final = pd.concat([df_final, status], axis = 1)\n",
    "    df_final.drop([item], axis = 1, inplace = True)"
   ]
  },
  {
   "cell_type": "code",
   "execution_count": 57,
   "metadata": {},
   "outputs": [
    {
     "data": {
      "text/plain": [
       "Index(['NoEmail', 'NoCall', 'Converted', 'TimeSpent', 'PageView', 'Search',\n",
       "       'PaperArticle', 'Forum', 'Newspaper', 'DigitalAd',\n",
       "       ...\n",
       "       'LastNotableActivity_Form Submitted on Website',\n",
       "       'LastNotableActivity_Had a Phone Conversation',\n",
       "       'LastNotableActivity_Modified',\n",
       "       'LastNotableActivity_Olark Chat Conversation',\n",
       "       'LastNotableActivity_Page Visited on Website',\n",
       "       'LastNotableActivity_Resubscribed to emails',\n",
       "       'LastNotableActivity_SMS Sent', 'LastNotableActivity_Unreachable',\n",
       "       'LastNotableActivity_Unsubscribed',\n",
       "       'LastNotableActivity_View in browser link Clicked'],\n",
       "      dtype='object', length=137)"
      ]
     },
     "execution_count": 57,
     "metadata": {},
     "output_type": "execute_result"
    }
   ],
   "source": [
    "df_final.columns"
   ]
  },
  {
   "cell_type": "code",
   "execution_count": 58,
   "metadata": {},
   "outputs": [
    {
     "name": "stdout",
     "output_type": "stream",
     "text": [
      "<class 'pandas.core.frame.DataFrame'>\n",
      "RangeIndex: 9240 entries, 0 to 9239\n",
      "Columns: 137 entries, NoEmail to LastNotableActivity_View in browser link Clicked\n",
      "dtypes: float64(1), int64(11), uint8(125)\n",
      "memory usage: 1.9 MB\n"
     ]
    }
   ],
   "source": [
    "df_final.info()"
   ]
  },
  {
   "cell_type": "markdown",
   "metadata": {},
   "source": [
    "### Checking for outliers"
   ]
  },
  {
   "cell_type": "code",
   "execution_count": 59,
   "metadata": {},
   "outputs": [],
   "source": [
    "num = ['TimeSpent','PageView']"
   ]
  },
  {
   "cell_type": "code",
   "execution_count": 60,
   "metadata": {},
   "outputs": [
    {
     "name": "stdout",
     "output_type": "stream",
     "text": [
      "<class 'pandas.core.frame.DataFrame'>\n",
      "RangeIndex: 9240 entries, 0 to 9239\n",
      "Data columns (total 2 columns):\n",
      " #   Column     Non-Null Count  Dtype  \n",
      "---  ------     --------------  -----  \n",
      " 0   TimeSpent  9240 non-null   int64  \n",
      " 1   PageView   9240 non-null   float64\n",
      "dtypes: float64(1), int64(1)\n",
      "memory usage: 144.5 KB\n"
     ]
    }
   ],
   "source": [
    "df_final[num].info()"
   ]
  },
  {
   "cell_type": "code",
   "execution_count": 61,
   "metadata": {},
   "outputs": [
    {
     "data": {
      "text/plain": [
       "<matplotlib.axes._subplots.AxesSubplot at 0x23b2b0e1970>"
      ]
     },
     "execution_count": 61,
     "metadata": {},
     "output_type": "execute_result"
    },
    {
     "data": {
      "image/png": "[encoded data removed]",
      "text/plain": [
       "<Figure size 432x288 with 1 Axes>"
      ]
     },
     "metadata": {
      "needs_background": "light"
     },
     "output_type": "display_data"
    }
   ],
   "source": [
    "sns.boxplot(df_final['TimeSpent'])"
   ]
  },
  {
   "cell_type": "code",
   "execution_count": 62,
   "metadata": {},
   "outputs": [
    {
     "data": {
      "text/plain": [
       "<matplotlib.axes._subplots.AxesSubplot at 0x23b2b433d00>"
      ]
     },
     "execution_count": 62,
     "metadata": {},
     "output_type": "execute_result"
    },
    {
     "data": {
      "image/png": "[encoded data removed]",
      "text/plain": [
       "<Figure size 432x288 with 1 Axes>"
      ]
     },
     "metadata": {
      "needs_background": "light"
     },
     "output_type": "display_data"
    }
   ],
   "source": [
    "sns.boxplot(df_final['PageView'])"
   ]
  },
  {
   "cell_type": "markdown",
   "metadata": {},
   "source": [
    "### There are some outliers in PageView"
   ]
  },
  {
   "cell_type": "code",
   "execution_count": 63,
   "metadata": {},
   "outputs": [
    {
     "data": {
      "text/plain": [
       "(9240, 137)"
      ]
     },
     "execution_count": 63,
     "metadata": {},
     "output_type": "execute_result"
    }
   ],
   "source": [
    "df_final.shape"
   ]
  },
  {
   "cell_type": "markdown",
   "metadata": {},
   "source": [
    "## Before dealing with outliers lets check if there are duplicate records. They may contain duplicate outliers"
   ]
  },
  {
   "cell_type": "code",
   "execution_count": 64,
   "metadata": {},
   "outputs": [
    {
     "data": {
      "text/plain": [
       "1750"
      ]
     },
     "execution_count": 64,
     "metadata": {},
     "output_type": "execute_result"
    }
   ],
   "source": [
    "# Count duplicate rows\n",
    "len(df_final)-len(df_final.drop_duplicates())"
   ]
  },
  {
   "cell_type": "code",
   "execution_count": 65,
   "metadata": {},
   "outputs": [],
   "source": [
    "#There are 1896 duplicate rows. Lets remove these duplicate rows keeping first value.\n",
    "df_final = df_final.drop_duplicates(keep='first')"
   ]
  },
  {
   "cell_type": "code",
   "execution_count": 66,
   "metadata": {},
   "outputs": [
    {
     "data": {
      "text/plain": [
       "(7490, 137)"
      ]
     },
     "execution_count": 66,
     "metadata": {},
     "output_type": "execute_result"
    }
   ],
   "source": [
    "df_final.shape"
   ]
  },
  {
   "cell_type": "code",
   "execution_count": 67,
   "metadata": {},
   "outputs": [
    {
     "data": {
      "text/plain": [
       "count    7490.000000\n",
       "mean        2.912830\n",
       "std         2.018944\n",
       "min         0.000000\n",
       "25%         2.000000\n",
       "50%         2.500000\n",
       "75%         4.000000\n",
       "90%         5.000000\n",
       "95%         6.000000\n",
       "99%         9.110000\n",
       "max        55.000000\n",
       "Name: PageView, dtype: float64"
      ]
     },
     "execution_count": 67,
     "metadata": {},
     "output_type": "execute_result"
    }
   ],
   "source": [
    "df_final['PageView'].describe(percentiles=[.25, .5, .75, .90, .95, .99])"
   ]
  },
  {
   "cell_type": "code",
   "execution_count": 68,
   "metadata": {},
   "outputs": [
    {
     "data": {
      "text/plain": [
       "<matplotlib.axes._subplots.AxesSubplot at 0x23b2b4ae970>"
      ]
     },
     "execution_count": 68,
     "metadata": {},
     "output_type": "execute_result"
    },
    {
     "data": {
      "image/png": "[encoded data removed]",
      "text/plain": [
       "<Figure size 432x288 with 1 Axes>"
      ]
     },
     "metadata": {
      "needs_background": "light"
     },
     "output_type": "display_data"
    }
   ],
   "source": [
    "sns.boxplot(df_final['PageView'])"
   ]
  },
  {
   "cell_type": "markdown",
   "metadata": {},
   "source": [
    "### Treating outliers"
   ]
  },
  {
   "cell_type": "code",
   "execution_count": 69,
   "metadata": {},
   "outputs": [],
   "source": [
    "q = df_final['PageView'].quantile(0.99)\n",
    "df_final = df_final[df_final['PageView'] < q]"
   ]
  },
  {
   "cell_type": "code",
   "execution_count": 70,
   "metadata": {},
   "outputs": [
    {
     "data": {
      "text/plain": [
       "(7415, 137)"
      ]
     },
     "execution_count": 70,
     "metadata": {},
     "output_type": "execute_result"
    }
   ],
   "source": [
    "df_final.shape"
   ]
  },
  {
   "cell_type": "code",
   "execution_count": 71,
   "metadata": {},
   "outputs": [
    {
     "data": {
      "text/plain": [
       "<matplotlib.axes._subplots.AxesSubplot at 0x23b2b50ca90>"
      ]
     },
     "execution_count": 71,
     "metadata": {},
     "output_type": "execute_result"
    },
    {
     "data": {
      "image/png": "[encoded data removed]",
      "text/plain": [
       "<Figure size 432x288 with 1 Axes>"
      ]
     },
     "metadata": {
      "needs_background": "light"
     },
     "output_type": "display_data"
    }
   ],
   "source": [
    "sns.boxplot(df_final['PageView'])"
   ]
  },
  {
   "cell_type": "markdown",
   "metadata": {},
   "source": [
    "## Train Test Split"
   ]
  },
  {
   "cell_type": "code",
   "execution_count": 72,
   "metadata": {},
   "outputs": [],
   "source": [
    "# Putting feature variable to X\n",
    "X = df_final.drop(['Converted'], axis=1)\n",
    "# Putting response variable to y\n",
    "y = df_final['Converted']\n",
    "# Splitting the data into train and test\n",
    "X_train, X_test, y_train, y_test = train_test_split(X, y, train_size=0.7, test_size=0.3, random_state=100)"
   ]
  },
  {
   "cell_type": "markdown",
   "metadata": {},
   "source": [
    "## Feature Scaling"
   ]
  },
  {
   "cell_type": "code",
   "execution_count": 73,
   "metadata": {},
   "outputs": [],
   "source": [
    "scaler = StandardScaler()\n",
    "X_train[['TimeSpent','PageView']] = scaler.fit_transform(X_train[['TimeSpent','PageView']])"
   ]
  },
  {
   "cell_type": "code",
   "execution_count": 74,
   "metadata": {},
   "outputs": [
    {
     "data": {
      "text/plain": [
       "39.635873229939314"
      ]
     },
     "execution_count": 74,
     "metadata": {},
     "output_type": "execute_result"
    }
   ],
   "source": [
    "### Checking the Convertion Rate\n",
    "Convetred = (sum(df_final['Converted'])/len(df_final['Converted'].index))*100\n",
    "Convetred"
   ]
  },
  {
   "cell_type": "markdown",
   "metadata": {},
   "source": [
    "### We have almost 40% conversion rate"
   ]
  },
  {
   "cell_type": "markdown",
   "metadata": {},
   "source": [
    "## Model Building"
   ]
  },
  {
   "cell_type": "markdown",
   "metadata": {},
   "source": [
    "### Model 1"
   ]
  },
  {
   "cell_type": "code",
   "execution_count": 75,
   "metadata": {},
   "outputs": [
    {
     "data": {
      "text/html": [
       "<table class=\"simpletable\">\n",
       "<caption>Generalized Linear Model Regression Results</caption>\n",
       "<tr>\n",
       "  <th>Dep. Variable:</th>       <td>Converted</td>    <th>  No. Observations:  </th>  <td>  5190</td> \n",
       "</tr>\n",
       "<tr>\n",
       "  <th>Model:</th>                  <td>GLM</td>       <th>  Df Residuals:      </th>  <td>  5062</td> \n",
       "</tr>\n",
       "<tr>\n",
       "  <th>Model Family:</th>        <td>Binomial</td>     <th>  Df Model:          </th>  <td>   127</td> \n",
       "</tr>\n",
       "<tr>\n",
       "  <th>Link Function:</th>         <td>logit</td>      <th>  Scale:             </th> <td>  1.0000</td>\n",
       "</tr>\n",
       "<tr>\n",
       "  <th>Method:</th>                <td>IRLS</td>       <th>  Log-Likelihood:    </th> <td>     nan</td>\n",
       "</tr>\n",
       "<tr>\n",
       "  <th>Date:</th>            <td>Mon, 31 Aug 2020</td> <th>  Deviance:          </th> <td>     nan</td>\n",
       "</tr>\n",
       "<tr>\n",
       "  <th>Time:</th>                <td>15:50:25</td>     <th>  Pearson chi2:      </th> <td>5.25e+18</td>\n",
       "</tr>\n",
       "<tr>\n",
       "  <th>No. Iterations:</th>         <td>100</td>       <th>                     </th>     <td> </td>   \n",
       "</tr>\n",
       "<tr>\n",
       "  <th>Covariance Type:</th>     <td>nonrobust</td>    <th>                     </th>     <td> </td>   \n",
       "</tr>\n",
       "</table>\n",
       "<table class=\"simpletable\">\n",
       "<tr>\n",
       "                          <td></td>                            <th>coef</th>     <th>std err</th>      <th>z</th>      <th>P>|z|</th>  <th>[0.025</th>    <th>0.975]</th>  \n",
       "</tr>\n",
       "<tr>\n",
       "  <th>const</th>                                            <td>-1.583e+27</td> <td> 7.28e+19</td> <td>-2.18e+07</td> <td> 0.000</td> <td>-1.58e+27</td> <td>-1.58e+27</td>\n",
       "</tr>\n",
       "<tr>\n",
       "  <th>NoEmail</th>                                          <td>-8.589e+14</td> <td>  3.9e+06</td> <td> -2.2e+08</td> <td> 0.000</td> <td>-8.59e+14</td> <td>-8.59e+14</td>\n",
       "</tr>\n",
       "<tr>\n",
       "  <th>NoCall</th>                                           <td> 9.499e+14</td> <td>  4.8e+07</td> <td> 1.98e+07</td> <td> 0.000</td> <td>  9.5e+14</td> <td>  9.5e+14</td>\n",
       "</tr>\n",
       "<tr>\n",
       "  <th>TimeSpent</th>                                        <td> 6.387e+14</td> <td>    1e+06</td> <td> 6.37e+08</td> <td> 0.000</td> <td> 6.39e+14</td> <td> 6.39e+14</td>\n",
       "</tr>\n",
       "<tr>\n",
       "  <th>PageView</th>                                         <td>-1.499e+14</td> <td> 1.42e+06</td> <td>-1.05e+08</td> <td> 0.000</td> <td> -1.5e+14</td> <td> -1.5e+14</td>\n",
       "</tr>\n",
       "<tr>\n",
       "  <th>Search</th>                                           <td>-4.692e+14</td> <td> 2.62e+07</td> <td>-1.79e+07</td> <td> 0.000</td> <td>-4.69e+14</td> <td>-4.69e+14</td>\n",
       "</tr>\n",
       "<tr>\n",
       "  <th>PaperArticle</th>                                     <td> 2.366e+15</td> <td> 6.77e+07</td> <td>  3.5e+07</td> <td> 0.000</td> <td> 2.37e+15</td> <td> 2.37e+15</td>\n",
       "</tr>\n",
       "<tr>\n",
       "  <th>Forum</th>                                            <td>-3.611e+15</td> <td> 1.16e+08</td> <td>-3.11e+07</td> <td> 0.000</td> <td>-3.61e+15</td> <td>-3.61e+15</td>\n",
       "</tr>\n",
       "<tr>\n",
       "  <th>Newspaper</th>                                        <td>-4.988e+15</td> <td> 6.79e+07</td> <td>-7.34e+07</td> <td> 0.000</td> <td>-4.99e+15</td> <td>-4.99e+15</td>\n",
       "</tr>\n",
       "<tr>\n",
       "  <th>DigitalAd</th>                                        <td>-1.044e+15</td> <td> 3.92e+07</td> <td>-2.67e+07</td> <td> 0.000</td> <td>-1.04e+15</td> <td>-1.04e+15</td>\n",
       "</tr>\n",
       "<tr>\n",
       "  <th>ThroughRecom</th>                                     <td> 7.172e+14</td> <td> 3.47e+07</td> <td> 2.07e+07</td> <td> 0.000</td> <td> 7.17e+14</td> <td> 7.17e+14</td>\n",
       "</tr>\n",
       "<tr>\n",
       "  <th>Interview</th>                                        <td>-9.378e+13</td> <td>  3.6e+06</td> <td> -2.6e+07</td> <td> 0.000</td> <td>-9.38e+13</td> <td>-9.38e+13</td>\n",
       "</tr>\n",
       "<tr>\n",
       "  <th>Lead Origin_Landing Page Submission</th>              <td>-3.945e+14</td> <td> 4.51e+06</td> <td>-8.75e+07</td> <td> 0.000</td> <td>-3.95e+14</td> <td>-3.95e+14</td>\n",
       "</tr>\n",
       "<tr>\n",
       "  <th>Lead Origin_Lead Add Form</th>                        <td> 1.558e+15</td> <td>  1.9e+07</td> <td> 8.18e+07</td> <td> 0.000</td> <td> 1.56e+15</td> <td> 1.56e+15</td>\n",
       "</tr>\n",
       "<tr>\n",
       "  <th>Lead Origin_Lead Import</th>                          <td>-3.745e+14</td> <td>  4.9e+07</td> <td>-7.65e+06</td> <td> 0.000</td> <td>-3.75e+14</td> <td>-3.75e+14</td>\n",
       "</tr>\n",
       "<tr>\n",
       "  <th>Lead Origin_Quick Add Form</th>                       <td> 2.766e+15</td> <td> 6.95e+07</td> <td> 3.98e+07</td> <td> 0.000</td> <td> 2.77e+15</td> <td> 2.77e+15</td>\n",
       "</tr>\n",
       "<tr>\n",
       "  <th>Lead Source_Direct Traffic</th>                       <td> 1.583e+27</td> <td> 7.28e+19</td> <td> 2.18e+07</td> <td> 0.000</td> <td> 1.58e+27</td> <td> 1.58e+27</td>\n",
       "</tr>\n",
       "<tr>\n",
       "  <th>Lead Source_Facebook</th>                             <td> 1.583e+27</td> <td> 7.28e+19</td> <td> 2.18e+07</td> <td> 0.000</td> <td> 1.58e+27</td> <td> 1.58e+27</td>\n",
       "</tr>\n",
       "<tr>\n",
       "  <th>Lead Source_Google</th>                               <td> 1.583e+27</td> <td> 7.28e+19</td> <td> 2.18e+07</td> <td> 0.000</td> <td> 1.58e+27</td> <td> 1.58e+27</td>\n",
       "</tr>\n",
       "<tr>\n",
       "  <th>Lead Source_Live Chat</th>                            <td> 1.583e+27</td> <td> 7.28e+19</td> <td> 2.18e+07</td> <td> 0.000</td> <td> 1.58e+27</td> <td> 1.58e+27</td>\n",
       "</tr>\n",
       "<tr>\n",
       "  <th>Lead Source_NC_EDM</th>                               <td> 1.583e+27</td> <td> 7.28e+19</td> <td> 2.18e+07</td> <td> 0.000</td> <td> 1.58e+27</td> <td> 1.58e+27</td>\n",
       "</tr>\n",
       "<tr>\n",
       "  <th>Lead Source_Olark Chat</th>                           <td> 1.583e+27</td> <td> 7.28e+19</td> <td> 2.18e+07</td> <td> 0.000</td> <td> 1.58e+27</td> <td> 1.58e+27</td>\n",
       "</tr>\n",
       "<tr>\n",
       "  <th>Lead Source_Organic Search</th>                       <td> 1.583e+27</td> <td> 7.28e+19</td> <td> 2.18e+07</td> <td> 0.000</td> <td> 1.58e+27</td> <td> 1.58e+27</td>\n",
       "</tr>\n",
       "<tr>\n",
       "  <th>Lead Source_Pay per Click Ads</th>                    <td> 1.583e+27</td> <td> 7.28e+19</td> <td> 2.18e+07</td> <td> 0.000</td> <td> 1.58e+27</td> <td> 1.58e+27</td>\n",
       "</tr>\n",
       "<tr>\n",
       "  <th>Lead Source_Press_Release</th>                        <td> 1.583e+27</td> <td> 7.28e+19</td> <td> 2.18e+07</td> <td> 0.000</td> <td> 1.58e+27</td> <td> 1.58e+27</td>\n",
       "</tr>\n",
       "<tr>\n",
       "  <th>Lead Source_Reference</th>                            <td> 1.583e+27</td> <td> 7.28e+19</td> <td> 2.18e+07</td> <td> 0.000</td> <td> 1.58e+27</td> <td> 1.58e+27</td>\n",
       "</tr>\n",
       "<tr>\n",
       "  <th>Lead Source_Referral Sites</th>                       <td> 1.583e+27</td> <td> 7.28e+19</td> <td> 2.18e+07</td> <td> 0.000</td> <td> 1.58e+27</td> <td> 1.58e+27</td>\n",
       "</tr>\n",
       "<tr>\n",
       "  <th>Lead Source_Social Media</th>                         <td> 1.583e+27</td> <td> 7.28e+19</td> <td> 2.18e+07</td> <td> 0.000</td> <td> 1.58e+27</td> <td> 1.58e+27</td>\n",
       "</tr>\n",
       "<tr>\n",
       "  <th>Lead Source_WeLearn</th>                              <td> 1.583e+27</td> <td> 7.28e+19</td> <td> 2.18e+07</td> <td> 0.000</td> <td> 1.58e+27</td> <td> 1.58e+27</td>\n",
       "</tr>\n",
       "<tr>\n",
       "  <th>Lead Source_Welingak Website</th>                     <td> 1.583e+27</td> <td> 7.28e+19</td> <td> 2.18e+07</td> <td> 0.000</td> <td> 1.58e+27</td> <td> 1.58e+27</td>\n",
       "</tr>\n",
       "<tr>\n",
       "  <th>Lead Source_bing</th>                                 <td> 1.583e+27</td> <td> 7.28e+19</td> <td> 2.18e+07</td> <td> 0.000</td> <td> 1.58e+27</td> <td> 1.58e+27</td>\n",
       "</tr>\n",
       "<tr>\n",
       "  <th>Lead Source_blog</th>                                 <td> 1.583e+27</td> <td> 7.28e+19</td> <td> 2.18e+07</td> <td> 0.000</td> <td> 1.58e+27</td> <td> 1.58e+27</td>\n",
       "</tr>\n",
       "<tr>\n",
       "  <th>Lead Source_google</th>                               <td> 1.583e+27</td> <td> 7.28e+19</td> <td> 2.18e+07</td> <td> 0.000</td> <td> 1.58e+27</td> <td> 1.58e+27</td>\n",
       "</tr>\n",
       "<tr>\n",
       "  <th>Lead Source_testone</th>                              <td> 1.583e+27</td> <td> 7.28e+19</td> <td> 2.18e+07</td> <td> 0.000</td> <td> 1.58e+27</td> <td> 1.58e+27</td>\n",
       "</tr>\n",
       "<tr>\n",
       "  <th>Lead Source_welearnblog_Home</th>                     <td> 1.583e+27</td> <td> 7.28e+19</td> <td> 2.18e+07</td> <td> 0.000</td> <td> 1.58e+27</td> <td> 1.58e+27</td>\n",
       "</tr>\n",
       "<tr>\n",
       "  <th>Lead Source_youtubechannel</th>                       <td> 1.583e+27</td> <td> 7.28e+19</td> <td> 2.18e+07</td> <td> 0.000</td> <td> 1.58e+27</td> <td> 1.58e+27</td>\n",
       "</tr>\n",
       "<tr>\n",
       "  <th>TotalVisits_1</th>                                    <td>-7.791e+14</td> <td>    9e+06</td> <td>-8.66e+07</td> <td> 0.000</td> <td>-7.79e+14</td> <td>-7.79e+14</td>\n",
       "</tr>\n",
       "<tr>\n",
       "  <th>TotalVisits_10</th>                                   <td> 8.338e+12</td> <td> 1.22e+07</td> <td> 6.83e+05</td> <td> 0.000</td> <td> 8.34e+12</td> <td> 8.34e+12</td>\n",
       "</tr>\n",
       "<tr>\n",
       "  <th>TotalVisits_11</th>                                   <td>-4.124e+14</td> <td> 1.31e+07</td> <td>-3.14e+07</td> <td> 0.000</td> <td>-4.12e+14</td> <td>-4.12e+14</td>\n",
       "</tr>\n",
       "<tr>\n",
       "  <th>TotalVisits_115</th>                                  <td> 3.362e+15</td> <td> 7.26e+07</td> <td> 4.63e+07</td> <td> 0.000</td> <td> 3.36e+15</td> <td> 3.36e+15</td>\n",
       "</tr>\n",
       "<tr>\n",
       "  <th>TotalVisits_12</th>                                   <td> 1.369e+14</td> <td> 1.61e+07</td> <td> 8.52e+06</td> <td> 0.000</td> <td> 1.37e+14</td> <td> 1.37e+14</td>\n",
       "</tr>\n",
       "<tr>\n",
       "  <th>TotalVisits_13</th>                                   <td>-3.161e+13</td> <td> 1.69e+07</td> <td>-1.87e+06</td> <td> 0.000</td> <td>-3.16e+13</td> <td>-3.16e+13</td>\n",
       "</tr>\n",
       "<tr>\n",
       "  <th>TotalVisits_14</th>                                   <td>-5.462e+14</td> <td> 1.86e+07</td> <td>-2.93e+07</td> <td> 0.000</td> <td>-5.46e+14</td> <td>-5.46e+14</td>\n",
       "</tr>\n",
       "<tr>\n",
       "  <th>TotalVisits_141</th>                                  <td> -3.84e+15</td> <td> 6.83e+07</td> <td>-5.62e+07</td> <td> 0.000</td> <td>-3.84e+15</td> <td>-3.84e+15</td>\n",
       "</tr>\n",
       "<tr>\n",
       "  <th>TotalVisits_15</th>                                   <td>-4.308e+14</td> <td> 2.57e+07</td> <td>-1.67e+07</td> <td> 0.000</td> <td>-4.31e+14</td> <td>-4.31e+14</td>\n",
       "</tr>\n",
       "<tr>\n",
       "  <th>TotalVisits_16</th>                                   <td>-4.071e+14</td> <td> 2.23e+07</td> <td>-1.83e+07</td> <td> 0.000</td> <td>-4.07e+14</td> <td>-4.07e+14</td>\n",
       "</tr>\n",
       "<tr>\n",
       "  <th>TotalVisits_17</th>                                   <td>-1.397e+15</td> <td> 2.22e+07</td> <td> -6.3e+07</td> <td> 0.000</td> <td> -1.4e+15</td> <td> -1.4e+15</td>\n",
       "</tr>\n",
       "<tr>\n",
       "  <th>TotalVisits_18</th>                                   <td>-1.052e+13</td> <td> 2.34e+07</td> <td> -4.5e+05</td> <td> 0.000</td> <td>-1.05e+13</td> <td>-1.05e+13</td>\n",
       "</tr>\n",
       "<tr>\n",
       "  <th>TotalVisits_19</th>                                   <td> 1.699e+14</td> <td> 2.92e+07</td> <td> 5.82e+06</td> <td> 0.000</td> <td>  1.7e+14</td> <td>  1.7e+14</td>\n",
       "</tr>\n",
       "<tr>\n",
       "  <th>TotalVisits_2</th>                                    <td>-5.517e+14</td> <td>  8.9e+06</td> <td> -6.2e+07</td> <td> 0.000</td> <td>-5.52e+14</td> <td>-5.52e+14</td>\n",
       "</tr>\n",
       "<tr>\n",
       "  <th>TotalVisits_20</th>                                   <td> 7.619e+14</td> <td> 3.53e+07</td> <td> 2.16e+07</td> <td> 0.000</td> <td> 7.62e+14</td> <td> 7.62e+14</td>\n",
       "</tr>\n",
       "<tr>\n",
       "  <th>TotalVisits_21</th>                                   <td> 7.264e+14</td> <td> 3.52e+07</td> <td> 2.07e+07</td> <td> 0.000</td> <td> 7.26e+14</td> <td> 7.26e+14</td>\n",
       "</tr>\n",
       "<tr>\n",
       "  <th>TotalVisits_22</th>                                   <td>-3.202e+14</td> <td> 4.04e+07</td> <td>-7.92e+06</td> <td> 0.000</td> <td> -3.2e+14</td> <td> -3.2e+14</td>\n",
       "</tr>\n",
       "<tr>\n",
       "  <th>TotalVisits_23</th>                                   <td>-2.249e+15</td> <td> 4.02e+07</td> <td> -5.6e+07</td> <td> 0.000</td> <td>-2.25e+15</td> <td>-2.25e+15</td>\n",
       "</tr>\n",
       "<tr>\n",
       "  <th>TotalVisits_24</th>                                   <td>  3.96e+15</td> <td> 4.07e+07</td> <td> 9.72e+07</td> <td> 0.000</td> <td> 3.96e+15</td> <td> 3.96e+15</td>\n",
       "</tr>\n",
       "<tr>\n",
       "  <th>TotalVisits_25</th>                                   <td>-1.634e+15</td> <td> 3.16e+07</td> <td>-5.18e+07</td> <td> 0.000</td> <td>-1.63e+15</td> <td>-1.63e+15</td>\n",
       "</tr>\n",
       "<tr>\n",
       "  <th>TotalVisits_251</th>                                  <td>  1.35e+25</td> <td> 6.21e+17</td> <td> 2.18e+07</td> <td> 0.000</td> <td> 1.35e+25</td> <td> 1.35e+25</td>\n",
       "</tr>\n",
       "<tr>\n",
       "  <th>TotalVisits_26</th>                                   <td> 2.622e+15</td> <td> 6.79e+07</td> <td> 3.86e+07</td> <td> 0.000</td> <td> 2.62e+15</td> <td> 2.62e+15</td>\n",
       "</tr>\n",
       "<tr>\n",
       "  <th>TotalVisits_27</th>                                   <td> 6.836e+14</td> <td> 4.85e+07</td> <td> 1.41e+07</td> <td> 0.000</td> <td> 6.84e+14</td> <td> 6.84e+14</td>\n",
       "</tr>\n",
       "<tr>\n",
       "  <th>TotalVisits_28</th>                                   <td>-1.396e+15</td> <td> 4.89e+07</td> <td>-2.86e+07</td> <td> 0.000</td> <td> -1.4e+15</td> <td> -1.4e+15</td>\n",
       "</tr>\n",
       "<tr>\n",
       "  <th>TotalVisits_29</th>                                   <td>-1.477e+15</td> <td> 6.82e+07</td> <td>-2.17e+07</td> <td> 0.000</td> <td>-1.48e+15</td> <td>-1.48e+15</td>\n",
       "</tr>\n",
       "<tr>\n",
       "  <th>TotalVisits_3</th>                                    <td>-4.604e+14</td> <td> 8.96e+06</td> <td>-5.14e+07</td> <td> 0.000</td> <td> -4.6e+14</td> <td> -4.6e+14</td>\n",
       "</tr>\n",
       "<tr>\n",
       "  <th>TotalVisits_30</th>                                   <td> 2.491e+25</td> <td> 1.15e+18</td> <td> 2.18e+07</td> <td> 0.000</td> <td> 2.49e+25</td> <td> 2.49e+25</td>\n",
       "</tr>\n",
       "<tr>\n",
       "  <th>TotalVisits_32</th>                                   <td>-3.358e+15</td> <td> 6.77e+07</td> <td>-4.96e+07</td> <td> 0.000</td> <td>-3.36e+15</td> <td>-3.36e+15</td>\n",
       "</tr>\n",
       "<tr>\n",
       "  <th>TotalVisits_4</th>                                    <td>-4.342e+14</td> <td> 9.25e+06</td> <td>-4.69e+07</td> <td> 0.000</td> <td>-4.34e+14</td> <td>-4.34e+14</td>\n",
       "</tr>\n",
       "<tr>\n",
       "  <th>TotalVisits_41</th>                                   <td>-3.308e+15</td> <td> 6.85e+07</td> <td>-4.83e+07</td> <td> 0.000</td> <td>-3.31e+15</td> <td>-3.31e+15</td>\n",
       "</tr>\n",
       "<tr>\n",
       "  <th>TotalVisits_42</th>                                   <td> 1.269e+25</td> <td> 5.83e+17</td> <td> 2.18e+07</td> <td> 0.000</td> <td> 1.27e+25</td> <td> 1.27e+25</td>\n",
       "</tr>\n",
       "<tr>\n",
       "  <th>TotalVisits_43</th>                                   <td>-4.781e+15</td> <td>  6.8e+07</td> <td>-7.03e+07</td> <td> 0.000</td> <td>-4.78e+15</td> <td>-4.78e+15</td>\n",
       "</tr>\n",
       "<tr>\n",
       "  <th>TotalVisits_5</th>                                    <td>-4.145e+13</td> <td> 9.51e+06</td> <td>-4.36e+06</td> <td> 0.000</td> <td>-4.15e+13</td> <td>-4.15e+13</td>\n",
       "</tr>\n",
       "<tr>\n",
       "  <th>TotalVisits_54</th>                                   <td>-8.305e+15</td> <td> 6.92e+07</td> <td> -1.2e+08</td> <td> 0.000</td> <td>-8.31e+15</td> <td>-8.31e+15</td>\n",
       "</tr>\n",
       "<tr>\n",
       "  <th>TotalVisits_55</th>                                   <td>-5.948e+23</td> <td> 2.73e+16</td> <td>-2.18e+07</td> <td> 0.000</td> <td>-5.95e+23</td> <td>-5.95e+23</td>\n",
       "</tr>\n",
       "<tr>\n",
       "  <th>TotalVisits_6</th>                                    <td>-3.517e+14</td> <td> 9.95e+06</td> <td>-3.54e+07</td> <td> 0.000</td> <td>-3.52e+14</td> <td>-3.52e+14</td>\n",
       "</tr>\n",
       "<tr>\n",
       "  <th>TotalVisits_7</th>                                    <td>-2.426e+14</td> <td> 1.03e+07</td> <td>-2.34e+07</td> <td> 0.000</td> <td>-2.43e+14</td> <td>-2.43e+14</td>\n",
       "</tr>\n",
       "<tr>\n",
       "  <th>TotalVisits_74</th>                                   <td>-1.598e+25</td> <td> 7.35e+17</td> <td>-2.18e+07</td> <td> 0.000</td> <td> -1.6e+25</td> <td> -1.6e+25</td>\n",
       "</tr>\n",
       "<tr>\n",
       "  <th>TotalVisits_8</th>                                    <td>  4.18e+13</td> <td>  1.1e+07</td> <td> 3.81e+06</td> <td> 0.000</td> <td> 4.18e+13</td> <td> 4.18e+13</td>\n",
       "</tr>\n",
       "<tr>\n",
       "  <th>TotalVisits_9</th>                                    <td> 9.311e+13</td> <td> 1.12e+07</td> <td> 8.34e+06</td> <td> 0.000</td> <td> 9.31e+13</td> <td> 9.31e+13</td>\n",
       "</tr>\n",
       "<tr>\n",
       "  <th>Country_Rest_OF_World</th>                            <td>-2.143e+14</td> <td> 5.16e+06</td> <td>-4.16e+07</td> <td> 0.000</td> <td>-2.14e+14</td> <td>-2.14e+14</td>\n",
       "</tr>\n",
       "<tr>\n",
       "  <th>Country_unknown</th>                                  <td> 3.158e+13</td> <td> 7.67e+06</td> <td> 4.12e+06</td> <td> 0.000</td> <td> 3.16e+13</td> <td> 3.16e+13</td>\n",
       "</tr>\n",
       "<tr>\n",
       "  <th>Specialization_Business Administration</th>           <td>-1.617e+14</td> <td> 6.28e+06</td> <td>-2.57e+07</td> <td> 0.000</td> <td>-1.62e+14</td> <td>-1.62e+14</td>\n",
       "</tr>\n",
       "<tr>\n",
       "  <th>Specialization_E-Business</th>                        <td> 1.832e+14</td> <td> 1.18e+07</td> <td> 1.56e+07</td> <td> 0.000</td> <td> 1.83e+14</td> <td> 1.83e+14</td>\n",
       "</tr>\n",
       "<tr>\n",
       "  <th>Specialization_E-COMMERCE</th>                        <td>-3.288e+14</td> <td> 9.77e+06</td> <td>-3.36e+07</td> <td> 0.000</td> <td>-3.29e+14</td> <td>-3.29e+14</td>\n",
       "</tr>\n",
       "<tr>\n",
       "  <th>Specialization_Finance Management</th>                <td>-2.514e+14</td> <td> 5.35e+06</td> <td> -4.7e+07</td> <td> 0.000</td> <td>-2.51e+14</td> <td>-2.51e+14</td>\n",
       "</tr>\n",
       "<tr>\n",
       "  <th>Specialization_Healthcare Management</th>             <td>-2.332e+14</td> <td>    8e+06</td> <td>-2.92e+07</td> <td> 0.000</td> <td>-2.33e+14</td> <td>-2.33e+14</td>\n",
       "</tr>\n",
       "<tr>\n",
       "  <th>Specialization_Hospitality Management</th>            <td>-5.698e+14</td> <td> 8.94e+06</td> <td>-6.37e+07</td> <td> 0.000</td> <td> -5.7e+14</td> <td> -5.7e+14</td>\n",
       "</tr>\n",
       "<tr>\n",
       "  <th>Specialization_Human Resource Management</th>         <td>-1.656e+14</td> <td> 5.49e+06</td> <td>-3.01e+07</td> <td> 0.000</td> <td>-1.66e+14</td> <td>-1.66e+14</td>\n",
       "</tr>\n",
       "<tr>\n",
       "  <th>Specialization_IT Projects Management</th>            <td>-1.414e+14</td> <td> 6.41e+06</td> <td>-2.21e+07</td> <td> 0.000</td> <td>-1.41e+14</td> <td>-1.41e+14</td>\n",
       "</tr>\n",
       "<tr>\n",
       "  <th>Specialization_International Business</th>            <td>-2.951e+14</td> <td> 7.73e+06</td> <td>-3.82e+07</td> <td> 0.000</td> <td>-2.95e+14</td> <td>-2.95e+14</td>\n",
       "</tr>\n",
       "<tr>\n",
       "  <th>Specialization_Marketing Management</th>              <td>-1.909e+14</td> <td> 5.51e+06</td> <td>-3.47e+07</td> <td> 0.000</td> <td>-1.91e+14</td> <td>-1.91e+14</td>\n",
       "</tr>\n",
       "<tr>\n",
       "  <th>Specialization_Media and Advertising</th>             <td>-3.596e+14</td> <td> 7.29e+06</td> <td>-4.93e+07</td> <td> 0.000</td> <td> -3.6e+14</td> <td> -3.6e+14</td>\n",
       "</tr>\n",
       "<tr>\n",
       "  <th>Specialization_Not Given</th>                         <td>-4.725e+14</td> <td> 6.31e+06</td> <td>-7.49e+07</td> <td> 0.000</td> <td>-4.72e+14</td> <td>-4.72e+14</td>\n",
       "</tr>\n",
       "<tr>\n",
       "  <th>Specialization_Operations Management</th>             <td>-1.696e+14</td> <td> 5.98e+06</td> <td>-2.84e+07</td> <td> 0.000</td> <td> -1.7e+14</td> <td> -1.7e+14</td>\n",
       "</tr>\n",
       "<tr>\n",
       "  <th>Specialization_Retail Management</th>                 <td>-3.342e+14</td> <td> 9.26e+06</td> <td>-3.61e+07</td> <td> 0.000</td> <td>-3.34e+14</td> <td>-3.34e+14</td>\n",
       "</tr>\n",
       "<tr>\n",
       "  <th>Specialization_Rural and Agribusiness</th>            <td> 8.202e+13</td> <td> 1.06e+07</td> <td> 7.71e+06</td> <td> 0.000</td> <td>  8.2e+13</td> <td>  8.2e+13</td>\n",
       "</tr>\n",
       "<tr>\n",
       "  <th>Specialization_Services Excellence</th>               <td>-4.177e+14</td> <td> 1.34e+07</td> <td>-3.11e+07</td> <td> 0.000</td> <td>-4.18e+14</td> <td>-4.18e+14</td>\n",
       "</tr>\n",
       "<tr>\n",
       "  <th>Specialization_Supply Chain Management</th>           <td>-1.583e+14</td> <td> 6.28e+06</td> <td>-2.52e+07</td> <td> 0.000</td> <td>-1.58e+14</td> <td>-1.58e+14</td>\n",
       "</tr>\n",
       "<tr>\n",
       "  <th>Specialization_Travel and Tourism</th>                <td>-3.913e+14</td> <td> 7.67e+06</td> <td> -5.1e+07</td> <td> 0.000</td> <td>-3.91e+14</td> <td>-3.91e+14</td>\n",
       "</tr>\n",
       "<tr>\n",
       "  <th>HearAboutX_Email</th>                                 <td>-2.157e+13</td> <td>  1.9e+07</td> <td>-1.13e+06</td> <td> 0.000</td> <td>-2.16e+13</td> <td>-2.16e+13</td>\n",
       "</tr>\n",
       "<tr>\n",
       "  <th>HearAboutX_Multiple Sources</th>                      <td>-3.487e+14</td> <td> 1.24e+07</td> <td>-2.81e+07</td> <td> 0.000</td> <td>-3.49e+14</td> <td>-3.49e+14</td>\n",
       "</tr>\n",
       "<tr>\n",
       "  <th>HearAboutX_Not Given</th>                             <td>-1.609e+14</td> <td> 1.12e+07</td> <td>-1.44e+07</td> <td> 0.000</td> <td>-1.61e+14</td> <td>-1.61e+14</td>\n",
       "</tr>\n",
       "<tr>\n",
       "  <th>HearAboutX_Online Search</th>                         <td>-5.546e+11</td> <td> 1.08e+07</td> <td>-5.14e+04</td> <td> 0.000</td> <td>-5.55e+11</td> <td>-5.55e+11</td>\n",
       "</tr>\n",
       "<tr>\n",
       "  <th>HearAboutX_Other</th>                                 <td>-3.271e+14</td> <td>  1.2e+07</td> <td>-2.72e+07</td> <td> 0.000</td> <td>-3.27e+14</td> <td>-3.27e+14</td>\n",
       "</tr>\n",
       "<tr>\n",
       "  <th>HearAboutX_SMS</th>                                   <td>-8.845e+14</td> <td>  2.1e+07</td> <td>-4.22e+07</td> <td> 0.000</td> <td>-8.84e+14</td> <td>-8.84e+14</td>\n",
       "</tr>\n",
       "<tr>\n",
       "  <th>HearAboutX_Social Media</th>                          <td>-3.111e+14</td> <td> 1.46e+07</td> <td>-2.13e+07</td> <td> 0.000</td> <td>-3.11e+14</td> <td>-3.11e+14</td>\n",
       "</tr>\n",
       "<tr>\n",
       "  <th>HearAboutX_Student of SomeSchool</th>                 <td>-2.127e+13</td> <td> 1.14e+07</td> <td>-1.86e+06</td> <td> 0.000</td> <td>-2.13e+13</td> <td>-2.13e+13</td>\n",
       "</tr>\n",
       "<tr>\n",
       "  <th>HearAboutX_Unknown</th>                               <td> 2.145e+14</td> <td> 1.17e+07</td> <td> 1.84e+07</td> <td> 0.000</td> <td> 2.14e+14</td> <td> 2.14e+14</td>\n",
       "</tr>\n",
       "<tr>\n",
       "  <th>HearAboutX_Word Of Mouth</th>                         <td> -5.48e+13</td> <td> 1.13e+07</td> <td>-4.85e+06</td> <td> 0.000</td> <td>-5.48e+13</td> <td>-5.48e+13</td>\n",
       "</tr>\n",
       "<tr>\n",
       "  <th>CurrentOccupation_Housewife</th>                      <td> 2.389e+15</td> <td> 3.98e+07</td> <td>    6e+07</td> <td> 0.000</td> <td> 2.39e+15</td> <td> 2.39e+15</td>\n",
       "</tr>\n",
       "<tr>\n",
       "  <th>CurrentOccupation_Not Given</th>                      <td> 4.852e+15</td> <td> 3.18e+07</td> <td> 1.53e+08</td> <td> 0.000</td> <td> 4.85e+15</td> <td> 4.85e+15</td>\n",
       "</tr>\n",
       "<tr>\n",
       "  <th>CurrentOccupation_Other</th>                          <td> 8.816e+14</td> <td> 3.37e+07</td> <td> 2.61e+07</td> <td> 0.000</td> <td> 8.82e+14</td> <td> 8.82e+14</td>\n",
       "</tr>\n",
       "<tr>\n",
       "  <th>CurrentOccupation_Student</th>                        <td>-2.219e+14</td> <td> 2.66e+07</td> <td>-8.34e+06</td> <td> 0.000</td> <td>-2.22e+14</td> <td>-2.22e+14</td>\n",
       "</tr>\n",
       "<tr>\n",
       "  <th>CurrentOccupation_Unemployed</th>                     <td>-1.955e+14</td> <td> 2.59e+07</td> <td>-7.54e+06</td> <td> 0.000</td> <td>-1.96e+14</td> <td>-1.96e+14</td>\n",
       "</tr>\n",
       "<tr>\n",
       "  <th>CurrentOccupation_Working Professional</th>           <td> 4.351e+14</td> <td> 2.61e+07</td> <td> 1.67e+07</td> <td> 0.000</td> <td> 4.35e+14</td> <td> 4.35e+14</td>\n",
       "</tr>\n",
       "<tr>\n",
       "  <th>MattersMost_Flexibility & Convenience</th>            <td>-7.192e+15</td> <td> 6.75e+07</td> <td>-1.07e+08</td> <td> 0.000</td> <td>-7.19e+15</td> <td>-7.19e+15</td>\n",
       "</tr>\n",
       "<tr>\n",
       "  <th>MattersMost_Not Given</th>                            <td>-5.585e+15</td> <td> 2.23e+07</td> <td>-2.51e+08</td> <td> 0.000</td> <td>-5.58e+15</td> <td>-5.58e+15</td>\n",
       "</tr>\n",
       "<tr>\n",
       "  <th>MattersMost_Other</th>                                <td>-7.674e+21</td> <td> 3.53e+14</td> <td>-2.18e+07</td> <td> 0.000</td> <td>-7.67e+21</td> <td>-7.67e+21</td>\n",
       "</tr>\n",
       "<tr>\n",
       "  <th>Lead Profile_Lateral Student</th>                     <td>-2.893e+15</td> <td> 2.52e+07</td> <td>-1.15e+08</td> <td> 0.000</td> <td>-2.89e+15</td> <td>-2.89e+15</td>\n",
       "</tr>\n",
       "<tr>\n",
       "  <th>Lead Profile_Not Given</th>                           <td>-2.332e+15</td> <td> 1.83e+07</td> <td>-1.28e+08</td> <td> 0.000</td> <td>-2.33e+15</td> <td>-2.33e+15</td>\n",
       "</tr>\n",
       "<tr>\n",
       "  <th>Lead Profile_Other Leads</th>                         <td>-2.173e+15</td> <td> 1.86e+07</td> <td>-1.17e+08</td> <td> 0.000</td> <td>-2.17e+15</td> <td>-2.17e+15</td>\n",
       "</tr>\n",
       "<tr>\n",
       "  <th>Lead Profile_Potential Lead</th>                      <td>-2.858e+15</td> <td> 1.83e+07</td> <td>-1.56e+08</td> <td> 0.000</td> <td>-2.86e+15</td> <td>-2.86e+15</td>\n",
       "</tr>\n",
       "<tr>\n",
       "  <th>Lead Profile_Student of SomeSchool</th>               <td>-3.428e+15</td> <td> 1.93e+07</td> <td>-1.78e+08</td> <td> 0.000</td> <td>-3.43e+15</td> <td>-3.43e+15</td>\n",
       "</tr>\n",
       "<tr>\n",
       "  <th>City_Not Given</th>                                   <td>-1.648e+14</td> <td> 4.78e+06</td> <td>-3.45e+07</td> <td> 0.000</td> <td>-1.65e+14</td> <td>-1.65e+14</td>\n",
       "</tr>\n",
       "<tr>\n",
       "  <th>City_Tier II Cities</th>                              <td> 6.061e+13</td> <td> 2.28e+06</td> <td> 2.65e+07</td> <td> 0.000</td> <td> 6.06e+13</td> <td> 6.06e+13</td>\n",
       "</tr>\n",
       "<tr>\n",
       "  <th>LastNotableActivity_Email Bounced</th>                <td>-2.714e+15</td> <td> 6.87e+07</td> <td>-3.95e+07</td> <td> 0.000</td> <td>-2.71e+15</td> <td>-2.71e+15</td>\n",
       "</tr>\n",
       "<tr>\n",
       "  <th>LastNotableActivity_Email Link Clicked</th>           <td>-2.276e+15</td> <td> 6.79e+07</td> <td>-3.35e+07</td> <td> 0.000</td> <td>-2.28e+15</td> <td>-2.28e+15</td>\n",
       "</tr>\n",
       "<tr>\n",
       "  <th>LastNotableActivity_Email Marked Spam</th>            <td>  3.05e+19</td> <td>  1.4e+12</td> <td> 2.18e+07</td> <td> 0.000</td> <td> 3.05e+19</td> <td> 3.05e+19</td>\n",
       "</tr>\n",
       "<tr>\n",
       "  <th>LastNotableActivity_Email Opened</th>                 <td>-2.585e+15</td> <td> 6.75e+07</td> <td>-3.83e+07</td> <td> 0.000</td> <td>-2.58e+15</td> <td>-2.58e+15</td>\n",
       "</tr>\n",
       "<tr>\n",
       "  <th>LastNotableActivity_Email Received</th>               <td> 2.885e+13</td> <td>  9.6e+07</td> <td>    3e+05</td> <td> 0.000</td> <td> 2.88e+13</td> <td> 2.88e+13</td>\n",
       "</tr>\n",
       "<tr>\n",
       "  <th>LastNotableActivity_Form Submitted on Website</th>    <td>-8.774e+15</td> <td> 9.54e+07</td> <td> -9.2e+07</td> <td> 0.000</td> <td>-8.77e+15</td> <td>-8.77e+15</td>\n",
       "</tr>\n",
       "<tr>\n",
       "  <th>LastNotableActivity_Had a Phone Conversation</th>     <td>-1.652e+15</td> <td> 7.08e+07</td> <td>-2.33e+07</td> <td> 0.000</td> <td>-1.65e+15</td> <td>-1.65e+15</td>\n",
       "</tr>\n",
       "<tr>\n",
       "  <th>LastNotableActivity_Modified</th>                     <td>-2.824e+15</td> <td> 6.76e+07</td> <td>-4.18e+07</td> <td> 0.000</td> <td>-2.82e+15</td> <td>-2.82e+15</td>\n",
       "</tr>\n",
       "<tr>\n",
       "  <th>LastNotableActivity_Olark Chat Conversation</th>      <td>-3.088e+15</td> <td> 6.82e+07</td> <td>-4.53e+07</td> <td> 0.000</td> <td>-3.09e+15</td> <td>-3.09e+15</td>\n",
       "</tr>\n",
       "<tr>\n",
       "  <th>LastNotableActivity_Page Visited on Website</th>      <td>-2.632e+15</td> <td> 6.77e+07</td> <td>-3.89e+07</td> <td> 0.000</td> <td>-2.63e+15</td> <td>-2.63e+15</td>\n",
       "</tr>\n",
       "<tr>\n",
       "  <th>LastNotableActivity_Resubscribed to emails</th>       <td>-2.706e+14</td> <td> 9.54e+07</td> <td>-2.84e+06</td> <td> 0.000</td> <td>-2.71e+14</td> <td>-2.71e+14</td>\n",
       "</tr>\n",
       "<tr>\n",
       "  <th>LastNotableActivity_SMS Sent</th>                     <td>-1.932e+15</td> <td> 6.75e+07</td> <td>-2.86e+07</td> <td> 0.000</td> <td>-1.93e+15</td> <td>-1.93e+15</td>\n",
       "</tr>\n",
       "<tr>\n",
       "  <th>LastNotableActivity_Unreachable</th>                  <td>-2.007e+15</td> <td> 6.95e+07</td> <td>-2.89e+07</td> <td> 0.000</td> <td>-2.01e+15</td> <td>-2.01e+15</td>\n",
       "</tr>\n",
       "<tr>\n",
       "  <th>LastNotableActivity_Unsubscribed</th>                 <td>-2.364e+15</td> <td> 6.88e+07</td> <td>-3.44e+07</td> <td> 0.000</td> <td>-2.36e+15</td> <td>-2.36e+15</td>\n",
       "</tr>\n",
       "<tr>\n",
       "  <th>LastNotableActivity_View in browser link Clicked</th> <td>         0</td> <td>        0</td> <td>      nan</td> <td>   nan</td> <td>        0</td> <td>        0</td>\n",
       "</tr>\n",
       "</table>"
      ],
      "text/plain": [
       "<class 'statsmodels.iolib.summary.Summary'>\n",
       "\"\"\"\n",
       "                 Generalized Linear Model Regression Results                  \n",
       "==============================================================================\n",
       "Dep. Variable:              Converted   No. Observations:                 5190\n",
       "Model:                            GLM   Df Residuals:                     5062\n",
       "Model Family:                Binomial   Df Model:                          127\n",
       "Link Function:                  logit   Scale:                          1.0000\n",
       "Method:                          IRLS   Log-Likelihood:                    nan\n",
       "Date:                Mon, 31 Aug 2020   Deviance:                          nan\n",
       "Time:                        15:50:25   Pearson chi2:                 5.25e+18\n",
       "No. Iterations:                   100                                         \n",
       "Covariance Type:            nonrobust                                         \n",
       "====================================================================================================================\n",
       "                                                       coef    std err          z      P>|z|      [0.025      0.975]\n",
       "--------------------------------------------------------------------------------------------------------------------\n",
       "const                                            -1.583e+27   7.28e+19  -2.18e+07      0.000   -1.58e+27   -1.58e+27\n",
       "NoEmail                                          -8.589e+14    3.9e+06   -2.2e+08      0.000   -8.59e+14   -8.59e+14\n",
       "NoCall                                            9.499e+14    4.8e+07   1.98e+07      0.000     9.5e+14     9.5e+14\n",
       "TimeSpent                                         6.387e+14      1e+06   6.37e+08      0.000    6.39e+14    6.39e+14\n",
       "PageView                                         -1.499e+14   1.42e+06  -1.05e+08      0.000    -1.5e+14    -1.5e+14\n",
       "Search                                           -4.692e+14   2.62e+07  -1.79e+07      0.000   -4.69e+14   -4.69e+14\n",
       "PaperArticle                                      2.366e+15   6.77e+07    3.5e+07      0.000    2.37e+15    2.37e+15\n",
       "Forum                                            -3.611e+15   1.16e+08  -3.11e+07      0.000   -3.61e+15   -3.61e+15\n",
       "Newspaper                                        -4.988e+15   6.79e+07  -7.34e+07      0.000   -4.99e+15   -4.99e+15\n",
       "DigitalAd                                        -1.044e+15   3.92e+07  -2.67e+07      0.000   -1.04e+15   -1.04e+15\n",
       "ThroughRecom                                      7.172e+14   3.47e+07   2.07e+07      0.000    7.17e+14    7.17e+14\n",
       "Interview                                        -9.378e+13    3.6e+06   -2.6e+07      0.000   -9.38e+13   -9.38e+13\n",
       "Lead Origin_Landing Page Submission              -3.945e+14   4.51e+06  -8.75e+07      0.000   -3.95e+14   -3.95e+14\n",
       "Lead Origin_Lead Add Form                         1.558e+15    1.9e+07   8.18e+07      0.000    1.56e+15    1.56e+15\n",
       "Lead Origin_Lead Import                          -3.745e+14    4.9e+07  -7.65e+06      0.000   -3.75e+14   -3.75e+14\n",
       "Lead Origin_Quick Add Form                        2.766e+15   6.95e+07   3.98e+07      0.000    2.77e+15    2.77e+15\n",
       "Lead Source_Direct Traffic                        1.583e+27   7.28e+19   2.18e+07      0.000    1.58e+27    1.58e+27\n",
       "Lead Source_Facebook                              1.583e+27   7.28e+19   2.18e+07      0.000    1.58e+27    1.58e+27\n",
       "Lead Source_Google                                1.583e+27   7.28e+19   2.18e+07      0.000    1.58e+27    1.58e+27\n",
       "Lead Source_Live Chat                             1.583e+27   7.28e+19   2.18e+07      0.000    1.58e+27    1.58e+27\n",
       "Lead Source_NC_EDM                                1.583e+27   7.28e+19   2.18e+07      0.000    1.58e+27    1.58e+27\n",
       "Lead Source_Olark Chat                            1.583e+27   7.28e+19   2.18e+07      0.000    1.58e+27    1.58e+27\n",
       "Lead Source_Organic Search                        1.583e+27   7.28e+19   2.18e+07      0.000    1.58e+27    1.58e+27\n",
       "Lead Source_Pay per Click Ads                     1.583e+27   7.28e+19   2.18e+07      0.000    1.58e+27    1.58e+27\n",
       "Lead Source_Press_Release                         1.583e+27   7.28e+19   2.18e+07      0.000    1.58e+27    1.58e+27\n",
       "Lead Source_Reference                             1.583e+27   7.28e+19   2.18e+07      0.000    1.58e+27    1.58e+27\n",
       "Lead Source_Referral Sites                        1.583e+27   7.28e+19   2.18e+07      0.000    1.58e+27    1.58e+27\n",
       "Lead Source_Social Media                          1.583e+27   7.28e+19   2.18e+07      0.000    1.58e+27    1.58e+27\n",
       "Lead Source_WeLearn                               1.583e+27   7.28e+19   2.18e+07      0.000    1.58e+27    1.58e+27\n",
       "Lead Source_Welingak Website                      1.583e+27   7.28e+19   2.18e+07      0.000    1.58e+27    1.58e+27\n",
       "Lead Source_bing                                  1.583e+27   7.28e+19   2.18e+07      0.000    1.58e+27    1.58e+27\n",
       "Lead Source_blog                                  1.583e+27   7.28e+19   2.18e+07      0.000    1.58e+27    1.58e+27\n",
       "Lead Source_google                                1.583e+27   7.28e+19   2.18e+07      0.000    1.58e+27    1.58e+27\n",
       "Lead Source_testone                               1.583e+27   7.28e+19   2.18e+07      0.000    1.58e+27    1.58e+27\n",
       "Lead Source_welearnblog_Home                      1.583e+27   7.28e+19   2.18e+07      0.000    1.58e+27    1.58e+27\n",
       "Lead Source_youtubechannel                        1.583e+27   7.28e+19   2.18e+07      0.000    1.58e+27    1.58e+27\n",
       "TotalVisits_1                                    -7.791e+14      9e+06  -8.66e+07      0.000   -7.79e+14   -7.79e+14\n",
       "TotalVisits_10                                    8.338e+12   1.22e+07   6.83e+05      0.000    8.34e+12    8.34e+12\n",
       "TotalVisits_11                                   -4.124e+14   1.31e+07  -3.14e+07      0.000   -4.12e+14   -4.12e+14\n",
       "TotalVisits_115                                   3.362e+15   7.26e+07   4.63e+07      0.000    3.36e+15    3.36e+15\n",
       "TotalVisits_12                                    1.369e+14   1.61e+07   8.52e+06      0.000    1.37e+14    1.37e+14\n",
       "TotalVisits_13                                   -3.161e+13   1.69e+07  -1.87e+06      0.000   -3.16e+13   -3.16e+13\n",
       "TotalVisits_14                                   -5.462e+14   1.86e+07  -2.93e+07      0.000   -5.46e+14   -5.46e+14\n",
       "TotalVisits_141                                   -3.84e+15   6.83e+07  -5.62e+07      0.000   -3.84e+15   -3.84e+15\n",
       "TotalVisits_15                                   -4.308e+14   2.57e+07  -1.67e+07      0.000   -4.31e+14   -4.31e+14\n",
       "TotalVisits_16                                   -4.071e+14   2.23e+07  -1.83e+07      0.000   -4.07e+14   -4.07e+14\n",
       "TotalVisits_17                                   -1.397e+15   2.22e+07   -6.3e+07      0.000    -1.4e+15    -1.4e+15\n",
       "TotalVisits_18                                   -1.052e+13   2.34e+07   -4.5e+05      0.000   -1.05e+13   -1.05e+13\n",
       "TotalVisits_19                                    1.699e+14   2.92e+07   5.82e+06      0.000     1.7e+14     1.7e+14\n",
       "TotalVisits_2                                    -5.517e+14    8.9e+06   -6.2e+07      0.000   -5.52e+14   -5.52e+14\n",
       "TotalVisits_20                                    7.619e+14   3.53e+07   2.16e+07      0.000    7.62e+14    7.62e+14\n",
       "TotalVisits_21                                    7.264e+14   3.52e+07   2.07e+07      0.000    7.26e+14    7.26e+14\n",
       "TotalVisits_22                                   -3.202e+14   4.04e+07  -7.92e+06      0.000    -3.2e+14    -3.2e+14\n",
       "TotalVisits_23                                   -2.249e+15   4.02e+07   -5.6e+07      0.000   -2.25e+15   -2.25e+15\n",
       "TotalVisits_24                                     3.96e+15   4.07e+07   9.72e+07      0.000    3.96e+15    3.96e+15\n",
       "TotalVisits_25                                   -1.634e+15   3.16e+07  -5.18e+07      0.000   -1.63e+15   -1.63e+15\n",
       "TotalVisits_251                                    1.35e+25   6.21e+17   2.18e+07      0.000    1.35e+25    1.35e+25\n",
       "TotalVisits_26                                    2.622e+15   6.79e+07   3.86e+07      0.000    2.62e+15    2.62e+15\n",
       "TotalVisits_27                                    6.836e+14   4.85e+07   1.41e+07      0.000    6.84e+14    6.84e+14\n",
       "TotalVisits_28                                   -1.396e+15   4.89e+07  -2.86e+07      0.000    -1.4e+15    -1.4e+15\n",
       "TotalVisits_29                                   -1.477e+15   6.82e+07  -2.17e+07      0.000   -1.48e+15   -1.48e+15\n",
       "TotalVisits_3                                    -4.604e+14   8.96e+06  -5.14e+07      0.000    -4.6e+14    -4.6e+14\n",
       "TotalVisits_30                                    2.491e+25   1.15e+18   2.18e+07      0.000    2.49e+25    2.49e+25\n",
       "TotalVisits_32                                   -3.358e+15   6.77e+07  -4.96e+07      0.000   -3.36e+15   -3.36e+15\n",
       "TotalVisits_4                                    -4.342e+14   9.25e+06  -4.69e+07      0.000   -4.34e+14   -4.34e+14\n",
       "TotalVisits_41                                   -3.308e+15   6.85e+07  -4.83e+07      0.000   -3.31e+15   -3.31e+15\n",
       "TotalVisits_42                                    1.269e+25   5.83e+17   2.18e+07      0.000    1.27e+25    1.27e+25\n",
       "TotalVisits_43                                   -4.781e+15    6.8e+07  -7.03e+07      0.000   -4.78e+15   -4.78e+15\n",
       "TotalVisits_5                                    -4.145e+13   9.51e+06  -4.36e+06      0.000   -4.15e+13   -4.15e+13\n",
       "TotalVisits_54                                   -8.305e+15   6.92e+07   -1.2e+08      0.000   -8.31e+15   -8.31e+15\n",
       "TotalVisits_55                                   -5.948e+23   2.73e+16  -2.18e+07      0.000   -5.95e+23   -5.95e+23\n",
       "TotalVisits_6                                    -3.517e+14   9.95e+06  -3.54e+07      0.000   -3.52e+14   -3.52e+14\n",
       "TotalVisits_7                                    -2.426e+14   1.03e+07  -2.34e+07      0.000   -2.43e+14   -2.43e+14\n",
       "TotalVisits_74                                   -1.598e+25   7.35e+17  -2.18e+07      0.000    -1.6e+25    -1.6e+25\n",
       "TotalVisits_8                                      4.18e+13    1.1e+07   3.81e+06      0.000    4.18e+13    4.18e+13\n",
       "TotalVisits_9                                     9.311e+13   1.12e+07   8.34e+06      0.000    9.31e+13    9.31e+13\n",
       "Country_Rest_OF_World                            -2.143e+14   5.16e+06  -4.16e+07      0.000   -2.14e+14   -2.14e+14\n",
       "Country_unknown                                   3.158e+13   7.67e+06   4.12e+06      0.000    3.16e+13    3.16e+13\n",
       "Specialization_Business Administration           -1.617e+14   6.28e+06  -2.57e+07      0.000   -1.62e+14   -1.62e+14\n",
       "Specialization_E-Business                         1.832e+14   1.18e+07   1.56e+07      0.000    1.83e+14    1.83e+14\n",
       "Specialization_E-COMMERCE                        -3.288e+14   9.77e+06  -3.36e+07      0.000   -3.29e+14   -3.29e+14\n",
       "Specialization_Finance Management                -2.514e+14   5.35e+06   -4.7e+07      0.000   -2.51e+14   -2.51e+14\n",
       "Specialization_Healthcare Management             -2.332e+14      8e+06  -2.92e+07      0.000   -2.33e+14   -2.33e+14\n",
       "Specialization_Hospitality Management            -5.698e+14   8.94e+06  -6.37e+07      0.000    -5.7e+14    -5.7e+14\n",
       "Specialization_Human Resource Management         -1.656e+14   5.49e+06  -3.01e+07      0.000   -1.66e+14   -1.66e+14\n",
       "Specialization_IT Projects Management            -1.414e+14   6.41e+06  -2.21e+07      0.000   -1.41e+14   -1.41e+14\n",
       "Specialization_International Business            -2.951e+14   7.73e+06  -3.82e+07      0.000   -2.95e+14   -2.95e+14\n",
       "Specialization_Marketing Management              -1.909e+14   5.51e+06  -3.47e+07      0.000   -1.91e+14   -1.91e+14\n",
       "Specialization_Media and Advertising             -3.596e+14   7.29e+06  -4.93e+07      0.000    -3.6e+14    -3.6e+14\n",
       "Specialization_Not Given                         -4.725e+14   6.31e+06  -7.49e+07      0.000   -4.72e+14   -4.72e+14\n",
       "Specialization_Operations Management             -1.696e+14   5.98e+06  -2.84e+07      0.000    -1.7e+14    -1.7e+14\n",
       "Specialization_Retail Management                 -3.342e+14   9.26e+06  -3.61e+07      0.000   -3.34e+14   -3.34e+14\n",
       "Specialization_Rural and Agribusiness             8.202e+13   1.06e+07   7.71e+06      0.000     8.2e+13     8.2e+13\n",
       "Specialization_Services Excellence               -4.177e+14   1.34e+07  -3.11e+07      0.000   -4.18e+14   -4.18e+14\n",
       "Specialization_Supply Chain Management           -1.583e+14   6.28e+06  -2.52e+07      0.000   -1.58e+14   -1.58e+14\n",
       "Specialization_Travel and Tourism                -3.913e+14   7.67e+06   -5.1e+07      0.000   -3.91e+14   -3.91e+14\n",
       "HearAboutX_Email                                 -2.157e+13    1.9e+07  -1.13e+06      0.000   -2.16e+13   -2.16e+13\n",
       "HearAboutX_Multiple Sources                      -3.487e+14   1.24e+07  -2.81e+07      0.000   -3.49e+14   -3.49e+14\n",
       "HearAboutX_Not Given                             -1.609e+14   1.12e+07  -1.44e+07      0.000   -1.61e+14   -1.61e+14\n",
       "HearAboutX_Online Search                         -5.546e+11   1.08e+07  -5.14e+04      0.000   -5.55e+11   -5.55e+11\n",
       "HearAboutX_Other                                 -3.271e+14    1.2e+07  -2.72e+07      0.000   -3.27e+14   -3.27e+14\n",
       "HearAboutX_SMS                                   -8.845e+14    2.1e+07  -4.22e+07      0.000   -8.84e+14   -8.84e+14\n",
       "HearAboutX_Social Media                          -3.111e+14   1.46e+07  -2.13e+07      0.000   -3.11e+14   -3.11e+14\n",
       "HearAboutX_Student of SomeSchool                 -2.127e+13   1.14e+07  -1.86e+06      0.000   -2.13e+13   -2.13e+13\n",
       "HearAboutX_Unknown                                2.145e+14   1.17e+07   1.84e+07      0.000    2.14e+14    2.14e+14\n",
       "HearAboutX_Word Of Mouth                          -5.48e+13   1.13e+07  -4.85e+06      0.000   -5.48e+13   -5.48e+13\n",
       "CurrentOccupation_Housewife                       2.389e+15   3.98e+07      6e+07      0.000    2.39e+15    2.39e+15\n",
       "CurrentOccupation_Not Given                       4.852e+15   3.18e+07   1.53e+08      0.000    4.85e+15    4.85e+15\n",
       "CurrentOccupation_Other                           8.816e+14   3.37e+07   2.61e+07      0.000    8.82e+14    8.82e+14\n",
       "CurrentOccupation_Student                        -2.219e+14   2.66e+07  -8.34e+06      0.000   -2.22e+14   -2.22e+14\n",
       "CurrentOccupation_Unemployed                     -1.955e+14   2.59e+07  -7.54e+06      0.000   -1.96e+14   -1.96e+14\n",
       "CurrentOccupation_Working Professional            4.351e+14   2.61e+07   1.67e+07      0.000    4.35e+14    4.35e+14\n",
       "MattersMost_Flexibility & Convenience            -7.192e+15   6.75e+07  -1.07e+08      0.000   -7.19e+15   -7.19e+15\n",
       "MattersMost_Not Given                            -5.585e+15   2.23e+07  -2.51e+08      0.000   -5.58e+15   -5.58e+15\n",
       "MattersMost_Other                                -7.674e+21   3.53e+14  -2.18e+07      0.000   -7.67e+21   -7.67e+21\n",
       "Lead Profile_Lateral Student                     -2.893e+15   2.52e+07  -1.15e+08      0.000   -2.89e+15   -2.89e+15\n",
       "Lead Profile_Not Given                           -2.332e+15   1.83e+07  -1.28e+08      0.000   -2.33e+15   -2.33e+15\n",
       "Lead Profile_Other Leads                         -2.173e+15   1.86e+07  -1.17e+08      0.000   -2.17e+15   -2.17e+15\n",
       "Lead Profile_Potential Lead                      -2.858e+15   1.83e+07  -1.56e+08      0.000   -2.86e+15   -2.86e+15\n",
       "Lead Profile_Student of SomeSchool               -3.428e+15   1.93e+07  -1.78e+08      0.000   -3.43e+15   -3.43e+15\n",
       "City_Not Given                                   -1.648e+14   4.78e+06  -3.45e+07      0.000   -1.65e+14   -1.65e+14\n",
       "City_Tier II Cities                               6.061e+13   2.28e+06   2.65e+07      0.000    6.06e+13    6.06e+13\n",
       "LastNotableActivity_Email Bounced                -2.714e+15   6.87e+07  -3.95e+07      0.000   -2.71e+15   -2.71e+15\n",
       "LastNotableActivity_Email Link Clicked           -2.276e+15   6.79e+07  -3.35e+07      0.000   -2.28e+15   -2.28e+15\n",
       "LastNotableActivity_Email Marked Spam              3.05e+19    1.4e+12   2.18e+07      0.000    3.05e+19    3.05e+19\n",
       "LastNotableActivity_Email Opened                 -2.585e+15   6.75e+07  -3.83e+07      0.000   -2.58e+15   -2.58e+15\n",
       "LastNotableActivity_Email Received                2.885e+13    9.6e+07      3e+05      0.000    2.88e+13    2.88e+13\n",
       "LastNotableActivity_Form Submitted on Website    -8.774e+15   9.54e+07   -9.2e+07      0.000   -8.77e+15   -8.77e+15\n",
       "LastNotableActivity_Had a Phone Conversation     -1.652e+15   7.08e+07  -2.33e+07      0.000   -1.65e+15   -1.65e+15\n",
       "LastNotableActivity_Modified                     -2.824e+15   6.76e+07  -4.18e+07      0.000   -2.82e+15   -2.82e+15\n",
       "LastNotableActivity_Olark Chat Conversation      -3.088e+15   6.82e+07  -4.53e+07      0.000   -3.09e+15   -3.09e+15\n",
       "LastNotableActivity_Page Visited on Website      -2.632e+15   6.77e+07  -3.89e+07      0.000   -2.63e+15   -2.63e+15\n",
       "LastNotableActivity_Resubscribed to emails       -2.706e+14   9.54e+07  -2.84e+06      0.000   -2.71e+14   -2.71e+14\n",
       "LastNotableActivity_SMS Sent                     -1.932e+15   6.75e+07  -2.86e+07      0.000   -1.93e+15   -1.93e+15\n",
       "LastNotableActivity_Unreachable                  -2.007e+15   6.95e+07  -2.89e+07      0.000   -2.01e+15   -2.01e+15\n",
       "LastNotableActivity_Unsubscribed                 -2.364e+15   6.88e+07  -3.44e+07      0.000   -2.36e+15   -2.36e+15\n",
       "LastNotableActivity_View in browser link Clicked          0          0        nan        nan           0           0\n",
       "====================================================================================================================\n",
       "\"\"\""
      ]
     },
     "execution_count": 75,
     "metadata": {},
     "output_type": "execute_result"
    }
   ],
   "source": [
    "# Logistic regression model\n",
    "logm1 = sm.GLM(y_train,(sm.add_constant(X_train)), family = sm.families.Binomial())\n",
    "logm1.fit().summary()"
   ]
  },
  {
   "cell_type": "markdown",
   "metadata": {},
   "source": [
    "## For 127 features, we should use RFE"
   ]
  },
  {
   "cell_type": "code",
   "execution_count": 76,
   "metadata": {},
   "outputs": [
    {
     "data": {
      "text/plain": [
       "[('NoEmail', True, 1),\n",
       " ('NoCall', False, 49),\n",
       " ('TimeSpent', True, 1),\n",
       " ('PageView', False, 47),\n",
       " ('Search', False, 34),\n",
       " ('PaperArticle', False, 25),\n",
       " ('Forum', False, 74),\n",
       " ('Newspaper', False, 21),\n",
       " ('DigitalAd', False, 52),\n",
       " ('ThroughRecom', False, 33),\n",
       " ('Interview', False, 78),\n",
       " ('Lead Origin_Landing Page Submission', False, 5),\n",
       " ('Lead Origin_Lead Add Form', True, 1),\n",
       " ('Lead Origin_Lead Import', False, 39),\n",
       " ('Lead Origin_Quick Add Form', False, 86),\n",
       " ('Lead Source_Direct Traffic', False, 67),\n",
       " ('Lead Source_Facebook', False, 4),\n",
       " ('Lead Source_Google', False, 107),\n",
       " ('Lead Source_Live Chat', False, 85),\n",
       " ('Lead Source_NC_EDM', False, 7),\n",
       " ('Lead Source_Olark Chat', False, 71),\n",
       " ('Lead Source_Organic Search', False, 70),\n",
       " ('Lead Source_Pay per Click Ads', False, 79),\n",
       " ('Lead Source_Press_Release', False, 108),\n",
       " ('Lead Source_Reference', False, 37),\n",
       " ('Lead Source_Referral Sites', False, 36),\n",
       " ('Lead Source_Social Media', False, 55),\n",
       " ('Lead Source_WeLearn', False, 75),\n",
       " ('Lead Source_Welingak Website', True, 1),\n",
       " ('Lead Source_bing', False, 59),\n",
       " ('Lead Source_blog', False, 88),\n",
       " ('Lead Source_google', False, 51),\n",
       " ('Lead Source_testone', False, 56),\n",
       " ('Lead Source_welearnblog_Home', False, 94),\n",
       " ('Lead Source_youtubechannel', False, 101),\n",
       " ('TotalVisits_1', True, 1),\n",
       " ('TotalVisits_10', False, 69),\n",
       " ('TotalVisits_11', False, 18),\n",
       " ('TotalVisits_115', False, 106),\n",
       " ('TotalVisits_12', False, 15),\n",
       " ('TotalVisits_13', False, 68),\n",
       " ('TotalVisits_14', False, 40),\n",
       " ('TotalVisits_141', False, 102),\n",
       " ('TotalVisits_15', False, 96),\n",
       " ('TotalVisits_16', False, 41),\n",
       " ('TotalVisits_17', True, 1),\n",
       " ('TotalVisits_18', False, 91),\n",
       " ('TotalVisits_19', False, 50),\n",
       " ('TotalVisits_2', False, 42),\n",
       " ('TotalVisits_20', False, 93),\n",
       " ('TotalVisits_21', True, 1),\n",
       " ('TotalVisits_22', False, 28),\n",
       " ('TotalVisits_23', False, 95),\n",
       " ('TotalVisits_24', True, 1),\n",
       " ('TotalVisits_25', False, 38),\n",
       " ('TotalVisits_251', False, 112),\n",
       " ('TotalVisits_26', False, 97),\n",
       " ('TotalVisits_27', False, 27),\n",
       " ('TotalVisits_28', False, 62),\n",
       " ('TotalVisits_29', False, 89),\n",
       " ('TotalVisits_3', False, 45),\n",
       " ('TotalVisits_30', False, 114),\n",
       " ('TotalVisits_32', False, 77),\n",
       " ('TotalVisits_4', False, 43),\n",
       " ('TotalVisits_41', False, 103),\n",
       " ('TotalVisits_42', False, 115),\n",
       " ('TotalVisits_43', False, 76),\n",
       " ('TotalVisits_5', False, 92),\n",
       " ('TotalVisits_54', False, 17),\n",
       " ('TotalVisits_55', False, 113),\n",
       " ('TotalVisits_6', False, 58),\n",
       " ('TotalVisits_7', False, 61),\n",
       " ('TotalVisits_74', False, 111),\n",
       " ('TotalVisits_8', False, 16),\n",
       " ('TotalVisits_9', False, 12),\n",
       " ('Country_Rest_OF_World', False, 32),\n",
       " ('Country_unknown', True, 1),\n",
       " ('Specialization_Business Administration', False, 82),\n",
       " ('Specialization_E-Business', False, 19),\n",
       " ('Specialization_E-COMMERCE', False, 48),\n",
       " ('Specialization_Finance Management', False, 72),\n",
       " ('Specialization_Healthcare Management', False, 65),\n",
       " ('Specialization_Hospitality Management', False, 13),\n",
       " ('Specialization_Human Resource Management', False, 84),\n",
       " ('Specialization_IT Projects Management', False, 109),\n",
       " ('Specialization_International Business', False, 54),\n",
       " ('Specialization_Marketing Management', False, 80),\n",
       " ('Specialization_Media and Advertising', False, 60),\n",
       " ('Specialization_Not Given', False, 64),\n",
       " ('Specialization_Operations Management', False, 105),\n",
       " ('Specialization_Retail Management', False, 63),\n",
       " ('Specialization_Rural and Agribusiness', True, 1),\n",
       " ('Specialization_Services Excellence', False, 81),\n",
       " ('Specialization_Supply Chain Management', False, 83),\n",
       " ('Specialization_Travel and Tourism', False, 57),\n",
       " ('HearAboutX_Email', False, 3),\n",
       " ('HearAboutX_Multiple Sources', False, 23),\n",
       " ('HearAboutX_Not Given', False, 24),\n",
       " ('HearAboutX_Online Search', False, 99),\n",
       " ('HearAboutX_Other', False, 35),\n",
       " ('HearAboutX_SMS', True, 1),\n",
       " ('HearAboutX_Social Media', False, 73),\n",
       " ('HearAboutX_Student of SomeSchool', False, 98),\n",
       " ('HearAboutX_Unknown', False, 66),\n",
       " ('HearAboutX_Word Of Mouth', False, 100),\n",
       " ('CurrentOccupation_Housewife', True, 1),\n",
       " ('CurrentOccupation_Not Given', False, 22),\n",
       " ('CurrentOccupation_Other', False, 46),\n",
       " ('CurrentOccupation_Student', False, 20),\n",
       " ('CurrentOccupation_Unemployed', False, 14),\n",
       " ('CurrentOccupation_Working Professional', True, 1),\n",
       " ('MattersMost_Flexibility & Convenience', True, 1),\n",
       " ('MattersMost_Not Given', False, 8),\n",
       " ('MattersMost_Other', False, 116),\n",
       " ('Lead Profile_Lateral Student', False, 10),\n",
       " ('Lead Profile_Not Given', True, 1),\n",
       " ('Lead Profile_Other Leads', True, 1),\n",
       " ('Lead Profile_Potential Lead', False, 9),\n",
       " ('Lead Profile_Student of SomeSchool', True, 1),\n",
       " ('City_Not Given', False, 6),\n",
       " ('City_Tier II Cities', False, 104),\n",
       " ('LastNotableActivity_Email Bounced', False, 44),\n",
       " ('LastNotableActivity_Email Link Clicked', False, 53),\n",
       " ('LastNotableActivity_Email Marked Spam', False, 110),\n",
       " ('LastNotableActivity_Email Opened', False, 30),\n",
       " ('LastNotableActivity_Email Received', False, 90),\n",
       " ('LastNotableActivity_Form Submitted on Website', False, 87),\n",
       " ('LastNotableActivity_Had a Phone Conversation', True, 1),\n",
       " ('LastNotableActivity_Modified', False, 26),\n",
       " ('LastNotableActivity_Olark Chat Conversation', False, 11),\n",
       " ('LastNotableActivity_Page Visited on Website', False, 29),\n",
       " ('LastNotableActivity_Resubscribed to emails', False, 2),\n",
       " ('LastNotableActivity_SMS Sent', True, 1),\n",
       " ('LastNotableActivity_Unreachable', True, 1),\n",
       " ('LastNotableActivity_Unsubscribed', False, 31),\n",
       " ('LastNotableActivity_View in browser link Clicked', False, 117)]"
      ]
     },
     "execution_count": 76,
     "metadata": {},
     "output_type": "execute_result"
    }
   ],
   "source": [
    "logreg = LogisticRegression()\n",
    "from sklearn.feature_selection import RFE\n",
    "rfe = RFE(logreg, 20) # running RFE with 20 variables as output\n",
    "rfe = rfe.fit(X_train, y_train)\n",
    "list(zip(X_train.columns, rfe.support_, rfe.ranking_))"
   ]
  },
  {
   "cell_type": "code",
   "execution_count": 77,
   "metadata": {},
   "outputs": [
    {
     "data": {
      "text/plain": [
       "Index(['NoCall', 'PageView', 'Search', 'PaperArticle', 'Forum', 'Newspaper',\n",
       "       'DigitalAd', 'ThroughRecom', 'Interview',\n",
       "       'Lead Origin_Landing Page Submission',\n",
       "       ...\n",
       "       'LastNotableActivity_Email Marked Spam',\n",
       "       'LastNotableActivity_Email Opened',\n",
       "       'LastNotableActivity_Email Received',\n",
       "       'LastNotableActivity_Form Submitted on Website',\n",
       "       'LastNotableActivity_Modified',\n",
       "       'LastNotableActivity_Olark Chat Conversation',\n",
       "       'LastNotableActivity_Page Visited on Website',\n",
       "       'LastNotableActivity_Resubscribed to emails',\n",
       "       'LastNotableActivity_Unsubscribed',\n",
       "       'LastNotableActivity_View in browser link Clicked'],\n",
       "      dtype='object', length=116)"
      ]
     },
     "execution_count": 77,
     "metadata": {},
     "output_type": "execute_result"
    }
   ],
   "source": [
    "col = X_train.columns[rfe.support_]\n",
    "X_train.columns[~rfe.support_]"
   ]
  },
  {
   "cell_type": "markdown",
   "metadata": {},
   "source": [
    "### Model 2"
   ]
  },
  {
   "cell_type": "code",
   "execution_count": 78,
   "metadata": {},
   "outputs": [
    {
     "data": {
      "text/html": [
       "<table class=\"simpletable\">\n",
       "<caption>Generalized Linear Model Regression Results</caption>\n",
       "<tr>\n",
       "  <th>Dep. Variable:</th>       <td>Converted</td>    <th>  No. Observations:  </th>  <td>  5190</td> \n",
       "</tr>\n",
       "<tr>\n",
       "  <th>Model:</th>                  <td>GLM</td>       <th>  Df Residuals:      </th>  <td>  5169</td> \n",
       "</tr>\n",
       "<tr>\n",
       "  <th>Model Family:</th>        <td>Binomial</td>     <th>  Df Model:          </th>  <td>    20</td> \n",
       "</tr>\n",
       "<tr>\n",
       "  <th>Link Function:</th>         <td>logit</td>      <th>  Scale:             </th> <td>  1.0000</td>\n",
       "</tr>\n",
       "<tr>\n",
       "  <th>Method:</th>                <td>IRLS</td>       <th>  Log-Likelihood:    </th> <td> -2079.5</td>\n",
       "</tr>\n",
       "<tr>\n",
       "  <th>Date:</th>            <td>Mon, 31 Aug 2020</td> <th>  Deviance:          </th> <td>  4159.0</td>\n",
       "</tr>\n",
       "<tr>\n",
       "  <th>Time:</th>                <td>15:53:15</td>     <th>  Pearson chi2:      </th> <td>6.46e+03</td>\n",
       "</tr>\n",
       "<tr>\n",
       "  <th>No. Iterations:</th>         <td>21</td>        <th>                     </th>     <td> </td>   \n",
       "</tr>\n",
       "<tr>\n",
       "  <th>Covariance Type:</th>     <td>nonrobust</td>    <th>                     </th>     <td> </td>   \n",
       "</tr>\n",
       "</table>\n",
       "<table class=\"simpletable\">\n",
       "<tr>\n",
       "                        <td></td>                          <th>coef</th>     <th>std err</th>      <th>z</th>      <th>P>|z|</th>  <th>[0.025</th>    <th>0.975]</th>  \n",
       "</tr>\n",
       "<tr>\n",
       "  <th>const</th>                                        <td>    0.4737</td> <td>    0.098</td> <td>    4.830</td> <td> 0.000</td> <td>    0.281</td> <td>    0.666</td>\n",
       "</tr>\n",
       "<tr>\n",
       "  <th>NoEmail</th>                                      <td>   -1.6087</td> <td>    0.198</td> <td>   -8.115</td> <td> 0.000</td> <td>   -1.997</td> <td>   -1.220</td>\n",
       "</tr>\n",
       "<tr>\n",
       "  <th>TimeSpent</th>                                    <td>    1.0707</td> <td>    0.041</td> <td>   25.810</td> <td> 0.000</td> <td>    0.989</td> <td>    1.152</td>\n",
       "</tr>\n",
       "<tr>\n",
       "  <th>Lead Origin_Lead Add Form</th>                    <td>    1.7840</td> <td>    0.275</td> <td>    6.492</td> <td> 0.000</td> <td>    1.245</td> <td>    2.323</td>\n",
       "</tr>\n",
       "<tr>\n",
       "  <th>Lead Source_Welingak Website</th>                 <td>    3.2443</td> <td>    1.067</td> <td>    3.041</td> <td> 0.002</td> <td>    1.153</td> <td>    5.335</td>\n",
       "</tr>\n",
       "<tr>\n",
       "  <th>TotalVisits_1</th>                                <td>   -0.8489</td> <td>    0.242</td> <td>   -3.504</td> <td> 0.000</td> <td>   -1.324</td> <td>   -0.374</td>\n",
       "</tr>\n",
       "<tr>\n",
       "  <th>TotalVisits_17</th>                               <td>   -1.8376</td> <td>    1.133</td> <td>   -1.622</td> <td> 0.105</td> <td>   -4.058</td> <td>    0.383</td>\n",
       "</tr>\n",
       "<tr>\n",
       "  <th>TotalVisits_21</th>                               <td>    2.0403</td> <td>    1.279</td> <td>    1.595</td> <td> 0.111</td> <td>   -0.466</td> <td>    4.547</td>\n",
       "</tr>\n",
       "<tr>\n",
       "  <th>TotalVisits_24</th>                               <td>   22.8226</td> <td> 2.75e+04</td> <td>    0.001</td> <td> 0.999</td> <td>-5.39e+04</td> <td>  5.4e+04</td>\n",
       "</tr>\n",
       "<tr>\n",
       "  <th>Country_unknown</th>                              <td>    0.9970</td> <td>    0.169</td> <td>    5.898</td> <td> 0.000</td> <td>    0.666</td> <td>    1.328</td>\n",
       "</tr>\n",
       "<tr>\n",
       "  <th>Specialization_Rural and Agribusiness</th>        <td>    0.9700</td> <td>    0.368</td> <td>    2.635</td> <td> 0.008</td> <td>    0.249</td> <td>    1.691</td>\n",
       "</tr>\n",
       "<tr>\n",
       "  <th>HearAboutX_SMS</th>                               <td>   -1.5017</td> <td>    0.889</td> <td>   -1.690</td> <td> 0.091</td> <td>   -3.244</td> <td>    0.240</td>\n",
       "</tr>\n",
       "<tr>\n",
       "  <th>CurrentOccupation_Housewife</th>                  <td>   23.3835</td> <td>  1.7e+04</td> <td>    0.001</td> <td> 0.999</td> <td>-3.34e+04</td> <td> 3.34e+04</td>\n",
       "</tr>\n",
       "<tr>\n",
       "  <th>CurrentOccupation_Working Professional</th>       <td>    2.4695</td> <td>    0.207</td> <td>   11.924</td> <td> 0.000</td> <td>    2.064</td> <td>    2.875</td>\n",
       "</tr>\n",
       "<tr>\n",
       "  <th>MattersMost_Flexibility & Convenience</th>        <td>  -27.6655</td> <td> 4.82e+04</td> <td>   -0.001</td> <td> 1.000</td> <td>-9.45e+04</td> <td> 9.44e+04</td>\n",
       "</tr>\n",
       "<tr>\n",
       "  <th>Lead Profile_Not Given</th>                       <td>   -2.0514</td> <td>    0.107</td> <td>  -19.250</td> <td> 0.000</td> <td>   -2.260</td> <td>   -1.843</td>\n",
       "</tr>\n",
       "<tr>\n",
       "  <th>Lead Profile_Other Leads</th>                     <td>   -1.4816</td> <td>    0.173</td> <td>   -8.563</td> <td> 0.000</td> <td>   -1.821</td> <td>   -1.142</td>\n",
       "</tr>\n",
       "<tr>\n",
       "  <th>Lead Profile_Student of SomeSchool</th>           <td>   -3.7835</td> <td>    0.491</td> <td>   -7.711</td> <td> 0.000</td> <td>   -4.745</td> <td>   -2.822</td>\n",
       "</tr>\n",
       "<tr>\n",
       "  <th>LastNotableActivity_Had a Phone Conversation</th> <td>    3.2050</td> <td>    1.152</td> <td>    2.781</td> <td> 0.005</td> <td>    0.946</td> <td>    5.464</td>\n",
       "</tr>\n",
       "<tr>\n",
       "  <th>LastNotableActivity_SMS Sent</th>                 <td>    1.5644</td> <td>    0.090</td> <td>   17.374</td> <td> 0.000</td> <td>    1.388</td> <td>    1.741</td>\n",
       "</tr>\n",
       "<tr>\n",
       "  <th>LastNotableActivity_Unreachable</th>              <td>    1.6154</td> <td>    0.625</td> <td>    2.584</td> <td> 0.010</td> <td>    0.390</td> <td>    2.841</td>\n",
       "</tr>\n",
       "</table>"
      ],
      "text/plain": [
       "<class 'statsmodels.iolib.summary.Summary'>\n",
       "\"\"\"\n",
       "                 Generalized Linear Model Regression Results                  \n",
       "==============================================================================\n",
       "Dep. Variable:              Converted   No. Observations:                 5190\n",
       "Model:                            GLM   Df Residuals:                     5169\n",
       "Model Family:                Binomial   Df Model:                           20\n",
       "Link Function:                  logit   Scale:                          1.0000\n",
       "Method:                          IRLS   Log-Likelihood:                -2079.5\n",
       "Date:                Mon, 31 Aug 2020   Deviance:                       4159.0\n",
       "Time:                        15:53:15   Pearson chi2:                 6.46e+03\n",
       "No. Iterations:                    21                                         \n",
       "Covariance Type:            nonrobust                                         \n",
       "================================================================================================================\n",
       "                                                   coef    std err          z      P>|z|      [0.025      0.975]\n",
       "----------------------------------------------------------------------------------------------------------------\n",
       "const                                            0.4737      0.098      4.830      0.000       0.281       0.666\n",
       "NoEmail                                         -1.6087      0.198     -8.115      0.000      -1.997      -1.220\n",
       "TimeSpent                                        1.0707      0.041     25.810      0.000       0.989       1.152\n",
       "Lead Origin_Lead Add Form                        1.7840      0.275      6.492      0.000       1.245       2.323\n",
       "Lead Source_Welingak Website                     3.2443      1.067      3.041      0.002       1.153       5.335\n",
       "TotalVisits_1                                   -0.8489      0.242     -3.504      0.000      -1.324      -0.374\n",
       "TotalVisits_17                                  -1.8376      1.133     -1.622      0.105      -4.058       0.383\n",
       "TotalVisits_21                                   2.0403      1.279      1.595      0.111      -0.466       4.547\n",
       "TotalVisits_24                                  22.8226   2.75e+04      0.001      0.999   -5.39e+04     5.4e+04\n",
       "Country_unknown                                  0.9970      0.169      5.898      0.000       0.666       1.328\n",
       "Specialization_Rural and Agribusiness            0.9700      0.368      2.635      0.008       0.249       1.691\n",
       "HearAboutX_SMS                                  -1.5017      0.889     -1.690      0.091      -3.244       0.240\n",
       "CurrentOccupation_Housewife                     23.3835    1.7e+04      0.001      0.999   -3.34e+04    3.34e+04\n",
       "CurrentOccupation_Working Professional           2.4695      0.207     11.924      0.000       2.064       2.875\n",
       "MattersMost_Flexibility & Convenience          -27.6655   4.82e+04     -0.001      1.000   -9.45e+04    9.44e+04\n",
       "Lead Profile_Not Given                          -2.0514      0.107    -19.250      0.000      -2.260      -1.843\n",
       "Lead Profile_Other Leads                        -1.4816      0.173     -8.563      0.000      -1.821      -1.142\n",
       "Lead Profile_Student of SomeSchool              -3.7835      0.491     -7.711      0.000      -4.745      -2.822\n",
       "LastNotableActivity_Had a Phone Conversation     3.2050      1.152      2.781      0.005       0.946       5.464\n",
       "LastNotableActivity_SMS Sent                     1.5644      0.090     17.374      0.000       1.388       1.741\n",
       "LastNotableActivity_Unreachable                  1.6154      0.625      2.584      0.010       0.390       2.841\n",
       "================================================================================================================\n",
       "\"\"\""
      ]
     },
     "execution_count": 78,
     "metadata": {},
     "output_type": "execute_result"
    }
   ],
   "source": [
    "X_train_sm = sm.add_constant(X_train[col])\n",
    "logm2 = sm.GLM(y_train,X_train_sm, family = sm.families.Binomial())\n",
    "res = logm2.fit()\n",
    "res.summary()"
   ]
  },
  {
   "cell_type": "markdown",
   "metadata": {},
   "source": [
    "### Model 3"
   ]
  },
  {
   "cell_type": "code",
   "execution_count": 79,
   "metadata": {},
   "outputs": [
    {
     "data": {
      "text/html": [
       "<table class=\"simpletable\">\n",
       "<caption>Generalized Linear Model Regression Results</caption>\n",
       "<tr>\n",
       "  <th>Dep. Variable:</th>       <td>Converted</td>    <th>  No. Observations:  </th>  <td>  5190</td> \n",
       "</tr>\n",
       "<tr>\n",
       "  <th>Model:</th>                  <td>GLM</td>       <th>  Df Residuals:      </th>  <td>  5170</td> \n",
       "</tr>\n",
       "<tr>\n",
       "  <th>Model Family:</th>        <td>Binomial</td>     <th>  Df Model:          </th>  <td>    19</td> \n",
       "</tr>\n",
       "<tr>\n",
       "  <th>Link Function:</th>         <td>logit</td>      <th>  Scale:             </th> <td>  1.0000</td>\n",
       "</tr>\n",
       "<tr>\n",
       "  <th>Method:</th>                <td>IRLS</td>       <th>  Log-Likelihood:    </th> <td> -2082.0</td>\n",
       "</tr>\n",
       "<tr>\n",
       "  <th>Date:</th>            <td>Mon, 31 Aug 2020</td> <th>  Deviance:          </th> <td>  4163.9</td>\n",
       "</tr>\n",
       "<tr>\n",
       "  <th>Time:</th>                <td>15:54:26</td>     <th>  Pearson chi2:      </th> <td>6.46e+03</td>\n",
       "</tr>\n",
       "<tr>\n",
       "  <th>No. Iterations:</th>         <td>21</td>        <th>                     </th>     <td> </td>   \n",
       "</tr>\n",
       "<tr>\n",
       "  <th>Covariance Type:</th>     <td>nonrobust</td>    <th>                     </th>     <td> </td>   \n",
       "</tr>\n",
       "</table>\n",
       "<table class=\"simpletable\">\n",
       "<tr>\n",
       "                        <td></td>                          <th>coef</th>     <th>std err</th>      <th>z</th>      <th>P>|z|</th>  <th>[0.025</th>    <th>0.975]</th>  \n",
       "</tr>\n",
       "<tr>\n",
       "  <th>const</th>                                        <td>    0.4742</td> <td>    0.098</td> <td>    4.833</td> <td> 0.000</td> <td>    0.282</td> <td>    0.666</td>\n",
       "</tr>\n",
       "<tr>\n",
       "  <th>NoEmail</th>                                      <td>   -1.6110</td> <td>    0.198</td> <td>   -8.127</td> <td> 0.000</td> <td>   -2.000</td> <td>   -1.223</td>\n",
       "</tr>\n",
       "<tr>\n",
       "  <th>TimeSpent</th>                                    <td>    1.0715</td> <td>    0.041</td> <td>   25.837</td> <td> 0.000</td> <td>    0.990</td> <td>    1.153</td>\n",
       "</tr>\n",
       "<tr>\n",
       "  <th>Lead Origin_Lead Add Form</th>                    <td>    1.7834</td> <td>    0.275</td> <td>    6.491</td> <td> 0.000</td> <td>    1.245</td> <td>    2.322</td>\n",
       "</tr>\n",
       "<tr>\n",
       "  <th>Lead Source_Welingak Website</th>                 <td>    3.2464</td> <td>    1.067</td> <td>    3.043</td> <td> 0.002</td> <td>    1.156</td> <td>    5.337</td>\n",
       "</tr>\n",
       "<tr>\n",
       "  <th>TotalVisits_1</th>                                <td>   -0.8511</td> <td>    0.242</td> <td>   -3.514</td> <td> 0.000</td> <td>   -1.326</td> <td>   -0.376</td>\n",
       "</tr>\n",
       "<tr>\n",
       "  <th>TotalVisits_17</th>                               <td>   -1.8392</td> <td>    1.133</td> <td>   -1.623</td> <td> 0.105</td> <td>   -4.060</td> <td>    0.381</td>\n",
       "</tr>\n",
       "<tr>\n",
       "  <th>TotalVisits_21</th>                               <td>    2.0384</td> <td>    1.279</td> <td>    1.594</td> <td> 0.111</td> <td>   -0.468</td> <td>    4.545</td>\n",
       "</tr>\n",
       "<tr>\n",
       "  <th>Country_unknown</th>                              <td>    0.9950</td> <td>    0.169</td> <td>    5.887</td> <td> 0.000</td> <td>    0.664</td> <td>    1.326</td>\n",
       "</tr>\n",
       "<tr>\n",
       "  <th>Specialization_Rural and Agribusiness</th>        <td>    0.9671</td> <td>    0.368</td> <td>    2.627</td> <td> 0.009</td> <td>    0.246</td> <td>    1.689</td>\n",
       "</tr>\n",
       "<tr>\n",
       "  <th>HearAboutX_SMS</th>                               <td>   -1.5035</td> <td>    0.889</td> <td>   -1.692</td> <td> 0.091</td> <td>   -3.245</td> <td>    0.238</td>\n",
       "</tr>\n",
       "<tr>\n",
       "  <th>CurrentOccupation_Housewife</th>                  <td>   23.3808</td> <td>  1.7e+04</td> <td>    0.001</td> <td> 0.999</td> <td>-3.34e+04</td> <td> 3.34e+04</td>\n",
       "</tr>\n",
       "<tr>\n",
       "  <th>CurrentOccupation_Working Professional</th>       <td>    2.4667</td> <td>    0.207</td> <td>   11.910</td> <td> 0.000</td> <td>    2.061</td> <td>    2.873</td>\n",
       "</tr>\n",
       "<tr>\n",
       "  <th>MattersMost_Flexibility & Convenience</th>        <td>  -27.6602</td> <td> 4.82e+04</td> <td>   -0.001</td> <td> 1.000</td> <td>-9.45e+04</td> <td> 9.44e+04</td>\n",
       "</tr>\n",
       "<tr>\n",
       "  <th>Lead Profile_Not Given</th>                       <td>   -2.0500</td> <td>    0.107</td> <td>  -19.237</td> <td> 0.000</td> <td>   -2.259</td> <td>   -1.841</td>\n",
       "</tr>\n",
       "<tr>\n",
       "  <th>Lead Profile_Other Leads</th>                     <td>   -1.4698</td> <td>    0.173</td> <td>   -8.518</td> <td> 0.000</td> <td>   -1.808</td> <td>   -1.132</td>\n",
       "</tr>\n",
       "<tr>\n",
       "  <th>Lead Profile_Student of SomeSchool</th>           <td>   -3.7836</td> <td>    0.491</td> <td>   -7.711</td> <td> 0.000</td> <td>   -4.745</td> <td>   -2.822</td>\n",
       "</tr>\n",
       "<tr>\n",
       "  <th>LastNotableActivity_Had a Phone Conversation</th> <td>    3.2037</td> <td>    1.152</td> <td>    2.780</td> <td> 0.005</td> <td>    0.945</td> <td>    5.462</td>\n",
       "</tr>\n",
       "<tr>\n",
       "  <th>LastNotableActivity_SMS Sent</th>                 <td>    1.5664</td> <td>    0.090</td> <td>   17.400</td> <td> 0.000</td> <td>    1.390</td> <td>    1.743</td>\n",
       "</tr>\n",
       "<tr>\n",
       "  <th>LastNotableActivity_Unreachable</th>              <td>    1.6148</td> <td>    0.625</td> <td>    2.583</td> <td> 0.010</td> <td>    0.389</td> <td>    2.840</td>\n",
       "</tr>\n",
       "</table>"
      ],
      "text/plain": [
       "<class 'statsmodels.iolib.summary.Summary'>\n",
       "\"\"\"\n",
       "                 Generalized Linear Model Regression Results                  \n",
       "==============================================================================\n",
       "Dep. Variable:              Converted   No. Observations:                 5190\n",
       "Model:                            GLM   Df Residuals:                     5170\n",
       "Model Family:                Binomial   Df Model:                           19\n",
       "Link Function:                  logit   Scale:                          1.0000\n",
       "Method:                          IRLS   Log-Likelihood:                -2082.0\n",
       "Date:                Mon, 31 Aug 2020   Deviance:                       4163.9\n",
       "Time:                        15:54:26   Pearson chi2:                 6.46e+03\n",
       "No. Iterations:                    21                                         \n",
       "Covariance Type:            nonrobust                                         \n",
       "================================================================================================================\n",
       "                                                   coef    std err          z      P>|z|      [0.025      0.975]\n",
       "----------------------------------------------------------------------------------------------------------------\n",
       "const                                            0.4742      0.098      4.833      0.000       0.282       0.666\n",
       "NoEmail                                         -1.6110      0.198     -8.127      0.000      -2.000      -1.223\n",
       "TimeSpent                                        1.0715      0.041     25.837      0.000       0.990       1.153\n",
       "Lead Origin_Lead Add Form                        1.7834      0.275      6.491      0.000       1.245       2.322\n",
       "Lead Source_Welingak Website                     3.2464      1.067      3.043      0.002       1.156       5.337\n",
       "TotalVisits_1                                   -0.8511      0.242     -3.514      0.000      -1.326      -0.376\n",
       "TotalVisits_17                                  -1.8392      1.133     -1.623      0.105      -4.060       0.381\n",
       "TotalVisits_21                                   2.0384      1.279      1.594      0.111      -0.468       4.545\n",
       "Country_unknown                                  0.9950      0.169      5.887      0.000       0.664       1.326\n",
       "Specialization_Rural and Agribusiness            0.9671      0.368      2.627      0.009       0.246       1.689\n",
       "HearAboutX_SMS                                  -1.5035      0.889     -1.692      0.091      -3.245       0.238\n",
       "CurrentOccupation_Housewife                     23.3808    1.7e+04      0.001      0.999   -3.34e+04    3.34e+04\n",
       "CurrentOccupation_Working Professional           2.4667      0.207     11.910      0.000       2.061       2.873\n",
       "MattersMost_Flexibility & Convenience          -27.6602   4.82e+04     -0.001      1.000   -9.45e+04    9.44e+04\n",
       "Lead Profile_Not Given                          -2.0500      0.107    -19.237      0.000      -2.259      -1.841\n",
       "Lead Profile_Other Leads                        -1.4698      0.173     -8.518      0.000      -1.808      -1.132\n",
       "Lead Profile_Student of SomeSchool              -3.7836      0.491     -7.711      0.000      -4.745      -2.822\n",
       "LastNotableActivity_Had a Phone Conversation     3.2037      1.152      2.780      0.005       0.945       5.462\n",
       "LastNotableActivity_SMS Sent                     1.5664      0.090     17.400      0.000       1.390       1.743\n",
       "LastNotableActivity_Unreachable                  1.6148      0.625      2.583      0.010       0.389       2.840\n",
       "================================================================================================================\n",
       "\"\"\""
      ]
     },
     "execution_count": 79,
     "metadata": {},
     "output_type": "execute_result"
    }
   ],
   "source": [
    "# Drop 'TotalVisits_24' because p-value is high\n",
    "X_train_sm1 = X_train_sm.drop(['TotalVisits_24'], axis=1)\n",
    "X_train_sm = sm.add_constant(X_train_sm)\n",
    "logm3 = sm.GLM(y_train,X_train_sm1, family = sm.families.Binomial())\n",
    "res = logm3.fit()\n",
    "res.summary()"
   ]
  },
  {
   "cell_type": "markdown",
   "metadata": {},
   "source": [
    "### Model 4"
   ]
  },
  {
   "cell_type": "code",
   "execution_count": 80,
   "metadata": {},
   "outputs": [
    {
     "data": {
      "text/html": [
       "<table class=\"simpletable\">\n",
       "<caption>Generalized Linear Model Regression Results</caption>\n",
       "<tr>\n",
       "  <th>Dep. Variable:</th>       <td>Converted</td>    <th>  No. Observations:  </th>  <td>  5190</td> \n",
       "</tr>\n",
       "<tr>\n",
       "  <th>Model:</th>                  <td>GLM</td>       <th>  Df Residuals:      </th>  <td>  5171</td> \n",
       "</tr>\n",
       "<tr>\n",
       "  <th>Model Family:</th>        <td>Binomial</td>     <th>  Df Model:          </th>  <td>    18</td> \n",
       "</tr>\n",
       "<tr>\n",
       "  <th>Link Function:</th>         <td>logit</td>      <th>  Scale:             </th> <td>  1.0000</td>\n",
       "</tr>\n",
       "<tr>\n",
       "  <th>Method:</th>                <td>IRLS</td>       <th>  Log-Likelihood:    </th> <td> -2086.7</td>\n",
       "</tr>\n",
       "<tr>\n",
       "  <th>Date:</th>            <td>Mon, 31 Aug 2020</td> <th>  Deviance:          </th> <td>  4173.4</td>\n",
       "</tr>\n",
       "<tr>\n",
       "  <th>Time:</th>                <td>15:55:04</td>     <th>  Pearson chi2:      </th> <td>6.50e+03</td>\n",
       "</tr>\n",
       "<tr>\n",
       "  <th>No. Iterations:</th>         <td>19</td>        <th>                     </th>     <td> </td>   \n",
       "</tr>\n",
       "<tr>\n",
       "  <th>Covariance Type:</th>     <td>nonrobust</td>    <th>                     </th>     <td> </td>   \n",
       "</tr>\n",
       "</table>\n",
       "<table class=\"simpletable\">\n",
       "<tr>\n",
       "                        <td></td>                          <th>coef</th>     <th>std err</th>      <th>z</th>      <th>P>|z|</th>  <th>[0.025</th>    <th>0.975]</th>  \n",
       "</tr>\n",
       "<tr>\n",
       "  <th>const</th>                                        <td>    0.4739</td> <td>    0.098</td> <td>    4.832</td> <td> 0.000</td> <td>    0.282</td> <td>    0.666</td>\n",
       "</tr>\n",
       "<tr>\n",
       "  <th>NoEmail</th>                                      <td>   -1.6142</td> <td>    0.198</td> <td>   -8.145</td> <td> 0.000</td> <td>   -2.003</td> <td>   -1.226</td>\n",
       "</tr>\n",
       "<tr>\n",
       "  <th>TimeSpent</th>                                    <td>    1.0690</td> <td>    0.041</td> <td>   25.805</td> <td> 0.000</td> <td>    0.988</td> <td>    1.150</td>\n",
       "</tr>\n",
       "<tr>\n",
       "  <th>Lead Origin_Lead Add Form</th>                    <td>    1.8186</td> <td>    0.274</td> <td>    6.636</td> <td> 0.000</td> <td>    1.281</td> <td>    2.356</td>\n",
       "</tr>\n",
       "<tr>\n",
       "  <th>Lead Source_Welingak Website</th>                 <td>    3.2115</td> <td>    1.067</td> <td>    3.011</td> <td> 0.003</td> <td>    1.121</td> <td>    5.302</td>\n",
       "</tr>\n",
       "<tr>\n",
       "  <th>TotalVisits_1</th>                                <td>   -0.8559</td> <td>    0.242</td> <td>   -3.535</td> <td> 0.000</td> <td>   -1.330</td> <td>   -0.381</td>\n",
       "</tr>\n",
       "<tr>\n",
       "  <th>TotalVisits_17</th>                               <td>   -1.8379</td> <td>    1.133</td> <td>   -1.623</td> <td> 0.105</td> <td>   -4.058</td> <td>    0.382</td>\n",
       "</tr>\n",
       "<tr>\n",
       "  <th>TotalVisits_21</th>                               <td>    2.0357</td> <td>    1.278</td> <td>    1.592</td> <td> 0.111</td> <td>   -0.470</td> <td>    4.541</td>\n",
       "</tr>\n",
       "<tr>\n",
       "  <th>Country_unknown</th>                              <td>    0.9912</td> <td>    0.169</td> <td>    5.870</td> <td> 0.000</td> <td>    0.660</td> <td>    1.322</td>\n",
       "</tr>\n",
       "<tr>\n",
       "  <th>Specialization_Rural and Agribusiness</th>        <td>    0.9614</td> <td>    0.368</td> <td>    2.612</td> <td> 0.009</td> <td>    0.240</td> <td>    1.683</td>\n",
       "</tr>\n",
       "<tr>\n",
       "  <th>HearAboutX_SMS</th>                               <td>   -1.5027</td> <td>    0.888</td> <td>   -1.693</td> <td> 0.090</td> <td>   -3.243</td> <td>    0.237</td>\n",
       "</tr>\n",
       "<tr>\n",
       "  <th>CurrentOccupation_Working Professional</th>       <td>    2.4606</td> <td>    0.207</td> <td>   11.883</td> <td> 0.000</td> <td>    2.055</td> <td>    2.866</td>\n",
       "</tr>\n",
       "<tr>\n",
       "  <th>MattersMost_Flexibility & Convenience</th>        <td>  -25.6866</td> <td> 1.77e+04</td> <td>   -0.001</td> <td> 0.999</td> <td>-3.48e+04</td> <td> 3.47e+04</td>\n",
       "</tr>\n",
       "<tr>\n",
       "  <th>Lead Profile_Not Given</th>                       <td>   -2.0459</td> <td>    0.107</td> <td>  -19.210</td> <td> 0.000</td> <td>   -2.255</td> <td>   -1.837</td>\n",
       "</tr>\n",
       "<tr>\n",
       "  <th>Lead Profile_Other Leads</th>                     <td>   -1.4426</td> <td>    0.171</td> <td>   -8.417</td> <td> 0.000</td> <td>   -1.779</td> <td>   -1.107</td>\n",
       "</tr>\n",
       "<tr>\n",
       "  <th>Lead Profile_Student of SomeSchool</th>           <td>   -3.7803</td> <td>    0.491</td> <td>   -7.706</td> <td> 0.000</td> <td>   -4.742</td> <td>   -2.819</td>\n",
       "</tr>\n",
       "<tr>\n",
       "  <th>LastNotableActivity_Had a Phone Conversation</th> <td>    3.1994</td> <td>    1.152</td> <td>    2.777</td> <td> 0.005</td> <td>    0.941</td> <td>    5.458</td>\n",
       "</tr>\n",
       "<tr>\n",
       "  <th>LastNotableActivity_SMS Sent</th>                 <td>    1.5630</td> <td>    0.090</td> <td>   17.375</td> <td> 0.000</td> <td>    1.387</td> <td>    1.739</td>\n",
       "</tr>\n",
       "<tr>\n",
       "  <th>LastNotableActivity_Unreachable</th>              <td>    1.6123</td> <td>    0.625</td> <td>    2.580</td> <td> 0.010</td> <td>    0.388</td> <td>    2.837</td>\n",
       "</tr>\n",
       "</table>"
      ],
      "text/plain": [
       "<class 'statsmodels.iolib.summary.Summary'>\n",
       "\"\"\"\n",
       "                 Generalized Linear Model Regression Results                  \n",
       "==============================================================================\n",
       "Dep. Variable:              Converted   No. Observations:                 5190\n",
       "Model:                            GLM   Df Residuals:                     5171\n",
       "Model Family:                Binomial   Df Model:                           18\n",
       "Link Function:                  logit   Scale:                          1.0000\n",
       "Method:                          IRLS   Log-Likelihood:                -2086.7\n",
       "Date:                Mon, 31 Aug 2020   Deviance:                       4173.4\n",
       "Time:                        15:55:04   Pearson chi2:                 6.50e+03\n",
       "No. Iterations:                    19                                         \n",
       "Covariance Type:            nonrobust                                         \n",
       "================================================================================================================\n",
       "                                                   coef    std err          z      P>|z|      [0.025      0.975]\n",
       "----------------------------------------------------------------------------------------------------------------\n",
       "const                                            0.4739      0.098      4.832      0.000       0.282       0.666\n",
       "NoEmail                                         -1.6142      0.198     -8.145      0.000      -2.003      -1.226\n",
       "TimeSpent                                        1.0690      0.041     25.805      0.000       0.988       1.150\n",
       "Lead Origin_Lead Add Form                        1.8186      0.274      6.636      0.000       1.281       2.356\n",
       "Lead Source_Welingak Website                     3.2115      1.067      3.011      0.003       1.121       5.302\n",
       "TotalVisits_1                                   -0.8559      0.242     -3.535      0.000      -1.330      -0.381\n",
       "TotalVisits_17                                  -1.8379      1.133     -1.623      0.105      -4.058       0.382\n",
       "TotalVisits_21                                   2.0357      1.278      1.592      0.111      -0.470       4.541\n",
       "Country_unknown                                  0.9912      0.169      5.870      0.000       0.660       1.322\n",
       "Specialization_Rural and Agribusiness            0.9614      0.368      2.612      0.009       0.240       1.683\n",
       "HearAboutX_SMS                                  -1.5027      0.888     -1.693      0.090      -3.243       0.237\n",
       "CurrentOccupation_Working Professional           2.4606      0.207     11.883      0.000       2.055       2.866\n",
       "MattersMost_Flexibility & Convenience          -25.6866   1.77e+04     -0.001      0.999   -3.48e+04    3.47e+04\n",
       "Lead Profile_Not Given                          -2.0459      0.107    -19.210      0.000      -2.255      -1.837\n",
       "Lead Profile_Other Leads                        -1.4426      0.171     -8.417      0.000      -1.779      -1.107\n",
       "Lead Profile_Student of SomeSchool              -3.7803      0.491     -7.706      0.000      -4.742      -2.819\n",
       "LastNotableActivity_Had a Phone Conversation     3.1994      1.152      2.777      0.005       0.941       5.458\n",
       "LastNotableActivity_SMS Sent                     1.5630      0.090     17.375      0.000       1.387       1.739\n",
       "LastNotableActivity_Unreachable                  1.6123      0.625      2.580      0.010       0.388       2.837\n",
       "================================================================================================================\n",
       "\"\"\""
      ]
     },
     "execution_count": 80,
     "metadata": {},
     "output_type": "execute_result"
    }
   ],
   "source": [
    "# Drop 'CurrentOccupation_Housewife' because p-value is high\n",
    "X_train_sm2 = X_train_sm1.drop(['CurrentOccupation_Housewife'], axis=1)\n",
    "X_train_sm2 = sm.add_constant(X_train_sm2)\n",
    "logm4 = sm.GLM(y_train,X_train_sm2, family = sm.families.Binomial())\n",
    "res = logm4.fit()\n",
    "res.summary()"
   ]
  },
  {
   "cell_type": "markdown",
   "metadata": {},
   "source": [
    "### Model 5"
   ]
  },
  {
   "cell_type": "code",
   "execution_count": 81,
   "metadata": {},
   "outputs": [
    {
     "data": {
      "text/html": [
       "<table class=\"simpletable\">\n",
       "<caption>Generalized Linear Model Regression Results</caption>\n",
       "<tr>\n",
       "  <th>Dep. Variable:</th>       <td>Converted</td>    <th>  No. Observations:  </th>  <td>  5190</td> \n",
       "</tr>\n",
       "<tr>\n",
       "  <th>Model:</th>                  <td>GLM</td>       <th>  Df Residuals:      </th>  <td>  5172</td> \n",
       "</tr>\n",
       "<tr>\n",
       "  <th>Model Family:</th>        <td>Binomial</td>     <th>  Df Model:          </th>  <td>    17</td> \n",
       "</tr>\n",
       "<tr>\n",
       "  <th>Link Function:</th>         <td>logit</td>      <th>  Scale:             </th> <td>  1.0000</td>\n",
       "</tr>\n",
       "<tr>\n",
       "  <th>Method:</th>                <td>IRLS</td>       <th>  Log-Likelihood:    </th> <td> -2091.8</td>\n",
       "</tr>\n",
       "<tr>\n",
       "  <th>Date:</th>            <td>Mon, 31 Aug 2020</td> <th>  Deviance:          </th> <td>  4183.5</td>\n",
       "</tr>\n",
       "<tr>\n",
       "  <th>Time:</th>                <td>15:56:34</td>     <th>  Pearson chi2:      </th> <td>6.51e+03</td>\n",
       "</tr>\n",
       "<tr>\n",
       "  <th>No. Iterations:</th>          <td>7</td>        <th>                     </th>     <td> </td>   \n",
       "</tr>\n",
       "<tr>\n",
       "  <th>Covariance Type:</th>     <td>nonrobust</td>    <th>                     </th>     <td> </td>   \n",
       "</tr>\n",
       "</table>\n",
       "<table class=\"simpletable\">\n",
       "<tr>\n",
       "                        <td></td>                          <th>coef</th>     <th>std err</th>      <th>z</th>      <th>P>|z|</th>  <th>[0.025</th>    <th>0.975]</th>  \n",
       "</tr>\n",
       "<tr>\n",
       "  <th>const</th>                                        <td>    0.4696</td> <td>    0.098</td> <td>    4.798</td> <td> 0.000</td> <td>    0.278</td> <td>    0.661</td>\n",
       "</tr>\n",
       "<tr>\n",
       "  <th>NoEmail</th>                                      <td>   -1.6092</td> <td>    0.198</td> <td>   -8.136</td> <td> 0.000</td> <td>   -1.997</td> <td>   -1.222</td>\n",
       "</tr>\n",
       "<tr>\n",
       "  <th>TimeSpent</th>                                    <td>    1.0681</td> <td>    0.041</td> <td>   25.814</td> <td> 0.000</td> <td>    0.987</td> <td>    1.149</td>\n",
       "</tr>\n",
       "<tr>\n",
       "  <th>Lead Origin_Lead Add Form</th>                    <td>    1.7672</td> <td>    0.271</td> <td>    6.514</td> <td> 0.000</td> <td>    1.235</td> <td>    2.299</td>\n",
       "</tr>\n",
       "<tr>\n",
       "  <th>Lead Source_Welingak Website</th>                 <td>    3.2590</td> <td>    1.066</td> <td>    3.058</td> <td> 0.002</td> <td>    1.170</td> <td>    5.348</td>\n",
       "</tr>\n",
       "<tr>\n",
       "  <th>TotalVisits_1</th>                                <td>   -0.8549</td> <td>    0.242</td> <td>   -3.538</td> <td> 0.000</td> <td>   -1.329</td> <td>   -0.381</td>\n",
       "</tr>\n",
       "<tr>\n",
       "  <th>TotalVisits_17</th>                               <td>   -1.8386</td> <td>    1.133</td> <td>   -1.623</td> <td> 0.105</td> <td>   -4.058</td> <td>    0.381</td>\n",
       "</tr>\n",
       "<tr>\n",
       "  <th>TotalVisits_21</th>                               <td>    2.0343</td> <td>    1.278</td> <td>    1.592</td> <td> 0.111</td> <td>   -0.470</td> <td>    4.539</td>\n",
       "</tr>\n",
       "<tr>\n",
       "  <th>Country_unknown</th>                              <td>    0.9900</td> <td>    0.169</td> <td>    5.871</td> <td> 0.000</td> <td>    0.659</td> <td>    1.320</td>\n",
       "</tr>\n",
       "<tr>\n",
       "  <th>Specialization_Rural and Agribusiness</th>        <td>    0.9608</td> <td>    0.368</td> <td>    2.614</td> <td> 0.009</td> <td>    0.240</td> <td>    1.681</td>\n",
       "</tr>\n",
       "<tr>\n",
       "  <th>HearAboutX_SMS</th>                               <td>   -1.4961</td> <td>    0.886</td> <td>   -1.688</td> <td> 0.091</td> <td>   -3.233</td> <td>    0.241</td>\n",
       "</tr>\n",
       "<tr>\n",
       "  <th>CurrentOccupation_Working Professional</th>       <td>    2.4204</td> <td>    0.205</td> <td>   11.823</td> <td> 0.000</td> <td>    2.019</td> <td>    2.822</td>\n",
       "</tr>\n",
       "<tr>\n",
       "  <th>Lead Profile_Not Given</th>                       <td>   -2.0393</td> <td>    0.106</td> <td>  -19.188</td> <td> 0.000</td> <td>   -2.248</td> <td>   -1.831</td>\n",
       "</tr>\n",
       "<tr>\n",
       "  <th>Lead Profile_Other Leads</th>                     <td>   -1.4319</td> <td>    0.171</td> <td>   -8.375</td> <td> 0.000</td> <td>   -1.767</td> <td>   -1.097</td>\n",
       "</tr>\n",
       "<tr>\n",
       "  <th>Lead Profile_Student of SomeSchool</th>           <td>   -3.7736</td> <td>    0.490</td> <td>   -7.697</td> <td> 0.000</td> <td>   -4.735</td> <td>   -2.813</td>\n",
       "</tr>\n",
       "<tr>\n",
       "  <th>LastNotableActivity_Had a Phone Conversation</th> <td>    3.1981</td> <td>    1.152</td> <td>    2.777</td> <td> 0.005</td> <td>    0.941</td> <td>    5.456</td>\n",
       "</tr>\n",
       "<tr>\n",
       "  <th>LastNotableActivity_SMS Sent</th>                 <td>    1.5628</td> <td>    0.090</td> <td>   17.391</td> <td> 0.000</td> <td>    1.387</td> <td>    1.739</td>\n",
       "</tr>\n",
       "<tr>\n",
       "  <th>LastNotableActivity_Unreachable</th>              <td>    1.6156</td> <td>    0.624</td> <td>    2.590</td> <td> 0.010</td> <td>    0.393</td> <td>    2.838</td>\n",
       "</tr>\n",
       "</table>"
      ],
      "text/plain": [
       "<class 'statsmodels.iolib.summary.Summary'>\n",
       "\"\"\"\n",
       "                 Generalized Linear Model Regression Results                  \n",
       "==============================================================================\n",
       "Dep. Variable:              Converted   No. Observations:                 5190\n",
       "Model:                            GLM   Df Residuals:                     5172\n",
       "Model Family:                Binomial   Df Model:                           17\n",
       "Link Function:                  logit   Scale:                          1.0000\n",
       "Method:                          IRLS   Log-Likelihood:                -2091.8\n",
       "Date:                Mon, 31 Aug 2020   Deviance:                       4183.5\n",
       "Time:                        15:56:34   Pearson chi2:                 6.51e+03\n",
       "No. Iterations:                     7                                         \n",
       "Covariance Type:            nonrobust                                         \n",
       "================================================================================================================\n",
       "                                                   coef    std err          z      P>|z|      [0.025      0.975]\n",
       "----------------------------------------------------------------------------------------------------------------\n",
       "const                                            0.4696      0.098      4.798      0.000       0.278       0.661\n",
       "NoEmail                                         -1.6092      0.198     -8.136      0.000      -1.997      -1.222\n",
       "TimeSpent                                        1.0681      0.041     25.814      0.000       0.987       1.149\n",
       "Lead Origin_Lead Add Form                        1.7672      0.271      6.514      0.000       1.235       2.299\n",
       "Lead Source_Welingak Website                     3.2590      1.066      3.058      0.002       1.170       5.348\n",
       "TotalVisits_1                                   -0.8549      0.242     -3.538      0.000      -1.329      -0.381\n",
       "TotalVisits_17                                  -1.8386      1.133     -1.623      0.105      -4.058       0.381\n",
       "TotalVisits_21                                   2.0343      1.278      1.592      0.111      -0.470       4.539\n",
       "Country_unknown                                  0.9900      0.169      5.871      0.000       0.659       1.320\n",
       "Specialization_Rural and Agribusiness            0.9608      0.368      2.614      0.009       0.240       1.681\n",
       "HearAboutX_SMS                                  -1.4961      0.886     -1.688      0.091      -3.233       0.241\n",
       "CurrentOccupation_Working Professional           2.4204      0.205     11.823      0.000       2.019       2.822\n",
       "Lead Profile_Not Given                          -2.0393      0.106    -19.188      0.000      -2.248      -1.831\n",
       "Lead Profile_Other Leads                        -1.4319      0.171     -8.375      0.000      -1.767      -1.097\n",
       "Lead Profile_Student of SomeSchool              -3.7736      0.490     -7.697      0.000      -4.735      -2.813\n",
       "LastNotableActivity_Had a Phone Conversation     3.1981      1.152      2.777      0.005       0.941       5.456\n",
       "LastNotableActivity_SMS Sent                     1.5628      0.090     17.391      0.000       1.387       1.739\n",
       "LastNotableActivity_Unreachable                  1.6156      0.624      2.590      0.010       0.393       2.838\n",
       "================================================================================================================\n",
       "\"\"\""
      ]
     },
     "execution_count": 81,
     "metadata": {},
     "output_type": "execute_result"
    }
   ],
   "source": [
    "# Drop 'MattersMost_Flexibility & Convenience' because p-value is high\n",
    "X_train_sm3 = X_train_sm2.drop(['MattersMost_Flexibility & Convenience'], axis=1)\n",
    "X_train_sm3 = sm.add_constant(X_train_sm3)\n",
    "logm5 = sm.GLM(y_train,X_train_sm3, family = sm.families.Binomial())\n",
    "res = logm5.fit()\n",
    "res.summary()"
   ]
  },
  {
   "cell_type": "markdown",
   "metadata": {},
   "source": [
    "### Model 6"
   ]
  },
  {
   "cell_type": "code",
   "execution_count": 82,
   "metadata": {},
   "outputs": [
    {
     "data": {
      "text/html": [
       "<table class=\"simpletable\">\n",
       "<caption>Generalized Linear Model Regression Results</caption>\n",
       "<tr>\n",
       "  <th>Dep. Variable:</th>       <td>Converted</td>    <th>  No. Observations:  </th>  <td>  5190</td> \n",
       "</tr>\n",
       "<tr>\n",
       "  <th>Model:</th>                  <td>GLM</td>       <th>  Df Residuals:      </th>  <td>  5173</td> \n",
       "</tr>\n",
       "<tr>\n",
       "  <th>Model Family:</th>        <td>Binomial</td>     <th>  Df Model:          </th>  <td>    16</td> \n",
       "</tr>\n",
       "<tr>\n",
       "  <th>Link Function:</th>         <td>logit</td>      <th>  Scale:             </th> <td>  1.0000</td>\n",
       "</tr>\n",
       "<tr>\n",
       "  <th>Method:</th>                <td>IRLS</td>       <th>  Log-Likelihood:    </th> <td> -2093.3</td>\n",
       "</tr>\n",
       "<tr>\n",
       "  <th>Date:</th>            <td>Mon, 31 Aug 2020</td> <th>  Deviance:          </th> <td>  4186.6</td>\n",
       "</tr>\n",
       "<tr>\n",
       "  <th>Time:</th>                <td>16:11:34</td>     <th>  Pearson chi2:      </th> <td>6.51e+03</td>\n",
       "</tr>\n",
       "<tr>\n",
       "  <th>No. Iterations:</th>          <td>7</td>        <th>                     </th>     <td> </td>   \n",
       "</tr>\n",
       "<tr>\n",
       "  <th>Covariance Type:</th>     <td>nonrobust</td>    <th>                     </th>     <td> </td>   \n",
       "</tr>\n",
       "</table>\n",
       "<table class=\"simpletable\">\n",
       "<tr>\n",
       "                        <td></td>                          <th>coef</th>     <th>std err</th>      <th>z</th>      <th>P>|z|</th>  <th>[0.025</th>    <th>0.975]</th>  \n",
       "</tr>\n",
       "<tr>\n",
       "  <th>const</th>                                        <td>    0.4737</td> <td>    0.098</td> <td>    4.842</td> <td> 0.000</td> <td>    0.282</td> <td>    0.665</td>\n",
       "</tr>\n",
       "<tr>\n",
       "  <th>NoEmail</th>                                      <td>   -1.6110</td> <td>    0.198</td> <td>   -8.146</td> <td> 0.000</td> <td>   -1.999</td> <td>   -1.223</td>\n",
       "</tr>\n",
       "<tr>\n",
       "  <th>TimeSpent</th>                                    <td>    1.0683</td> <td>    0.041</td> <td>   25.823</td> <td> 0.000</td> <td>    0.987</td> <td>    1.149</td>\n",
       "</tr>\n",
       "<tr>\n",
       "  <th>Lead Origin_Lead Add Form</th>                    <td>    1.7666</td> <td>    0.271</td> <td>    6.511</td> <td> 0.000</td> <td>    1.235</td> <td>    2.298</td>\n",
       "</tr>\n",
       "<tr>\n",
       "  <th>Lead Source_Welingak Website</th>                 <td>    3.2592</td> <td>    1.066</td> <td>    3.058</td> <td> 0.002</td> <td>    1.170</td> <td>    5.348</td>\n",
       "</tr>\n",
       "<tr>\n",
       "  <th>TotalVisits_1</th>                                <td>   -0.8579</td> <td>    0.242</td> <td>   -3.550</td> <td> 0.000</td> <td>   -1.332</td> <td>   -0.384</td>\n",
       "</tr>\n",
       "<tr>\n",
       "  <th>TotalVisits_17</th>                               <td>   -1.8409</td> <td>    1.132</td> <td>   -1.626</td> <td> 0.104</td> <td>   -4.060</td> <td>    0.379</td>\n",
       "</tr>\n",
       "<tr>\n",
       "  <th>Country_unknown</th>                              <td>    0.9878</td> <td>    0.169</td> <td>    5.860</td> <td> 0.000</td> <td>    0.657</td> <td>    1.318</td>\n",
       "</tr>\n",
       "<tr>\n",
       "  <th>Specialization_Rural and Agribusiness</th>        <td>    0.9584</td> <td>    0.368</td> <td>    2.607</td> <td> 0.009</td> <td>    0.238</td> <td>    1.679</td>\n",
       "</tr>\n",
       "<tr>\n",
       "  <th>HearAboutX_SMS</th>                               <td>   -1.4977</td> <td>    0.886</td> <td>   -1.691</td> <td> 0.091</td> <td>   -3.234</td> <td>    0.238</td>\n",
       "</tr>\n",
       "<tr>\n",
       "  <th>CurrentOccupation_Working Professional</th>       <td>    2.4181</td> <td>    0.205</td> <td>   11.813</td> <td> 0.000</td> <td>    2.017</td> <td>    2.819</td>\n",
       "</tr>\n",
       "<tr>\n",
       "  <th>Lead Profile_Not Given</th>                       <td>   -2.0393</td> <td>    0.106</td> <td>  -19.196</td> <td> 0.000</td> <td>   -2.247</td> <td>   -1.831</td>\n",
       "</tr>\n",
       "<tr>\n",
       "  <th>Lead Profile_Other Leads</th>                     <td>   -1.4349</td> <td>    0.171</td> <td>   -8.394</td> <td> 0.000</td> <td>   -1.770</td> <td>   -1.100</td>\n",
       "</tr>\n",
       "<tr>\n",
       "  <th>Lead Profile_Student of SomeSchool</th>           <td>   -3.7770</td> <td>    0.490</td> <td>   -7.704</td> <td> 0.000</td> <td>   -4.738</td> <td>   -2.816</td>\n",
       "</tr>\n",
       "<tr>\n",
       "  <th>LastNotableActivity_Had a Phone Conversation</th> <td>    3.1942</td> <td>    1.152</td> <td>    2.773</td> <td> 0.006</td> <td>    0.937</td> <td>    5.452</td>\n",
       "</tr>\n",
       "<tr>\n",
       "  <th>LastNotableActivity_SMS Sent</th>                 <td>    1.5591</td> <td>    0.090</td> <td>   17.359</td> <td> 0.000</td> <td>    1.383</td> <td>    1.735</td>\n",
       "</tr>\n",
       "<tr>\n",
       "  <th>LastNotableActivity_Unreachable</th>              <td>    1.6123</td> <td>    0.624</td> <td>    2.585</td> <td> 0.010</td> <td>    0.390</td> <td>    2.835</td>\n",
       "</tr>\n",
       "</table>"
      ],
      "text/plain": [
       "<class 'statsmodels.iolib.summary.Summary'>\n",
       "\"\"\"\n",
       "                 Generalized Linear Model Regression Results                  \n",
       "==============================================================================\n",
       "Dep. Variable:              Converted   No. Observations:                 5190\n",
       "Model:                            GLM   Df Residuals:                     5173\n",
       "Model Family:                Binomial   Df Model:                           16\n",
       "Link Function:                  logit   Scale:                          1.0000\n",
       "Method:                          IRLS   Log-Likelihood:                -2093.3\n",
       "Date:                Mon, 31 Aug 2020   Deviance:                       4186.6\n",
       "Time:                        16:11:34   Pearson chi2:                 6.51e+03\n",
       "No. Iterations:                     7                                         \n",
       "Covariance Type:            nonrobust                                         \n",
       "================================================================================================================\n",
       "                                                   coef    std err          z      P>|z|      [0.025      0.975]\n",
       "----------------------------------------------------------------------------------------------------------------\n",
       "const                                            0.4737      0.098      4.842      0.000       0.282       0.665\n",
       "NoEmail                                         -1.6110      0.198     -8.146      0.000      -1.999      -1.223\n",
       "TimeSpent                                        1.0683      0.041     25.823      0.000       0.987       1.149\n",
       "Lead Origin_Lead Add Form                        1.7666      0.271      6.511      0.000       1.235       2.298\n",
       "Lead Source_Welingak Website                     3.2592      1.066      3.058      0.002       1.170       5.348\n",
       "TotalVisits_1                                   -0.8579      0.242     -3.550      0.000      -1.332      -0.384\n",
       "TotalVisits_17                                  -1.8409      1.132     -1.626      0.104      -4.060       0.379\n",
       "Country_unknown                                  0.9878      0.169      5.860      0.000       0.657       1.318\n",
       "Specialization_Rural and Agribusiness            0.9584      0.368      2.607      0.009       0.238       1.679\n",
       "HearAboutX_SMS                                  -1.4977      0.886     -1.691      0.091      -3.234       0.238\n",
       "CurrentOccupation_Working Professional           2.4181      0.205     11.813      0.000       2.017       2.819\n",
       "Lead Profile_Not Given                          -2.0393      0.106    -19.196      0.000      -2.247      -1.831\n",
       "Lead Profile_Other Leads                        -1.4349      0.171     -8.394      0.000      -1.770      -1.100\n",
       "Lead Profile_Student of SomeSchool              -3.7770      0.490     -7.704      0.000      -4.738      -2.816\n",
       "LastNotableActivity_Had a Phone Conversation     3.1942      1.152      2.773      0.006       0.937       5.452\n",
       "LastNotableActivity_SMS Sent                     1.5591      0.090     17.359      0.000       1.383       1.735\n",
       "LastNotableActivity_Unreachable                  1.6123      0.624      2.585      0.010       0.390       2.835\n",
       "================================================================================================================\n",
       "\"\"\""
      ]
     },
     "execution_count": 82,
     "metadata": {},
     "output_type": "execute_result"
    }
   ],
   "source": [
    "# Drop 'TotalVisits_21' because p-value is high\n",
    "X_train_sm4 = X_train_sm3.drop(['TotalVisits_21'], axis=1)\n",
    "X_train_sm4 = sm.add_constant(X_train_sm4)\n",
    "logm6 = sm.GLM(y_train,X_train_sm4, family = sm.families.Binomial())\n",
    "res = logm6.fit()\n",
    "res.summary()"
   ]
  },
  {
   "cell_type": "markdown",
   "metadata": {},
   "source": [
    "## Checking VIF"
   ]
  },
  {
   "cell_type": "code",
   "execution_count": 83,
   "metadata": {},
   "outputs": [
    {
     "data": {
      "text/html": [
       "<div>\n",
       "<style scoped>\n",
       "    .dataframe tbody tr th:only-of-type {\n",
       "        vertical-align: middle;\n",
       "    }\n",
       "\n",
       "    .dataframe tbody tr th {\n",
       "        vertical-align: top;\n",
       "    }\n",
       "\n",
       "    .dataframe thead th {\n",
       "        text-align: right;\n",
       "    }\n",
       "</style>\n",
       "<table border=\"1\" class=\"dataframe\">\n",
       "  <thead>\n",
       "    <tr style=\"text-align: right;\">\n",
       "      <th></th>\n",
       "      <th>Features</th>\n",
       "      <th>VIF</th>\n",
       "    </tr>\n",
       "  </thead>\n",
       "  <tbody>\n",
       "    <tr>\n",
       "      <th>0</th>\n",
       "      <td>const</td>\n",
       "      <td>7.13</td>\n",
       "    </tr>\n",
       "    <tr>\n",
       "      <th>3</th>\n",
       "      <td>Lead Origin_Lead Add Form</td>\n",
       "      <td>1.99</td>\n",
       "    </tr>\n",
       "    <tr>\n",
       "      <th>7</th>\n",
       "      <td>Country_unknown</td>\n",
       "      <td>1.86</td>\n",
       "    </tr>\n",
       "    <tr>\n",
       "      <th>11</th>\n",
       "      <td>Lead Profile_Not Given</td>\n",
       "      <td>1.53</td>\n",
       "    </tr>\n",
       "    <tr>\n",
       "      <th>12</th>\n",
       "      <td>Lead Profile_Other Leads</td>\n",
       "      <td>1.29</td>\n",
       "    </tr>\n",
       "    <tr>\n",
       "      <th>4</th>\n",
       "      <td>Lead Source_Welingak Website</td>\n",
       "      <td>1.17</td>\n",
       "    </tr>\n",
       "    <tr>\n",
       "      <th>13</th>\n",
       "      <td>Lead Profile_Student of SomeSchool</td>\n",
       "      <td>1.16</td>\n",
       "    </tr>\n",
       "    <tr>\n",
       "      <th>10</th>\n",
       "      <td>CurrentOccupation_Working Professional</td>\n",
       "      <td>1.10</td>\n",
       "    </tr>\n",
       "    <tr>\n",
       "      <th>2</th>\n",
       "      <td>TimeSpent</td>\n",
       "      <td>1.09</td>\n",
       "    </tr>\n",
       "    <tr>\n",
       "      <th>15</th>\n",
       "      <td>LastNotableActivity_SMS Sent</td>\n",
       "      <td>1.06</td>\n",
       "    </tr>\n",
       "    <tr>\n",
       "      <th>5</th>\n",
       "      <td>TotalVisits_1</td>\n",
       "      <td>1.05</td>\n",
       "    </tr>\n",
       "    <tr>\n",
       "      <th>1</th>\n",
       "      <td>NoEmail</td>\n",
       "      <td>1.04</td>\n",
       "    </tr>\n",
       "    <tr>\n",
       "      <th>16</th>\n",
       "      <td>LastNotableActivity_Unreachable</td>\n",
       "      <td>1.01</td>\n",
       "    </tr>\n",
       "    <tr>\n",
       "      <th>9</th>\n",
       "      <td>HearAboutX_SMS</td>\n",
       "      <td>1.01</td>\n",
       "    </tr>\n",
       "    <tr>\n",
       "      <th>14</th>\n",
       "      <td>LastNotableActivity_Had a Phone Conversation</td>\n",
       "      <td>1.00</td>\n",
       "    </tr>\n",
       "    <tr>\n",
       "      <th>6</th>\n",
       "      <td>TotalVisits_17</td>\n",
       "      <td>1.00</td>\n",
       "    </tr>\n",
       "    <tr>\n",
       "      <th>8</th>\n",
       "      <td>Specialization_Rural and Agribusiness</td>\n",
       "      <td>1.00</td>\n",
       "    </tr>\n",
       "  </tbody>\n",
       "</table>\n",
       "</div>"
      ],
      "text/plain": [
       "                                        Features   VIF\n",
       "0                                          const  7.13\n",
       "3                      Lead Origin_Lead Add Form  1.99\n",
       "7                                Country_unknown  1.86\n",
       "11                        Lead Profile_Not Given  1.53\n",
       "12                      Lead Profile_Other Leads  1.29\n",
       "4                   Lead Source_Welingak Website  1.17\n",
       "13            Lead Profile_Student of SomeSchool  1.16\n",
       "10        CurrentOccupation_Working Professional  1.10\n",
       "2                                      TimeSpent  1.09\n",
       "15                  LastNotableActivity_SMS Sent  1.06\n",
       "5                                  TotalVisits_1  1.05\n",
       "1                                        NoEmail  1.04\n",
       "16               LastNotableActivity_Unreachable  1.01\n",
       "9                                 HearAboutX_SMS  1.01\n",
       "14  LastNotableActivity_Had a Phone Conversation  1.00\n",
       "6                                 TotalVisits_17  1.00\n",
       "8          Specialization_Rural and Agribusiness  1.00"
      ]
     },
     "execution_count": 83,
     "metadata": {},
     "output_type": "execute_result"
    }
   ],
   "source": [
    "# Create a dataframe that will contain the names of all the feature variables and their respective VIFs\n",
    "vif = pd.DataFrame()\n",
    "X = X_train_sm4\n",
    "vif['Features'] = X.columns\n",
    "vif['VIF'] = [variance_inflation_factor(X.values, i) for i in range(X.shape[1])]\n",
    "vif['VIF'] = round(vif['VIF'], 2)\n",
    "vif = vif.sort_values(by = \"VIF\", ascending = False)\n",
    "vif"
   ]
  },
  {
   "cell_type": "markdown",
   "metadata": {},
   "source": [
    "### Model 7"
   ]
  },
  {
   "cell_type": "code",
   "execution_count": 84,
   "metadata": {},
   "outputs": [
    {
     "data": {
      "text/html": [
       "<table class=\"simpletable\">\n",
       "<caption>Generalized Linear Model Regression Results</caption>\n",
       "<tr>\n",
       "  <th>Dep. Variable:</th>       <td>Converted</td>    <th>  No. Observations:  </th>  <td>  5190</td> \n",
       "</tr>\n",
       "<tr>\n",
       "  <th>Model:</th>                  <td>GLM</td>       <th>  Df Residuals:      </th>  <td>  5174</td> \n",
       "</tr>\n",
       "<tr>\n",
       "  <th>Model Family:</th>        <td>Binomial</td>     <th>  Df Model:          </th>  <td>    15</td> \n",
       "</tr>\n",
       "<tr>\n",
       "  <th>Link Function:</th>         <td>logit</td>      <th>  Scale:             </th> <td>  1.0000</td>\n",
       "</tr>\n",
       "<tr>\n",
       "  <th>Method:</th>                <td>IRLS</td>       <th>  Log-Likelihood:    </th> <td> -2095.0</td>\n",
       "</tr>\n",
       "<tr>\n",
       "  <th>Date:</th>            <td>Mon, 31 Aug 2020</td> <th>  Deviance:          </th> <td>  4189.9</td>\n",
       "</tr>\n",
       "<tr>\n",
       "  <th>Time:</th>                <td>16:13:16</td>     <th>  Pearson chi2:      </th> <td>6.49e+03</td>\n",
       "</tr>\n",
       "<tr>\n",
       "  <th>No. Iterations:</th>          <td>7</td>        <th>                     </th>     <td> </td>   \n",
       "</tr>\n",
       "<tr>\n",
       "  <th>Covariance Type:</th>     <td>nonrobust</td>    <th>                     </th>     <td> </td>   \n",
       "</tr>\n",
       "</table>\n",
       "<table class=\"simpletable\">\n",
       "<tr>\n",
       "                        <td></td>                          <th>coef</th>     <th>std err</th>      <th>z</th>      <th>P>|z|</th>  <th>[0.025</th>    <th>0.975]</th>  \n",
       "</tr>\n",
       "<tr>\n",
       "  <th>const</th>                                        <td>    0.4713</td> <td>    0.098</td> <td>    4.818</td> <td> 0.000</td> <td>    0.280</td> <td>    0.663</td>\n",
       "</tr>\n",
       "<tr>\n",
       "  <th>NoEmail</th>                                      <td>   -1.6114</td> <td>    0.198</td> <td>   -8.156</td> <td> 0.000</td> <td>   -1.999</td> <td>   -1.224</td>\n",
       "</tr>\n",
       "<tr>\n",
       "  <th>TimeSpent</th>                                    <td>    1.0675</td> <td>    0.041</td> <td>   25.818</td> <td> 0.000</td> <td>    0.986</td> <td>    1.149</td>\n",
       "</tr>\n",
       "<tr>\n",
       "  <th>Lead Origin_Lead Add Form</th>                    <td>    1.7665</td> <td>    0.271</td> <td>    6.512</td> <td> 0.000</td> <td>    1.235</td> <td>    2.298</td>\n",
       "</tr>\n",
       "<tr>\n",
       "  <th>Lead Source_Welingak Website</th>                 <td>    3.2583</td> <td>    1.066</td> <td>    3.057</td> <td> 0.002</td> <td>    1.169</td> <td>    5.347</td>\n",
       "</tr>\n",
       "<tr>\n",
       "  <th>TotalVisits_1</th>                                <td>   -0.8544</td> <td>    0.242</td> <td>   -3.536</td> <td> 0.000</td> <td>   -1.328</td> <td>   -0.381</td>\n",
       "</tr>\n",
       "<tr>\n",
       "  <th>TotalVisits_17</th>                               <td>   -1.8269</td> <td>    1.131</td> <td>   -1.615</td> <td> 0.106</td> <td>   -4.043</td> <td>    0.390</td>\n",
       "</tr>\n",
       "<tr>\n",
       "  <th>Country_unknown</th>                              <td>    0.9912</td> <td>    0.169</td> <td>    5.881</td> <td> 0.000</td> <td>    0.661</td> <td>    1.322</td>\n",
       "</tr>\n",
       "<tr>\n",
       "  <th>Specialization_Rural and Agribusiness</th>        <td>    0.9170</td> <td>    0.365</td> <td>    2.509</td> <td> 0.012</td> <td>    0.201</td> <td>    1.633</td>\n",
       "</tr>\n",
       "<tr>\n",
       "  <th>CurrentOccupation_Working Professional</th>       <td>    2.4089</td> <td>    0.204</td> <td>   11.793</td> <td> 0.000</td> <td>    2.009</td> <td>    2.809</td>\n",
       "</tr>\n",
       "<tr>\n",
       "  <th>Lead Profile_Not Given</th>                       <td>   -2.0399</td> <td>    0.106</td> <td>  -19.198</td> <td> 0.000</td> <td>   -2.248</td> <td>   -1.832</td>\n",
       "</tr>\n",
       "<tr>\n",
       "  <th>Lead Profile_Other Leads</th>                     <td>   -1.4348</td> <td>    0.171</td> <td>   -8.401</td> <td> 0.000</td> <td>   -1.769</td> <td>   -1.100</td>\n",
       "</tr>\n",
       "<tr>\n",
       "  <th>Lead Profile_Student of SomeSchool</th>           <td>   -3.7746</td> <td>    0.490</td> <td>   -7.700</td> <td> 0.000</td> <td>   -4.735</td> <td>   -2.814</td>\n",
       "</tr>\n",
       "<tr>\n",
       "  <th>LastNotableActivity_Had a Phone Conversation</th> <td>    3.1970</td> <td>    1.152</td> <td>    2.776</td> <td> 0.006</td> <td>    0.940</td> <td>    5.454</td>\n",
       "</tr>\n",
       "<tr>\n",
       "  <th>LastNotableActivity_SMS Sent</th>                 <td>    1.5593</td> <td>    0.090</td> <td>   17.367</td> <td> 0.000</td> <td>    1.383</td> <td>    1.735</td>\n",
       "</tr>\n",
       "<tr>\n",
       "  <th>LastNotableActivity_Unreachable</th>              <td>    1.5444</td> <td>    0.632</td> <td>    2.442</td> <td> 0.015</td> <td>    0.305</td> <td>    2.784</td>\n",
       "</tr>\n",
       "</table>"
      ],
      "text/plain": [
       "<class 'statsmodels.iolib.summary.Summary'>\n",
       "\"\"\"\n",
       "                 Generalized Linear Model Regression Results                  \n",
       "==============================================================================\n",
       "Dep. Variable:              Converted   No. Observations:                 5190\n",
       "Model:                            GLM   Df Residuals:                     5174\n",
       "Model Family:                Binomial   Df Model:                           15\n",
       "Link Function:                  logit   Scale:                          1.0000\n",
       "Method:                          IRLS   Log-Likelihood:                -2095.0\n",
       "Date:                Mon, 31 Aug 2020   Deviance:                       4189.9\n",
       "Time:                        16:13:16   Pearson chi2:                 6.49e+03\n",
       "No. Iterations:                     7                                         \n",
       "Covariance Type:            nonrobust                                         \n",
       "================================================================================================================\n",
       "                                                   coef    std err          z      P>|z|      [0.025      0.975]\n",
       "----------------------------------------------------------------------------------------------------------------\n",
       "const                                            0.4713      0.098      4.818      0.000       0.280       0.663\n",
       "NoEmail                                         -1.6114      0.198     -8.156      0.000      -1.999      -1.224\n",
       "TimeSpent                                        1.0675      0.041     25.818      0.000       0.986       1.149\n",
       "Lead Origin_Lead Add Form                        1.7665      0.271      6.512      0.000       1.235       2.298\n",
       "Lead Source_Welingak Website                     3.2583      1.066      3.057      0.002       1.169       5.347\n",
       "TotalVisits_1                                   -0.8544      0.242     -3.536      0.000      -1.328      -0.381\n",
       "TotalVisits_17                                  -1.8269      1.131     -1.615      0.106      -4.043       0.390\n",
       "Country_unknown                                  0.9912      0.169      5.881      0.000       0.661       1.322\n",
       "Specialization_Rural and Agribusiness            0.9170      0.365      2.509      0.012       0.201       1.633\n",
       "CurrentOccupation_Working Professional           2.4089      0.204     11.793      0.000       2.009       2.809\n",
       "Lead Profile_Not Given                          -2.0399      0.106    -19.198      0.000      -2.248      -1.832\n",
       "Lead Profile_Other Leads                        -1.4348      0.171     -8.401      0.000      -1.769      -1.100\n",
       "Lead Profile_Student of SomeSchool              -3.7746      0.490     -7.700      0.000      -4.735      -2.814\n",
       "LastNotableActivity_Had a Phone Conversation     3.1970      1.152      2.776      0.006       0.940       5.454\n",
       "LastNotableActivity_SMS Sent                     1.5593      0.090     17.367      0.000       1.383       1.735\n",
       "LastNotableActivity_Unreachable                  1.5444      0.632      2.442      0.015       0.305       2.784\n",
       "================================================================================================================\n",
       "\"\"\""
      ]
     },
     "execution_count": 84,
     "metadata": {},
     "output_type": "execute_result"
    }
   ],
   "source": [
    "# Drop 'HearAboutX_SMS' because p-value is high\n",
    "X_train_sm5 = X_train_sm4.drop(['HearAboutX_SMS'], axis=1)\n",
    "X_train_sm5 = sm.add_constant(X_train_sm5)\n",
    "logm7 = sm.GLM(y_train,X_train_sm5, family = sm.families.Binomial())\n",
    "res = logm7.fit()\n",
    "res.summary()"
   ]
  },
  {
   "cell_type": "markdown",
   "metadata": {},
   "source": [
    "### Model 8"
   ]
  },
  {
   "cell_type": "code",
   "execution_count": 85,
   "metadata": {},
   "outputs": [
    {
     "data": {
      "text/html": [
       "<table class=\"simpletable\">\n",
       "<caption>Generalized Linear Model Regression Results</caption>\n",
       "<tr>\n",
       "  <th>Dep. Variable:</th>       <td>Converted</td>    <th>  No. Observations:  </th>  <td>  5190</td> \n",
       "</tr>\n",
       "<tr>\n",
       "  <th>Model:</th>                  <td>GLM</td>       <th>  Df Residuals:      </th>  <td>  5175</td> \n",
       "</tr>\n",
       "<tr>\n",
       "  <th>Model Family:</th>        <td>Binomial</td>     <th>  Df Model:          </th>  <td>    14</td> \n",
       "</tr>\n",
       "<tr>\n",
       "  <th>Link Function:</th>         <td>logit</td>      <th>  Scale:             </th> <td>  1.0000</td>\n",
       "</tr>\n",
       "<tr>\n",
       "  <th>Method:</th>                <td>IRLS</td>       <th>  Log-Likelihood:    </th> <td> -2096.7</td>\n",
       "</tr>\n",
       "<tr>\n",
       "  <th>Date:</th>            <td>Mon, 31 Aug 2020</td> <th>  Deviance:          </th> <td>  4193.5</td>\n",
       "</tr>\n",
       "<tr>\n",
       "  <th>Time:</th>                <td>16:13:55</td>     <th>  Pearson chi2:      </th> <td>6.49e+03</td>\n",
       "</tr>\n",
       "<tr>\n",
       "  <th>No. Iterations:</th>          <td>7</td>        <th>                     </th>     <td> </td>   \n",
       "</tr>\n",
       "<tr>\n",
       "  <th>Covariance Type:</th>     <td>nonrobust</td>    <th>                     </th>     <td> </td>   \n",
       "</tr>\n",
       "</table>\n",
       "<table class=\"simpletable\">\n",
       "<tr>\n",
       "                        <td></td>                          <th>coef</th>     <th>std err</th>      <th>z</th>      <th>P>|z|</th>  <th>[0.025</th>    <th>0.975]</th>  \n",
       "</tr>\n",
       "<tr>\n",
       "  <th>const</th>                                        <td>    0.4687</td> <td>    0.098</td> <td>    4.797</td> <td> 0.000</td> <td>    0.277</td> <td>    0.660</td>\n",
       "</tr>\n",
       "<tr>\n",
       "  <th>NoEmail</th>                                      <td>   -1.6089</td> <td>    0.197</td> <td>   -8.148</td> <td> 0.000</td> <td>   -1.996</td> <td>   -1.222</td>\n",
       "</tr>\n",
       "<tr>\n",
       "  <th>TimeSpent</th>                                    <td>    1.0663</td> <td>    0.041</td> <td>   25.814</td> <td> 0.000</td> <td>    0.985</td> <td>    1.147</td>\n",
       "</tr>\n",
       "<tr>\n",
       "  <th>Lead Origin_Lead Add Form</th>                    <td>    1.7747</td> <td>    0.271</td> <td>    6.545</td> <td> 0.000</td> <td>    1.243</td> <td>    2.306</td>\n",
       "</tr>\n",
       "<tr>\n",
       "  <th>Lead Source_Welingak Website</th>                 <td>    3.2576</td> <td>    1.066</td> <td>    3.056</td> <td> 0.002</td> <td>    1.169</td> <td>    5.347</td>\n",
       "</tr>\n",
       "<tr>\n",
       "  <th>TotalVisits_1</th>                                <td>   -0.8499</td> <td>    0.241</td> <td>   -3.519</td> <td> 0.000</td> <td>   -1.323</td> <td>   -0.377</td>\n",
       "</tr>\n",
       "<tr>\n",
       "  <th>Country_unknown</th>                              <td>    0.9837</td> <td>    0.168</td> <td>    5.847</td> <td> 0.000</td> <td>    0.654</td> <td>    1.313</td>\n",
       "</tr>\n",
       "<tr>\n",
       "  <th>Specialization_Rural and Agribusiness</th>        <td>    0.8638</td> <td>    0.365</td> <td>    2.368</td> <td> 0.018</td> <td>    0.149</td> <td>    1.579</td>\n",
       "</tr>\n",
       "<tr>\n",
       "  <th>CurrentOccupation_Working Professional</th>       <td>    2.4120</td> <td>    0.204</td> <td>   11.809</td> <td> 0.000</td> <td>    2.012</td> <td>    2.812</td>\n",
       "</tr>\n",
       "<tr>\n",
       "  <th>Lead Profile_Not Given</th>                       <td>   -2.0407</td> <td>    0.106</td> <td>  -19.224</td> <td> 0.000</td> <td>   -2.249</td> <td>   -1.833</td>\n",
       "</tr>\n",
       "<tr>\n",
       "  <th>Lead Profile_Other Leads</th>                     <td>   -1.4311</td> <td>    0.171</td> <td>   -8.383</td> <td> 0.000</td> <td>   -1.766</td> <td>   -1.097</td>\n",
       "</tr>\n",
       "<tr>\n",
       "  <th>Lead Profile_Student of SomeSchool</th>           <td>   -3.7705</td> <td>    0.490</td> <td>   -7.693</td> <td> 0.000</td> <td>   -4.731</td> <td>   -2.810</td>\n",
       "</tr>\n",
       "<tr>\n",
       "  <th>LastNotableActivity_Had a Phone Conversation</th> <td>    3.1997</td> <td>    1.152</td> <td>    2.778</td> <td> 0.005</td> <td>    0.942</td> <td>    5.457</td>\n",
       "</tr>\n",
       "<tr>\n",
       "  <th>LastNotableActivity_SMS Sent</th>                 <td>    1.5607</td> <td>    0.090</td> <td>   17.390</td> <td> 0.000</td> <td>    1.385</td> <td>    1.737</td>\n",
       "</tr>\n",
       "<tr>\n",
       "  <th>LastNotableActivity_Unreachable</th>              <td>    1.5475</td> <td>    0.632</td> <td>    2.447</td> <td> 0.014</td> <td>    0.308</td> <td>    2.787</td>\n",
       "</tr>\n",
       "</table>"
      ],
      "text/plain": [
       "<class 'statsmodels.iolib.summary.Summary'>\n",
       "\"\"\"\n",
       "                 Generalized Linear Model Regression Results                  \n",
       "==============================================================================\n",
       "Dep. Variable:              Converted   No. Observations:                 5190\n",
       "Model:                            GLM   Df Residuals:                     5175\n",
       "Model Family:                Binomial   Df Model:                           14\n",
       "Link Function:                  logit   Scale:                          1.0000\n",
       "Method:                          IRLS   Log-Likelihood:                -2096.7\n",
       "Date:                Mon, 31 Aug 2020   Deviance:                       4193.5\n",
       "Time:                        16:13:55   Pearson chi2:                 6.49e+03\n",
       "No. Iterations:                     7                                         \n",
       "Covariance Type:            nonrobust                                         \n",
       "================================================================================================================\n",
       "                                                   coef    std err          z      P>|z|      [0.025      0.975]\n",
       "----------------------------------------------------------------------------------------------------------------\n",
       "const                                            0.4687      0.098      4.797      0.000       0.277       0.660\n",
       "NoEmail                                         -1.6089      0.197     -8.148      0.000      -1.996      -1.222\n",
       "TimeSpent                                        1.0663      0.041     25.814      0.000       0.985       1.147\n",
       "Lead Origin_Lead Add Form                        1.7747      0.271      6.545      0.000       1.243       2.306\n",
       "Lead Source_Welingak Website                     3.2576      1.066      3.056      0.002       1.169       5.347\n",
       "TotalVisits_1                                   -0.8499      0.241     -3.519      0.000      -1.323      -0.377\n",
       "Country_unknown                                  0.9837      0.168      5.847      0.000       0.654       1.313\n",
       "Specialization_Rural and Agribusiness            0.8638      0.365      2.368      0.018       0.149       1.579\n",
       "CurrentOccupation_Working Professional           2.4120      0.204     11.809      0.000       2.012       2.812\n",
       "Lead Profile_Not Given                          -2.0407      0.106    -19.224      0.000      -2.249      -1.833\n",
       "Lead Profile_Other Leads                        -1.4311      0.171     -8.383      0.000      -1.766      -1.097\n",
       "Lead Profile_Student of SomeSchool              -3.7705      0.490     -7.693      0.000      -4.731      -2.810\n",
       "LastNotableActivity_Had a Phone Conversation     3.1997      1.152      2.778      0.005       0.942       5.457\n",
       "LastNotableActivity_SMS Sent                     1.5607      0.090     17.390      0.000       1.385       1.737\n",
       "LastNotableActivity_Unreachable                  1.5475      0.632      2.447      0.014       0.308       2.787\n",
       "================================================================================================================\n",
       "\"\"\""
      ]
     },
     "execution_count": 85,
     "metadata": {},
     "output_type": "execute_result"
    }
   ],
   "source": [
    "# Drop 'TotalVisits_17' because p-value is high\n",
    "X_train_sm6 = X_train_sm5.drop('TotalVisits_17', axis=1)\n",
    "X_train_sm6 = sm.add_constant(X_train_sm6)\n",
    "logm8 = sm.GLM(y_train,X_train_sm6, family = sm.families.Binomial())\n",
    "res = logm8.fit()\n",
    "res.summary()"
   ]
  },
  {
   "cell_type": "markdown",
   "metadata": {},
   "source": [
    "### All features have low P value"
   ]
  },
  {
   "cell_type": "code",
   "execution_count": 86,
   "metadata": {},
   "outputs": [
    {
     "data": {
      "text/html": [
       "<div>\n",
       "<style scoped>\n",
       "    .dataframe tbody tr th:only-of-type {\n",
       "        vertical-align: middle;\n",
       "    }\n",
       "\n",
       "    .dataframe tbody tr th {\n",
       "        vertical-align: top;\n",
       "    }\n",
       "\n",
       "    .dataframe thead th {\n",
       "        text-align: right;\n",
       "    }\n",
       "</style>\n",
       "<table border=\"1\" class=\"dataframe\">\n",
       "  <thead>\n",
       "    <tr style=\"text-align: right;\">\n",
       "      <th></th>\n",
       "      <th>Features</th>\n",
       "      <th>VIF</th>\n",
       "    </tr>\n",
       "  </thead>\n",
       "  <tbody>\n",
       "    <tr>\n",
       "      <th>0</th>\n",
       "      <td>const</td>\n",
       "      <td>7.13</td>\n",
       "    </tr>\n",
       "    <tr>\n",
       "      <th>3</th>\n",
       "      <td>Lead Origin_Lead Add Form</td>\n",
       "      <td>1.99</td>\n",
       "    </tr>\n",
       "    <tr>\n",
       "      <th>6</th>\n",
       "      <td>Country_unknown</td>\n",
       "      <td>1.86</td>\n",
       "    </tr>\n",
       "    <tr>\n",
       "      <th>9</th>\n",
       "      <td>Lead Profile_Not Given</td>\n",
       "      <td>1.53</td>\n",
       "    </tr>\n",
       "    <tr>\n",
       "      <th>10</th>\n",
       "      <td>Lead Profile_Other Leads</td>\n",
       "      <td>1.29</td>\n",
       "    </tr>\n",
       "    <tr>\n",
       "      <th>4</th>\n",
       "      <td>Lead Source_Welingak Website</td>\n",
       "      <td>1.17</td>\n",
       "    </tr>\n",
       "    <tr>\n",
       "      <th>11</th>\n",
       "      <td>Lead Profile_Student of SomeSchool</td>\n",
       "      <td>1.16</td>\n",
       "    </tr>\n",
       "    <tr>\n",
       "      <th>8</th>\n",
       "      <td>CurrentOccupation_Working Professional</td>\n",
       "      <td>1.10</td>\n",
       "    </tr>\n",
       "    <tr>\n",
       "      <th>2</th>\n",
       "      <td>TimeSpent</td>\n",
       "      <td>1.09</td>\n",
       "    </tr>\n",
       "    <tr>\n",
       "      <th>13</th>\n",
       "      <td>LastNotableActivity_SMS Sent</td>\n",
       "      <td>1.06</td>\n",
       "    </tr>\n",
       "    <tr>\n",
       "      <th>5</th>\n",
       "      <td>TotalVisits_1</td>\n",
       "      <td>1.05</td>\n",
       "    </tr>\n",
       "    <tr>\n",
       "      <th>1</th>\n",
       "      <td>NoEmail</td>\n",
       "      <td>1.04</td>\n",
       "    </tr>\n",
       "    <tr>\n",
       "      <th>7</th>\n",
       "      <td>Specialization_Rural and Agribusiness</td>\n",
       "      <td>1.00</td>\n",
       "    </tr>\n",
       "    <tr>\n",
       "      <th>12</th>\n",
       "      <td>LastNotableActivity_Had a Phone Conversation</td>\n",
       "      <td>1.00</td>\n",
       "    </tr>\n",
       "    <tr>\n",
       "      <th>14</th>\n",
       "      <td>LastNotableActivity_Unreachable</td>\n",
       "      <td>1.00</td>\n",
       "    </tr>\n",
       "  </tbody>\n",
       "</table>\n",
       "</div>"
      ],
      "text/plain": [
       "                                        Features   VIF\n",
       "0                                          const  7.13\n",
       "3                      Lead Origin_Lead Add Form  1.99\n",
       "6                                Country_unknown  1.86\n",
       "9                         Lead Profile_Not Given  1.53\n",
       "10                      Lead Profile_Other Leads  1.29\n",
       "4                   Lead Source_Welingak Website  1.17\n",
       "11            Lead Profile_Student of SomeSchool  1.16\n",
       "8         CurrentOccupation_Working Professional  1.10\n",
       "2                                      TimeSpent  1.09\n",
       "13                  LastNotableActivity_SMS Sent  1.06\n",
       "5                                  TotalVisits_1  1.05\n",
       "1                                        NoEmail  1.04\n",
       "7          Specialization_Rural and Agribusiness  1.00\n",
       "12  LastNotableActivity_Had a Phone Conversation  1.00\n",
       "14               LastNotableActivity_Unreachable  1.00"
      ]
     },
     "execution_count": 86,
     "metadata": {},
     "output_type": "execute_result"
    }
   ],
   "source": [
    "# Create a dataframe that will contain the names of all the feature variables and their respective VIFs\n",
    "vif = pd.DataFrame()\n",
    "X = X_train_sm6\n",
    "vif['Features'] = X.columns\n",
    "vif['VIF'] = [variance_inflation_factor(X.values, i) for i in range(X.shape[1])]\n",
    "vif['VIF'] = round(vif['VIF'], 2)\n",
    "vif = vif.sort_values(by = \"VIF\", ascending = False)\n",
    "vif"
   ]
  },
  {
   "cell_type": "markdown",
   "metadata": {},
   "source": [
    "### There seems to be no issue of Multicollenearity"
   ]
  },
  {
   "cell_type": "code",
   "execution_count": 89,
   "metadata": {},
   "outputs": [
    {
     "data": {
      "text/plain": [
       "6534    0.809940\n",
       "9175    0.396776\n",
       "4533    0.686203\n",
       "1564    0.887969\n",
       "5304    0.971399\n",
       "5602    0.914143\n",
       "1272    0.076669\n",
       "4793    0.996211\n",
       "1432    0.683969\n",
       "7210    0.263225\n",
       "dtype: float64"
      ]
     },
     "execution_count": 89,
     "metadata": {},
     "output_type": "execute_result"
    }
   ],
   "source": [
    "# Getting the predicted values on the train set\n",
    "y_train_pred = res.predict(X_train_sm6)\n",
    "y_train_pred[:10]"
   ]
  },
  {
   "cell_type": "code",
   "execution_count": 90,
   "metadata": {},
   "outputs": [
    {
     "data": {
      "text/plain": [
       "array([0.80993967, 0.39677624, 0.68620298, 0.88796876, 0.97139899,\n",
       "       0.91414281, 0.07666922, 0.99621069, 0.6839691 , 0.26322468])"
      ]
     },
     "execution_count": 90,
     "metadata": {},
     "output_type": "execute_result"
    }
   ],
   "source": [
    "y_train_pred = y_train_pred.values.reshape(-1)\n",
    "y_train_pred[:10]"
   ]
  },
  {
   "cell_type": "markdown",
   "metadata": {},
   "source": [
    "### Creating a dataframe with the actual Converted flag and the predicted probabilities"
   ]
  },
  {
   "cell_type": "code",
   "execution_count": 91,
   "metadata": {},
   "outputs": [
    {
     "data": {
      "text/html": [
       "<div>\n",
       "<style scoped>\n",
       "    .dataframe tbody tr th:only-of-type {\n",
       "        vertical-align: middle;\n",
       "    }\n",
       "\n",
       "    .dataframe tbody tr th {\n",
       "        vertical-align: top;\n",
       "    }\n",
       "\n",
       "    .dataframe thead th {\n",
       "        text-align: right;\n",
       "    }\n",
       "</style>\n",
       "<table border=\"1\" class=\"dataframe\">\n",
       "  <thead>\n",
       "    <tr style=\"text-align: right;\">\n",
       "      <th></th>\n",
       "      <th>Convert</th>\n",
       "      <th>Convert_Prob</th>\n",
       "      <th>LeadID</th>\n",
       "    </tr>\n",
       "  </thead>\n",
       "  <tbody>\n",
       "    <tr>\n",
       "      <th>0</th>\n",
       "      <td>1</td>\n",
       "      <td>0.809940</td>\n",
       "      <td>6534</td>\n",
       "    </tr>\n",
       "    <tr>\n",
       "      <th>1</th>\n",
       "      <td>0</td>\n",
       "      <td>0.396776</td>\n",
       "      <td>9175</td>\n",
       "    </tr>\n",
       "    <tr>\n",
       "      <th>2</th>\n",
       "      <td>0</td>\n",
       "      <td>0.686203</td>\n",
       "      <td>4533</td>\n",
       "    </tr>\n",
       "    <tr>\n",
       "      <th>3</th>\n",
       "      <td>1</td>\n",
       "      <td>0.887969</td>\n",
       "      <td>1564</td>\n",
       "    </tr>\n",
       "    <tr>\n",
       "      <th>4</th>\n",
       "      <td>1</td>\n",
       "      <td>0.971399</td>\n",
       "      <td>5304</td>\n",
       "    </tr>\n",
       "  </tbody>\n",
       "</table>\n",
       "</div>"
      ],
      "text/plain": [
       "   Convert  Convert_Prob  LeadID\n",
       "0        1      0.809940    6534\n",
       "1        0      0.396776    9175\n",
       "2        0      0.686203    4533\n",
       "3        1      0.887969    1564\n",
       "4        1      0.971399    5304"
      ]
     },
     "execution_count": 91,
     "metadata": {},
     "output_type": "execute_result"
    }
   ],
   "source": [
    "y_train_pred_final = pd.DataFrame({'Convert':y_train.values, 'Convert_Prob':y_train_pred})\n",
    "y_train_pred_final['LeadID'] = y_train.index\n",
    "y_train_pred_final.head()"
   ]
  },
  {
   "cell_type": "markdown",
   "metadata": {},
   "source": [
    "### Creating new column 'predicted' with 1 if Convert_Prob > 0.5 else 0"
   ]
  },
  {
   "cell_type": "code",
   "execution_count": 92,
   "metadata": {},
   "outputs": [
    {
     "data": {
      "text/html": [
       "<div>\n",
       "<style scoped>\n",
       "    .dataframe tbody tr th:only-of-type {\n",
       "        vertical-align: middle;\n",
       "    }\n",
       "\n",
       "    .dataframe tbody tr th {\n",
       "        vertical-align: top;\n",
       "    }\n",
       "\n",
       "    .dataframe thead th {\n",
       "        text-align: right;\n",
       "    }\n",
       "</style>\n",
       "<table border=\"1\" class=\"dataframe\">\n",
       "  <thead>\n",
       "    <tr style=\"text-align: right;\">\n",
       "      <th></th>\n",
       "      <th>Convert</th>\n",
       "      <th>Convert_Prob</th>\n",
       "      <th>LeadID</th>\n",
       "      <th>predicted</th>\n",
       "    </tr>\n",
       "  </thead>\n",
       "  <tbody>\n",
       "    <tr>\n",
       "      <th>0</th>\n",
       "      <td>1</td>\n",
       "      <td>0.809940</td>\n",
       "      <td>6534</td>\n",
       "      <td>1</td>\n",
       "    </tr>\n",
       "    <tr>\n",
       "      <th>1</th>\n",
       "      <td>0</td>\n",
       "      <td>0.396776</td>\n",
       "      <td>9175</td>\n",
       "      <td>0</td>\n",
       "    </tr>\n",
       "    <tr>\n",
       "      <th>2</th>\n",
       "      <td>0</td>\n",
       "      <td>0.686203</td>\n",
       "      <td>4533</td>\n",
       "      <td>1</td>\n",
       "    </tr>\n",
       "    <tr>\n",
       "      <th>3</th>\n",
       "      <td>1</td>\n",
       "      <td>0.887969</td>\n",
       "      <td>1564</td>\n",
       "      <td>1</td>\n",
       "    </tr>\n",
       "    <tr>\n",
       "      <th>4</th>\n",
       "      <td>1</td>\n",
       "      <td>0.971399</td>\n",
       "      <td>5304</td>\n",
       "      <td>1</td>\n",
       "    </tr>\n",
       "  </tbody>\n",
       "</table>\n",
       "</div>"
      ],
      "text/plain": [
       "   Convert  Convert_Prob  LeadID  predicted\n",
       "0        1      0.809940    6534          1\n",
       "1        0      0.396776    9175          0\n",
       "2        0      0.686203    4533          1\n",
       "3        1      0.887969    1564          1\n",
       "4        1      0.971399    5304          1"
      ]
     },
     "execution_count": 92,
     "metadata": {},
     "output_type": "execute_result"
    }
   ],
   "source": [
    "y_train_pred_final['predicted'] = y_train_pred_final.Convert_Prob.map(lambda x: 1 if x > 0.5 else 0)\n",
    "y_train_pred_final.head() # Let's see the head"
   ]
  },
  {
   "cell_type": "code",
   "execution_count": 93,
   "metadata": {},
   "outputs": [
    {
     "name": "stdout",
     "output_type": "stream",
     "text": [
      "[[2786  370]\n",
      " [ 590 1444]]\n"
     ]
    }
   ],
   "source": [
    "# Confusion matrix \n",
    "confusion = metrics.confusion_matrix(y_train_pred_final.Convert, y_train_pred_final.predicted )\n",
    "print(confusion)"
   ]
  },
  {
   "cell_type": "code",
   "execution_count": 94,
   "metadata": {},
   "outputs": [
    {
     "name": "stdout",
     "output_type": "stream",
     "text": [
      "0.815028901734104\n"
     ]
    }
   ],
   "source": [
    "# Let's check the overall accuracy.\n",
    "print(metrics.accuracy_score(y_train_pred_final.Convert, y_train_pred_final.predicted))"
   ]
  },
  {
   "cell_type": "markdown",
   "metadata": {},
   "source": [
    "### Plotting the ROC Curve"
   ]
  },
  {
   "cell_type": "code",
   "execution_count": 95,
   "metadata": {},
   "outputs": [],
   "source": [
    "def draw_roc( actual, probs ):\n",
    "    fpr, tpr, thresholds = metrics.roc_curve( actual, probs,\n",
    "                                              drop_intermediate = False )\n",
    "    auc_score = metrics.roc_auc_score( actual, probs )\n",
    "    plt.figure(figsize=(5, 5))\n",
    "    plt.plot( fpr, tpr, label='ROC curve (area = %0.2f)' % auc_score )\n",
    "    plt.plot([0, 1], [0, 1], 'k--')\n",
    "    plt.xlim([0.0, 1.0])\n",
    "    plt.ylim([0.0, 1.05])\n",
    "    plt.xlabel('False Positive Rate or [1 - True Negative Rate]')\n",
    "    plt.ylabel('True Positive Rate')\n",
    "    plt.title('Receiver operating characteristic example')\n",
    "    plt.legend(loc=\"lower right\")\n",
    "    plt.show()\n",
    "\n",
    "    return None"
   ]
  },
  {
   "cell_type": "code",
   "execution_count": 96,
   "metadata": {},
   "outputs": [
    {
     "data": {
      "image/png": "[encoded data removed]",
      "text/plain": [
       "<Figure size 360x360 with 1 Axes>"
      ]
     },
     "metadata": {
      "needs_background": "light"
     },
     "output_type": "display_data"
    }
   ],
   "source": [
    "fpr, tpr, thresholds = metrics.roc_curve( y_train_pred_final.Convert, y_train_pred_final.Convert_Prob, drop_intermediate = False )\n",
    "draw_roc(y_train_pred_final.Convert, y_train_pred_final.Convert_Prob)"
   ]
  },
  {
   "cell_type": "code",
   "execution_count": 97,
   "metadata": {},
   "outputs": [
    {
     "data": {
      "text/html": [
       "<div>\n",
       "<style scoped>\n",
       "    .dataframe tbody tr th:only-of-type {\n",
       "        vertical-align: middle;\n",
       "    }\n",
       "\n",
       "    .dataframe tbody tr th {\n",
       "        vertical-align: top;\n",
       "    }\n",
       "\n",
       "    .dataframe thead th {\n",
       "        text-align: right;\n",
       "    }\n",
       "</style>\n",
       "<table border=\"1\" class=\"dataframe\">\n",
       "  <thead>\n",
       "    <tr style=\"text-align: right;\">\n",
       "      <th></th>\n",
       "      <th>Convert</th>\n",
       "      <th>Convert_Prob</th>\n",
       "      <th>LeadID</th>\n",
       "      <th>predicted</th>\n",
       "      <th>0.0</th>\n",
       "      <th>0.1</th>\n",
       "      <th>0.2</th>\n",
       "      <th>0.3</th>\n",
       "      <th>0.4</th>\n",
       "      <th>0.5</th>\n",
       "      <th>0.6</th>\n",
       "      <th>0.7</th>\n",
       "      <th>0.8</th>\n",
       "      <th>0.9</th>\n",
       "    </tr>\n",
       "  </thead>\n",
       "  <tbody>\n",
       "    <tr>\n",
       "      <th>0</th>\n",
       "      <td>1</td>\n",
       "      <td>0.809940</td>\n",
       "      <td>6534</td>\n",
       "      <td>1</td>\n",
       "      <td>1</td>\n",
       "      <td>1</td>\n",
       "      <td>1</td>\n",
       "      <td>1</td>\n",
       "      <td>1</td>\n",
       "      <td>1</td>\n",
       "      <td>1</td>\n",
       "      <td>1</td>\n",
       "      <td>1</td>\n",
       "      <td>0</td>\n",
       "    </tr>\n",
       "    <tr>\n",
       "      <th>1</th>\n",
       "      <td>0</td>\n",
       "      <td>0.396776</td>\n",
       "      <td>9175</td>\n",
       "      <td>0</td>\n",
       "      <td>1</td>\n",
       "      <td>1</td>\n",
       "      <td>1</td>\n",
       "      <td>1</td>\n",
       "      <td>0</td>\n",
       "      <td>0</td>\n",
       "      <td>0</td>\n",
       "      <td>0</td>\n",
       "      <td>0</td>\n",
       "      <td>0</td>\n",
       "    </tr>\n",
       "    <tr>\n",
       "      <th>2</th>\n",
       "      <td>0</td>\n",
       "      <td>0.686203</td>\n",
       "      <td>4533</td>\n",
       "      <td>1</td>\n",
       "      <td>1</td>\n",
       "      <td>1</td>\n",
       "      <td>1</td>\n",
       "      <td>1</td>\n",
       "      <td>1</td>\n",
       "      <td>1</td>\n",
       "      <td>1</td>\n",
       "      <td>0</td>\n",
       "      <td>0</td>\n",
       "      <td>0</td>\n",
       "    </tr>\n",
       "    <tr>\n",
       "      <th>3</th>\n",
       "      <td>1</td>\n",
       "      <td>0.887969</td>\n",
       "      <td>1564</td>\n",
       "      <td>1</td>\n",
       "      <td>1</td>\n",
       "      <td>1</td>\n",
       "      <td>1</td>\n",
       "      <td>1</td>\n",
       "      <td>1</td>\n",
       "      <td>1</td>\n",
       "      <td>1</td>\n",
       "      <td>1</td>\n",
       "      <td>1</td>\n",
       "      <td>0</td>\n",
       "    </tr>\n",
       "    <tr>\n",
       "      <th>4</th>\n",
       "      <td>1</td>\n",
       "      <td>0.971399</td>\n",
       "      <td>5304</td>\n",
       "      <td>1</td>\n",
       "      <td>1</td>\n",
       "      <td>1</td>\n",
       "      <td>1</td>\n",
       "      <td>1</td>\n",
       "      <td>1</td>\n",
       "      <td>1</td>\n",
       "      <td>1</td>\n",
       "      <td>1</td>\n",
       "      <td>1</td>\n",
       "      <td>1</td>\n",
       "    </tr>\n",
       "  </tbody>\n",
       "</table>\n",
       "</div>"
      ],
      "text/plain": [
       "   Convert  Convert_Prob  LeadID  predicted  0.0  0.1  0.2  0.3  0.4  0.5  \\\n",
       "0        1      0.809940    6534          1    1    1    1    1    1    1   \n",
       "1        0      0.396776    9175          0    1    1    1    1    0    0   \n",
       "2        0      0.686203    4533          1    1    1    1    1    1    1   \n",
       "3        1      0.887969    1564          1    1    1    1    1    1    1   \n",
       "4        1      0.971399    5304          1    1    1    1    1    1    1   \n",
       "\n",
       "   0.6  0.7  0.8  0.9  \n",
       "0    1    1    1    0  \n",
       "1    0    0    0    0  \n",
       "2    1    0    0    0  \n",
       "3    1    1    1    0  \n",
       "4    1    1    1    1  "
      ]
     },
     "execution_count": 97,
     "metadata": {},
     "output_type": "execute_result"
    }
   ],
   "source": [
    "# Let's create columns with different probability cutoffs \n",
    "numbers = [float(x)/10 for x in range(10)]\n",
    "for i in numbers:\n",
    "    y_train_pred_final[i]= y_train_pred_final.Convert_Prob.map(lambda x: 1 if x > i else 0)\n",
    "y_train_pred_final.head()"
   ]
  },
  {
   "cell_type": "code",
   "execution_count": 98,
   "metadata": {},
   "outputs": [
    {
     "name": "stdout",
     "output_type": "stream",
     "text": [
      "     prob  accuracy  sensitivity  specificity\n",
      "0.0   0.0  0.391908     1.000000     0.000000\n",
      "0.1   0.1  0.650096     0.962635     0.448669\n",
      "0.2   0.2  0.772062     0.924287     0.673954\n",
      "0.3   0.3  0.800771     0.875615     0.752535\n",
      "0.4   0.4  0.810405     0.787611     0.825095\n",
      "0.5   0.5  0.815029     0.709931     0.882763\n",
      "0.6   0.6  0.809249     0.634218     0.922053\n",
      "0.7   0.7  0.791715     0.556539     0.943283\n",
      "0.8   0.8  0.761464     0.440511     0.968314\n",
      "0.9   0.9  0.707514     0.271878     0.988276\n"
     ]
    }
   ],
   "source": [
    "# Now let's calculate accuracy sensitivity and specificity for various probability cutoffs.\n",
    "cutoff_df = pd.DataFrame( columns = ['prob','accuracy','sensitivity','specificity'])\n",
    "from sklearn.metrics import confusion_matrix\n",
    "\n",
    "# TP = confusion[1,1] # true positive \n",
    "# TN = confusion[0,0] # true negatives\n",
    "# FP = confusion[0,1] # false positives\n",
    "# FN = confusion[1,0] # false negatives\n",
    "\n",
    "num = [0.0,0.1,0.2,0.3,0.4,0.5,0.6,0.7,0.8,0.9]\n",
    "for i in num:\n",
    "    cm1 = metrics.confusion_matrix(y_train_pred_final.Convert, y_train_pred_final[i] )\n",
    "    total1=sum(sum(cm1))\n",
    "    accuracy = (cm1[0,0]+cm1[1,1])/total1\n",
    "    \n",
    "    speci = cm1[0,0]/(cm1[0,0]+cm1[0,1])\n",
    "    sensi = cm1[1,1]/(cm1[1,0]+cm1[1,1])\n",
    "    cutoff_df.loc[i] =[ i ,accuracy,sensi,speci]\n",
    "print(cutoff_df)"
   ]
  },
  {
   "cell_type": "code",
   "execution_count": 99,
   "metadata": {},
   "outputs": [
    {
     "data": {
      "image/png": "[encoded data removed]",
      "text/plain": [
       "<Figure size 432x288 with 1 Axes>"
      ]
     },
     "metadata": {
      "needs_background": "light"
     },
     "output_type": "display_data"
    }
   ],
   "source": [
    "# Let's plot accuracy sensitivity and specificity for various probabilities.\n",
    "cutoff_df.plot.line(x='prob', y=['accuracy','sensitivity','specificity'])\n",
    "plt.show()"
   ]
  },
  {
   "cell_type": "markdown",
   "metadata": {},
   "source": [
    "#### From the curve above, 0.38 is the optimum point to take it as a cutoff probability."
   ]
  },
  {
   "cell_type": "code",
   "execution_count": 100,
   "metadata": {},
   "outputs": [
    {
     "data": {
      "text/html": [
       "<div>\n",
       "<style scoped>\n",
       "    .dataframe tbody tr th:only-of-type {\n",
       "        vertical-align: middle;\n",
       "    }\n",
       "\n",
       "    .dataframe tbody tr th {\n",
       "        vertical-align: top;\n",
       "    }\n",
       "\n",
       "    .dataframe thead th {\n",
       "        text-align: right;\n",
       "    }\n",
       "</style>\n",
       "<table border=\"1\" class=\"dataframe\">\n",
       "  <thead>\n",
       "    <tr style=\"text-align: right;\">\n",
       "      <th></th>\n",
       "      <th>Convert</th>\n",
       "      <th>Convert_Prob</th>\n",
       "      <th>LeadID</th>\n",
       "      <th>predicted</th>\n",
       "      <th>0.0</th>\n",
       "      <th>0.1</th>\n",
       "      <th>0.2</th>\n",
       "      <th>0.3</th>\n",
       "      <th>0.4</th>\n",
       "      <th>0.5</th>\n",
       "      <th>0.6</th>\n",
       "      <th>0.7</th>\n",
       "      <th>0.8</th>\n",
       "      <th>0.9</th>\n",
       "      <th>final_predicted</th>\n",
       "    </tr>\n",
       "  </thead>\n",
       "  <tbody>\n",
       "    <tr>\n",
       "      <th>0</th>\n",
       "      <td>1</td>\n",
       "      <td>0.809940</td>\n",
       "      <td>6534</td>\n",
       "      <td>1</td>\n",
       "      <td>1</td>\n",
       "      <td>1</td>\n",
       "      <td>1</td>\n",
       "      <td>1</td>\n",
       "      <td>1</td>\n",
       "      <td>1</td>\n",
       "      <td>1</td>\n",
       "      <td>1</td>\n",
       "      <td>1</td>\n",
       "      <td>0</td>\n",
       "      <td>1</td>\n",
       "    </tr>\n",
       "    <tr>\n",
       "      <th>1</th>\n",
       "      <td>0</td>\n",
       "      <td>0.396776</td>\n",
       "      <td>9175</td>\n",
       "      <td>0</td>\n",
       "      <td>1</td>\n",
       "      <td>1</td>\n",
       "      <td>1</td>\n",
       "      <td>1</td>\n",
       "      <td>0</td>\n",
       "      <td>0</td>\n",
       "      <td>0</td>\n",
       "      <td>0</td>\n",
       "      <td>0</td>\n",
       "      <td>0</td>\n",
       "      <td>1</td>\n",
       "    </tr>\n",
       "    <tr>\n",
       "      <th>2</th>\n",
       "      <td>0</td>\n",
       "      <td>0.686203</td>\n",
       "      <td>4533</td>\n",
       "      <td>1</td>\n",
       "      <td>1</td>\n",
       "      <td>1</td>\n",
       "      <td>1</td>\n",
       "      <td>1</td>\n",
       "      <td>1</td>\n",
       "      <td>1</td>\n",
       "      <td>1</td>\n",
       "      <td>0</td>\n",
       "      <td>0</td>\n",
       "      <td>0</td>\n",
       "      <td>1</td>\n",
       "    </tr>\n",
       "    <tr>\n",
       "      <th>3</th>\n",
       "      <td>1</td>\n",
       "      <td>0.887969</td>\n",
       "      <td>1564</td>\n",
       "      <td>1</td>\n",
       "      <td>1</td>\n",
       "      <td>1</td>\n",
       "      <td>1</td>\n",
       "      <td>1</td>\n",
       "      <td>1</td>\n",
       "      <td>1</td>\n",
       "      <td>1</td>\n",
       "      <td>1</td>\n",
       "      <td>1</td>\n",
       "      <td>0</td>\n",
       "      <td>1</td>\n",
       "    </tr>\n",
       "    <tr>\n",
       "      <th>4</th>\n",
       "      <td>1</td>\n",
       "      <td>0.971399</td>\n",
       "      <td>5304</td>\n",
       "      <td>1</td>\n",
       "      <td>1</td>\n",
       "      <td>1</td>\n",
       "      <td>1</td>\n",
       "      <td>1</td>\n",
       "      <td>1</td>\n",
       "      <td>1</td>\n",
       "      <td>1</td>\n",
       "      <td>1</td>\n",
       "      <td>1</td>\n",
       "      <td>1</td>\n",
       "      <td>1</td>\n",
       "    </tr>\n",
       "  </tbody>\n",
       "</table>\n",
       "</div>"
      ],
      "text/plain": [
       "   Convert  Convert_Prob  LeadID  predicted  0.0  0.1  0.2  0.3  0.4  0.5  \\\n",
       "0        1      0.809940    6534          1    1    1    1    1    1    1   \n",
       "1        0      0.396776    9175          0    1    1    1    1    0    0   \n",
       "2        0      0.686203    4533          1    1    1    1    1    1    1   \n",
       "3        1      0.887969    1564          1    1    1    1    1    1    1   \n",
       "4        1      0.971399    5304          1    1    1    1    1    1    1   \n",
       "\n",
       "   0.6  0.7  0.8  0.9  final_predicted  \n",
       "0    1    1    1    0                1  \n",
       "1    0    0    0    0                1  \n",
       "2    1    0    0    0                1  \n",
       "3    1    1    1    0                1  \n",
       "4    1    1    1    1                1  "
      ]
     },
     "execution_count": 100,
     "metadata": {},
     "output_type": "execute_result"
    }
   ],
   "source": [
    "y_train_pred_final['final_predicted'] = y_train_pred_final.Convert_Prob.map( lambda x: 1 if x > 0.38 else 0)\n",
    "y_train_pred_final.head()"
   ]
  },
  {
   "cell_type": "code",
   "execution_count": 101,
   "metadata": {},
   "outputs": [
    {
     "data": {
      "text/plain": [
       "0.8090558766859345"
      ]
     },
     "execution_count": 101,
     "metadata": {},
     "output_type": "execute_result"
    }
   ],
   "source": [
    "# Let's check the overall accuracy.\n",
    "metrics.accuracy_score(y_train_pred_final.Convert, y_train_pred_final.final_predicted)"
   ]
  },
  {
   "cell_type": "markdown",
   "metadata": {},
   "source": [
    "### Making predictions on the test set"
   ]
  },
  {
   "cell_type": "code",
   "execution_count": 102,
   "metadata": {},
   "outputs": [
    {
     "data": {
      "text/plain": [
       "0.813932584269663"
      ]
     },
     "execution_count": 102,
     "metadata": {},
     "output_type": "execute_result"
    }
   ],
   "source": [
    "X_test[['TimeSpent','PageView']] = scaler.transform(X_test[['TimeSpent','PageView']])\n",
    "X_test1 = sm.add_constant(X_test)\n",
    "X_test_sm = X_test1[X_train_sm6.columns]\n",
    "y_test_pred = res.predict(X_test_sm)\n",
    "y_pred_1 = pd.DataFrame(y_test_pred)\n",
    "y_test_df = pd.DataFrame(y_test)\n",
    "y_test_df['LeadID'] = y_test_df.index\n",
    "y_pred_1.reset_index(drop=True, inplace=True)\n",
    "y_test_df.reset_index(drop=True, inplace=True)\n",
    "y_pred_final = pd.concat([y_test_df, y_pred_1],axis=1)\n",
    "y_pred_final= y_pred_final.rename(columns={ 0 : 'Convert_Prob'})\n",
    "y_pred_final = y_pred_final.reindex(['LeadID','Converted','Convert_Prob'], axis=1)\n",
    "y_pred_final['final_predicted'] = y_pred_final.Convert_Prob.map(lambda x: 1 if x > 0.38 else 0)\n",
    "# Let's check the overall accuracy.\n",
    "metrics.accuracy_score(y_pred_final.Converted, y_pred_final.final_predicted)"
   ]
  },
  {
   "cell_type": "markdown",
   "metadata": {},
   "source": [
    "## The model is performing better on test data than on train data ! Excellent"
   ]
  },
  {
   "cell_type": "markdown",
   "metadata": {},
   "source": [
    "### Assign lead score between 0 and 100"
   ]
  },
  {
   "cell_type": "code",
   "execution_count": 103,
   "metadata": {},
   "outputs": [],
   "source": [
    "y_pred_final['Score'] = y_pred_final.Convert_Prob.map(lambda x: round(x*100))\n",
    "y_train_pred_final['Score'] = y_train_pred_final.Convert_Prob.map(lambda x: round(x*100))"
   ]
  },
  {
   "cell_type": "code",
   "execution_count": 104,
   "metadata": {},
   "outputs": [
    {
     "name": "stdout",
     "output_type": "stream",
     "text": [
      "Conversion rate at Score above 10: 54.19\n",
      "Conversion rate at Score above 20: 64.91\n",
      "Conversion rate at Score above 30: 69.64\n",
      "Conversion rate at Score above 40: 74.77\n",
      "Conversion rate at Score above 50: 79.73\n",
      "Conversion rate at Score above 60: 84.33\n",
      "Conversion rate at Score above 70: 86.59\n",
      "Conversion rate at Score above 80: 90.35\n",
      "Conversion rate at Score above 90: 93.82\n"
     ]
    }
   ],
   "source": [
    "num = [10,20,30,40,50,60,70,80,90]\n",
    "for i in num:\n",
    "    getConversion_rate = y_train_pred_final[y_train_pred_final['Score'] >i]\n",
    "    totalActualConvertion = getConversion_rate['Convert'].sum()\n",
    "    totalLeads = getConversion_rate['Score'].count()\n",
    "    print('Conversion rate at Score above ' + str(i) + ': ' + str(round(100*totalActualConvertion/totalLeads,2)))"
   ]
  },
  {
   "cell_type": "markdown",
   "metadata": {},
   "source": [
    "### So, Leads with score above 50 are hot leads.  \n",
    "#### The edutech company should prioritize leads with Score more than 50 to get expected conversion rate of about 80%"
   ]
  },
  {
   "cell_type": "code",
   "execution_count": null,
   "metadata": {},
   "outputs": [],
   "source": []
  },
  {
   "cell_type": "markdown",
   "metadata": {},
   "source": [
    "    Top three contributing variables are:\n",
    "    • Lead Source_Welingak Website\twith +3.2576 coefficient\n",
    "    • LastNotableActivity_Had a Phone Conversation\twith +3.1997 coefficient\n",
    "    • CurrentOccupation_Working Professional with\t+2.4120 coefficient\n",
    "Above variables are contributing most because coefficient values of these variables in the logistic regression model are the highest three values."
   ]
  },
  {
   "cell_type": "markdown",
   "metadata": {},
   "source": [
    "    \n",
    "\n",
    "If The Education company wants to aggressively increase the conversion rate, it has to go for leads with scores of 0.38 or more."
   ]
  },
  {
   "cell_type": "markdown",
   "metadata": {},
   "source": [
    " Similarly, at times, the company reaches its target for a quarter before the deadline. During this time, the company wants the sales team to focus on some new work as well. So during this time, the company’s aim is to not make phone calls unless it’s extremely necessary, i.e. they want to minimize the rate of useless phone calls.\n",
    "\n",
    " In this case the Edutech company should consider leads with higher scores than 60. If they give phone call to leads with Score 80 or above, conversion rate is expected to be around 90% from the given data."
   ]
  },
  {
   "cell_type": "code",
   "execution_count": null,
   "metadata": {},
   "outputs": [],
   "source": []
  }
 ],
 "metadata": {
  "kernelspec": {
   "display_name": "Python 3",
   "language": "python",
   "name": "python3"
  },
  "language_info": {
   "codemirror_mode": {
    "name": "ipython",
    "version": 3
   },
   "file_extension": ".py",
   "mimetype": "text/x-python",
   "name": "python",
   "nbconvert_exporter": "python",
   "pygments_lexer": "ipython3",
   "version": "3.8.3"
  }
 },
 "nbformat": 4,
 "nbformat_minor": 4
}
